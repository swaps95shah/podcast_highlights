{
 "cells": [
  {
   "cell_type": "code",
   "execution_count": 1,
   "id": "EbPpcg-PPSPF",
   "metadata": {
    "id": "EbPpcg-PPSPF"
   },
   "outputs": [],
   "source": [
    "from IPython.display import HTML, display\n",
    "\n",
    "def set_css():\n",
    "  display(HTML('''\n",
    "  <style>\n",
    "    pre {\n",
    "        white-space: pre-wrap;\n",
    "    }\n",
    "  </style>\n",
    "  '''))\n",
    "get_ipython().events.register('pre_run_cell', set_css)"
   ]
  },
  {
   "cell_type": "code",
   "execution_count": 1,
   "id": "AiHNfRix0cCX",
   "metadata": {
    "id": "AiHNfRix0cCX"
   },
   "outputs": [],
   "source": []
  },
  {
   "cell_type": "code",
   "execution_count": 1,
   "id": "d851db34-300a-45fe-9b5d-97b213cb31dd",
   "metadata": {
    "colab": {
     "base_uri": "https://localhost:8080/",
     "height": 17
    },
    "id": "d851db34-300a-45fe-9b5d-97b213cb31dd",
    "outputId": "f8e83e46-13cb-4936-8d98-1dae08304c13"
   },
   "outputs": [],
   "source": [
    "import os, json\n",
    "import pandas as pd\n",
    "import numpy as np\n",
    "import glob\n",
    "df = pd.DataFrame()\n",
    "\n",
    "path_to_json = 'data/' \n",
    "\n",
    "json_pattern = os.path.join(path_to_json,'*.json')\n",
    "file_list = glob.glob(json_pattern)\n",
    "\n",
    "for file in file_list:\n",
    "    data = pd.read_json(file, lines=True)\n",
    "    df = pd.concat([df,data], ignore_index = True)"
   ]
  },
  {
   "cell_type": "code",
   "execution_count": 2,
   "id": "d3304b86-ee53-4ff7-bdc3-012e416d845b",
   "metadata": {
    "colab": {
     "base_uri": "https://localhost:8080/",
     "height": 17
    },
    "id": "d3304b86-ee53-4ff7-bdc3-012e416d845b",
    "outputId": "bc8d2384-b318-4a03-e75c-de71b5360933"
   },
   "outputs": [],
   "source": [
    "json_struct = json.loads(df.to_json(orient=\"records\"))\n",
    "df_flat = pd.json_normalize(json_struct)"
   ]
  },
  {
   "cell_type": "code",
   "execution_count": 3,
   "id": "wVa1N_jlWJHD",
   "metadata": {
    "colab": {
     "base_uri": "https://localhost:8080/",
     "height": 392
    },
    "id": "wVa1N_jlWJHD",
    "outputId": "d117e9ef-5fe5-4255-a5c0-24fc694e4b69"
   },
   "outputs": [
    {
     "data": {
      "text/plain": [
       "['data/this-american-life_getting-out.json',\n",
       " 'data/npr-politics_school-mask-ban.json',\n",
       " 'data/conan-obrien_cecily-strong.json',\n",
       " 'data/99-invisible_matters-of-time.json',\n",
       " 'data/npr-politics_cutting-unemployment.json',\n",
       " 'data/radiolab_dark-side-of-the-earth.json',\n",
       " 'data/masters-of-scale_build-the-right-flywheel.json',\n",
       " 'data/my-first-million_the-secret-to-being-great.json',\n",
       " 'data/the-internet-says-its-true_hollywood.json',\n",
       " 'data/npr-politics_august-27th.json',\n",
       " 'data/a16z_developers-as-creatives.json',\n",
       " 'data/the-internet-says-its-true_hidden-village.json',\n",
       " 'data/this-american-life_essential.json',\n",
       " 'data/conan-obrien_joel-mchale.json',\n",
       " 'data/my-first-million_how-to-build-a-community.json',\n",
       " 'data/99-invisible_stuff-the-british-stole.json',\n",
       " 'data/masters-of-scale_make-it-epic.json',\n",
       " 'data/radiolab_dinopocalypse-redux.json',\n",
       " 'data/a16z_malaria-vaccine.json',\n",
       " 'data/a16z_crypto.json',\n",
       " 'data/masters-of-scale_master-your-emotions.json']"
      ]
     },
     "execution_count": 3,
     "metadata": {},
     "output_type": "execute_result"
    }
   ],
   "source": [
    "file_list"
   ]
  },
  {
   "cell_type": "code",
   "execution_count": 4,
   "id": "69853fac-4f05-4726-b9ac-68d278643024",
   "metadata": {
    "colab": {
     "base_uri": "https://localhost:8080/",
     "height": 17
    },
    "id": "69853fac-4f05-4726-b9ac-68d278643024",
    "outputId": "1086b82c-cbe7-4a3d-8b47-83b895a7cfde"
   },
   "outputs": [],
   "source": [
    "test_file = open('data/masters-of-scale_build-the-right-flywheel.json')\n",
    "test_file = json.load(test_file)"
   ]
  },
  {
   "cell_type": "code",
   "execution_count": 5,
   "id": "8ae4cc0f-1cee-4211-bedd-497ad41a51d5",
   "metadata": {
    "colab": {
     "base_uri": "https://localhost:8080/",
     "height": 35
    },
    "id": "8ae4cc0f-1cee-4211-bedd-497ad41a51d5",
    "outputId": "ef1ef3fb-2955-470f-ef1d-69dad0704535"
   },
   "outputs": [
    {
     "data": {
      "text/plain": [
       "dict_keys(['transcriber', 'created', 'results'])"
      ]
     },
     "execution_count": 5,
     "metadata": {},
     "output_type": "execute_result"
    }
   ],
   "source": [
    "test_file.keys()"
   ]
  },
  {
   "cell_type": "code",
   "execution_count": 6,
   "id": "54a217b8-7c08-419e-8e6d-81843c009f66",
   "metadata": {
    "colab": {
     "base_uri": "https://localhost:8080/",
     "height": 35
    },
    "id": "54a217b8-7c08-419e-8e6d-81843c009f66",
    "outputId": "75773eb5-82ee-4b9f-a474-bce20d7b12dd"
   },
   "outputs": [
    {
     "data": {
      "text/plain": [
       "dict_keys(['transcripts', 'items'])"
      ]
     },
     "execution_count": 6,
     "metadata": {},
     "output_type": "execute_result"
    }
   ],
   "source": [
    "test_file['results'].keys()"
   ]
  },
  {
   "cell_type": "code",
   "execution_count": 7,
   "id": "c4765011-6f48-4f2b-b7f7-a9d8f61a0160",
   "metadata": {
    "colab": {
     "base_uri": "https://localhost:8080/",
     "height": 17
    },
    "id": "c4765011-6f48-4f2b-b7f7-a9d8f61a0160",
    "outputId": "b0d2c1c6-d3dd-477f-e398-41b99e16566d"
   },
   "outputs": [
    {
     "data": {
      "text/plain": [
       "list"
      ]
     },
     "execution_count": 7,
     "metadata": {},
     "output_type": "execute_result"
    }
   ],
   "source": [
    "type(test_file['results']['items'])"
   ]
  },
  {
   "cell_type": "code",
   "execution_count": 8,
   "id": "b7753968-3e13-42f8-9898-da81c2abb371",
   "metadata": {},
   "outputs": [
    {
     "data": {
      "text/plain": [
       "{'start_time': 0.08,\n",
       " 'end_time': 0.16,\n",
       " 'alternatives': [{'confidence': '1.0', 'content': 'Hi'}],\n",
       " 'type': 'pronunciation'}"
      ]
     },
     "execution_count": 8,
     "metadata": {},
     "output_type": "execute_result"
    }
   ],
   "source": [
    "test_file['results']['items'][0]"
   ]
  },
  {
   "cell_type": "code",
   "execution_count": 9,
   "id": "43f9808c-4b0d-4d85-bfae-c6b01971ed12",
   "metadata": {},
   "outputs": [
    {
     "data": {
      "text/plain": [
       "{'start_time': 2792.08,\n",
       " 'end_time': 2792.32,\n",
       " 'alternatives': [{'confidence': '1.0', 'content': 'Howard'}],\n",
       " 'type': 'pronunciation'}"
      ]
     },
     "execution_count": 9,
     "metadata": {},
     "output_type": "execute_result"
    }
   ],
   "source": [
    "test_file['results']['items'][-1]"
   ]
  },
  {
   "cell_type": "code",
   "execution_count": 9,
   "id": "XNUlznQ70kg1",
   "metadata": {
    "colab": {
     "base_uri": "https://localhost:8080/",
     "height": 17
    },
    "id": "XNUlznQ70kg1",
    "outputId": "5019014a-c4bb-4d5c-aaf0-8776054b8bc7"
   },
   "outputs": [
    {
     "data": {
      "text/html": [
       "\n",
       "  <style>\n",
       "    pre {\n",
       "        white-space: pre-wrap;\n",
       "    }\n",
       "  </style>\n",
       "  "
      ],
      "text/plain": [
       "<IPython.core.display.HTML object>"
      ]
     },
     "metadata": {},
     "output_type": "display_data"
    }
   ],
   "source": [
    "from generate import Highlighter"
   ]
  },
  {
   "cell_type": "code",
   "execution_count": 10,
   "id": "ib4ybWNc0utW",
   "metadata": {
    "colab": {
     "base_uri": "https://localhost:8080/",
     "height": 53
    },
    "id": "ib4ybWNc0utW",
    "outputId": "d9ae4fca-f47d-428e-861d-68051a4bc676"
   },
   "outputs": [
    {
     "data": {
      "text/html": [
       "\n",
       "  <style>\n",
       "    pre {\n",
       "        white-space: pre-wrap;\n",
       "    }\n",
       "  </style>\n",
       "  "
      ],
      "text/plain": [
       "<IPython.core.display.HTML object>"
      ]
     },
     "metadata": {},
     "output_type": "display_data"
    },
    {
     "name": "stderr",
     "output_type": "stream",
     "text": [
      "[nltk_data] Downloading package punkt to /root/nltk_data...\n",
      "[nltk_data]   Package punkt is already up-to-date!\n"
     ]
    }
   ],
   "source": [
    "model = Highlighter()"
   ]
  },
  {
   "cell_type": "code",
   "execution_count": 11,
   "id": "vLm-UWVt00RR",
   "metadata": {
    "colab": {
     "base_uri": "https://localhost:8080/",
     "height": 803
    },
    "id": "vLm-UWVt00RR",
    "outputId": "139d8d3b-0249-49f2-d967-cfb65f1ab8ce"
   },
   "outputs": [
    {
     "data": {
      "text/html": [
       "\n",
       "  <style>\n",
       "    pre {\n",
       "        white-space: pre-wrap;\n",
       "    }\n",
       "  </style>\n",
       "  "
      ],
      "text/plain": [
       "<IPython.core.display.HTML object>"
      ]
     },
     "metadata": {},
     "output_type": "display_data"
    },
    {
     "data": {
      "text/plain": [
       "{0: \"Hi Listeners, it's read here with some exciting news. The master scale book is now on sale. If you enjoy this podcast you're absolute going to love this book, the Master Scale Book Delivers Real Entrepreneurial Wisdom and some of the most transformative business advice.\",\n",
       " 1: \"My Africanamerican kids, it was easier to teach them to read and write and harder to teach them to speak, and so we did a lot in pairs so that they could build off of one another's strengths and weaknesses. I wanted them to learn some Spanish.\",\n",
       " 2: 'These products did not arrive until December twenty. Third, how did Matthew break the bad news to his customers and how did that experience influence?',\n",
       " 3: \"I wanted to talk to Wendy cop about this, because she's thought of not just one but two networks across her career. The first teach for America was a brand new model for connecting high performing college graduates with underserved school districts across the country since they're founding in one thousand nine hundred ninety they have trained and placed over sixty thousand new teachers across the United States, with teach for all.\",\n",
       " 4: \"I was just searching for something I wasn't finding in terms of what I wanted to do with my life, I mean I'd, become a you know, very concerned college student concerned about the inequities in our country and all the recruiters in one thousand nine hundred. Eighty nine have liberal arts graduates like myself were investment banks, AD management, consulting firms banging down our doors, saying commit just two years to work in our firms, and I just I really didn't want to do that.\",\n",
       " 5: \"Wasn't an education major, but the desperate state of the country school systems had been all over the news I became obsessed with that idea like it was my answer to what to do, and it was my thesis topic which I also hadn't thought of Wendy might have written her thesis gotten in her grade and been done with it, but the more she researched the more the idea wouldn't let go which led to a classic entrepreneurship moment. You might recognize when I started writing the thesis, it wasn't to say, I'm going to start this.\",\n",
       " 6: 'It just felt to me like the window was going to pass like the Moudon College. Campuses is perfect.',\n",
       " 7: \"For instance, we had no plan for what to do when twenty five hundred applications came in and needed to be reviewed like we did have people interviewing, but there was just never thought given to WHO's going to review those applications and figure out who we're selecting. But despite the youth and the inexperience of her small team, it all managed to come together.\",\n",
       " 8: 'We hit the wall like year, for I call these the dark years. We spent three years where literally every two weeks, I was truly uncertain that we would have the money to meet payroll.'}"
      ]
     },
     "execution_count": 11,
     "metadata": {},
     "output_type": "execute_result"
    }
   ],
   "source": [
    "model.get_highlights(sample)"
   ]
  },
  {
   "cell_type": "code",
   "execution_count": 220,
   "id": "2a30b89b-e0d4-4cca-9461-4e80bcee34f4",
   "metadata": {
    "colab": {
     "base_uri": "https://localhost:8080/",
     "height": 71
    },
    "id": "2a30b89b-e0d4-4cca-9461-4e80bcee34f4",
    "outputId": "30841a48-4e26-4875-d4e0-bcd80ef41b4b"
   },
   "outputs": [
    {
     "data": {
      "text/html": [
       "\n",
       "  <style>\n",
       "    pre {\n",
       "        white-space: pre-wrap;\n",
       "    }\n",
       "  </style>\n",
       "  "
      ],
      "text/plain": [
       "<IPython.core.display.HTML object>"
      ]
     },
     "metadata": {},
     "output_type": "display_data"
    },
    {
     "data": {
      "text/html": [
       "\n",
       "  <style>\n",
       "    pre {\n",
       "        white-space: pre-wrap;\n",
       "    }\n",
       "  </style>\n",
       "  "
      ],
      "text/plain": [
       "<IPython.core.display.HTML object>"
      ]
     },
     "metadata": {},
     "output_type": "display_data"
    },
    {
     "name": "stderr",
     "output_type": "stream",
     "text": [
      "[nltk_data] Downloading package punkt to /root/nltk_data...\n",
      "[nltk_data]   Package punkt is already up-to-date!\n"
     ]
    },
    {
     "data": {
      "text/plain": [
       "True"
      ]
     },
     "execution_count": 220,
     "metadata": {},
     "output_type": "execute_result"
    }
   ],
   "source": [
    "import nltk\n",
    "nltk.download('punkt')"
   ]
  },
  {
   "cell_type": "code",
   "execution_count": 221,
   "id": "c1c418ea-b51f-4ec9-8b25-af5d61ace2fc",
   "metadata": {
    "colab": {
     "base_uri": "https://localhost:8080/",
     "height": 17
    },
    "id": "c1c418ea-b51f-4ec9-8b25-af5d61ace2fc",
    "outputId": "1abf6619-6992-4fdd-9653-ffe0cd10bebd"
   },
   "outputs": [
    {
     "data": {
      "text/html": [
       "\n",
       "  <style>\n",
       "    pre {\n",
       "        white-space: pre-wrap;\n",
       "    }\n",
       "  </style>\n",
       "  "
      ],
      "text/plain": [
       "<IPython.core.display.HTML object>"
      ]
     },
     "metadata": {},
     "output_type": "display_data"
    },
    {
     "data": {
      "text/html": [
       "\n",
       "  <style>\n",
       "    pre {\n",
       "        white-space: pre-wrap;\n",
       "    }\n",
       "  </style>\n",
       "  "
      ],
      "text/plain": [
       "<IPython.core.display.HTML object>"
      ]
     },
     "metadata": {},
     "output_type": "display_data"
    }
   ],
   "source": [
    "sentences = nltk.tokenize.sent_tokenize(sample)"
   ]
  },
  {
   "cell_type": "code",
   "execution_count": 222,
   "id": "b7793895-c477-4045-b7f7-8734d1a98bdd",
   "metadata": {
    "colab": {
     "base_uri": "https://localhost:8080/",
     "height": 17
    },
    "id": "b7793895-c477-4045-b7f7-8734d1a98bdd",
    "outputId": "f2a18bd2-d35f-4c9c-b83b-9ca8c72007fd"
   },
   "outputs": [
    {
     "data": {
      "text/html": [
       "\n",
       "  <style>\n",
       "    pre {\n",
       "        white-space: pre-wrap;\n",
       "    }\n",
       "  </style>\n",
       "  "
      ],
      "text/plain": [
       "<IPython.core.display.HTML object>"
      ]
     },
     "metadata": {},
     "output_type": "display_data"
    },
    {
     "data": {
      "text/html": [
       "\n",
       "  <style>\n",
       "    pre {\n",
       "        white-space: pre-wrap;\n",
       "    }\n",
       "  </style>\n",
       "  "
      ],
      "text/plain": [
       "<IPython.core.display.HTML object>"
      ]
     },
     "metadata": {},
     "output_type": "display_data"
    }
   ],
   "source": [
    "#!pip install hyperopt"
   ]
  },
  {
   "cell_type": "code",
   "execution_count": 223,
   "id": "a8081652-5ee8-488d-bd41-5c7600cdaea4",
   "metadata": {
    "colab": {
     "base_uri": "https://localhost:8080/",
     "height": 17
    },
    "id": "a8081652-5ee8-488d-bd41-5c7600cdaea4",
    "outputId": "203c8973-513e-411d-d487-3660a5946ce3"
   },
   "outputs": [
    {
     "data": {
      "text/html": [
       "\n",
       "  <style>\n",
       "    pre {\n",
       "        white-space: pre-wrap;\n",
       "    }\n",
       "  </style>\n",
       "  "
      ],
      "text/plain": [
       "<IPython.core.display.HTML object>"
      ]
     },
     "metadata": {},
     "output_type": "display_data"
    },
    {
     "data": {
      "text/html": [
       "\n",
       "  <style>\n",
       "    pre {\n",
       "        white-space: pre-wrap;\n",
       "    }\n",
       "  </style>\n",
       "  "
      ],
      "text/plain": [
       "<IPython.core.display.HTML object>"
      ]
     },
     "metadata": {},
     "output_type": "display_data"
    }
   ],
   "source": [
    "#!pip install -U sentence-transformers"
   ]
  },
  {
   "cell_type": "code",
   "execution_count": 224,
   "id": "a63417b5-1898-4371-937f-635c9da5ab58",
   "metadata": {
    "colab": {
     "base_uri": "https://localhost:8080/",
     "height": 17
    },
    "id": "a63417b5-1898-4371-937f-635c9da5ab58",
    "outputId": "dff86b0a-8416-4b08-f392-b574b6160b39"
   },
   "outputs": [
    {
     "data": {
      "text/html": [
       "\n",
       "  <style>\n",
       "    pre {\n",
       "        white-space: pre-wrap;\n",
       "    }\n",
       "  </style>\n",
       "  "
      ],
      "text/plain": [
       "<IPython.core.display.HTML object>"
      ]
     },
     "metadata": {},
     "output_type": "display_data"
    },
    {
     "data": {
      "text/html": [
       "\n",
       "  <style>\n",
       "    pre {\n",
       "        white-space: pre-wrap;\n",
       "    }\n",
       "  </style>\n",
       "  "
      ],
      "text/plain": [
       "<IPython.core.display.HTML object>"
      ]
     },
     "metadata": {},
     "output_type": "display_data"
    }
   ],
   "source": [
    "# !pip install tensorflow\n",
    "# !pip install --upgrade tensorflow-hub"
   ]
  },
  {
   "cell_type": "code",
   "execution_count": 225,
   "id": "fb714357-f8b1-45ff-8633-d4a6d9bce9b7",
   "metadata": {
    "colab": {
     "base_uri": "https://localhost:8080/",
     "height": 17
    },
    "id": "fb714357-f8b1-45ff-8633-d4a6d9bce9b7",
    "outputId": "3807814a-a3cc-4164-d456-0a6a8bbf377d"
   },
   "outputs": [
    {
     "data": {
      "text/html": [
       "\n",
       "  <style>\n",
       "    pre {\n",
       "        white-space: pre-wrap;\n",
       "    }\n",
       "  </style>\n",
       "  "
      ],
      "text/plain": [
       "<IPython.core.display.HTML object>"
      ]
     },
     "metadata": {},
     "output_type": "display_data"
    },
    {
     "data": {
      "text/html": [
       "\n",
       "  <style>\n",
       "    pre {\n",
       "        white-space: pre-wrap;\n",
       "    }\n",
       "  </style>\n",
       "  "
      ],
      "text/plain": [
       "<IPython.core.display.HTML object>"
      ]
     },
     "metadata": {},
     "output_type": "display_data"
    }
   ],
   "source": [
    "# from hyperopt import hp\n",
    "from sentence_transformers import SentenceTransformer\n",
    "# import tensorflow as tf\n",
    "# import tensorflow_hub as hub"
   ]
  },
  {
   "cell_type": "code",
   "execution_count": 226,
   "id": "45353363-8292-4370-9258-f5ccb1b1396e",
   "metadata": {
    "colab": {
     "base_uri": "https://localhost:8080/",
     "height": 17
    },
    "id": "45353363-8292-4370-9258-f5ccb1b1396e",
    "outputId": "0c690532-3c21-48c7-971f-fb43efbc3b27"
   },
   "outputs": [
    {
     "data": {
      "text/html": [
       "\n",
       "  <style>\n",
       "    pre {\n",
       "        white-space: pre-wrap;\n",
       "    }\n",
       "  </style>\n",
       "  "
      ],
      "text/plain": [
       "<IPython.core.display.HTML object>"
      ]
     },
     "metadata": {},
     "output_type": "display_data"
    },
    {
     "data": {
      "text/html": [
       "\n",
       "  <style>\n",
       "    pre {\n",
       "        white-space: pre-wrap;\n",
       "    }\n",
       "  </style>\n",
       "  "
      ],
      "text/plain": [
       "<IPython.core.display.HTML object>"
      ]
     },
     "metadata": {},
     "output_type": "display_data"
    }
   ],
   "source": [
    "# module_url = \"https://tfhub.dev/google/universal-sentence-encoder/4\"\n",
    "# model_use = hub.load(module_url)\n",
    "model_st1 = SentenceTransformer('all-mpnet-base-v2')\n",
    "# model_st2 = SentenceTransformer('all-MiniLM-L6-v2')\n",
    "# model_st3 = SentenceTransformer('paraphrase-mpnet-base-v2')"
   ]
  },
  {
   "cell_type": "code",
   "execution_count": 227,
   "id": "KJLOUjGj6g5P",
   "metadata": {
    "colab": {
     "base_uri": "https://localhost:8080/",
     "height": 17
    },
    "id": "KJLOUjGj6g5P",
    "outputId": "42057ee9-1a81-420c-995c-c4d19a2f249d"
   },
   "outputs": [
    {
     "data": {
      "text/html": [
       "\n",
       "  <style>\n",
       "    pre {\n",
       "        white-space: pre-wrap;\n",
       "    }\n",
       "  </style>\n",
       "  "
      ],
      "text/plain": [
       "<IPython.core.display.HTML object>"
      ]
     },
     "metadata": {},
     "output_type": "display_data"
    },
    {
     "data": {
      "text/html": [
       "\n",
       "  <style>\n",
       "    pre {\n",
       "        white-space: pre-wrap;\n",
       "    }\n",
       "  </style>\n",
       "  "
      ],
      "text/plain": [
       "<IPython.core.display.HTML object>"
      ]
     },
     "metadata": {},
     "output_type": "display_data"
    }
   ],
   "source": [
    "def embed(model, model_type, sentences):\n",
    "  \"\"\"\n",
    "  wrapper function for generating message embeddings\n",
    "  \"\"\"\n",
    "  if model_type == 'use':\n",
    "      embeddings = model(sentences)\n",
    "  elif model_type == 'sentence transformer':\n",
    "      embeddings = model.encode(sentences)\n",
    "  \n",
    "  return embeddings\n",
    "\n",
    "# generate embeddings for each model\n",
    "#embeddings_use = embed(model_use, 'use', sentences)\n",
    "embeddings_st1 = embed(model_st1, 'sentence transformer', sentences)\n",
    "#embeddings_st2 = embed(model_st2, 'sentence transformer', sentences)\n",
    "#embeddings_st3 = embed(model_st3, 'sentence transformer', sentences)"
   ]
  },
  {
   "cell_type": "code",
   "execution_count": 228,
   "id": "ERPVmpfL8BxX",
   "metadata": {
    "colab": {
     "base_uri": "https://localhost:8080/",
     "height": 35
    },
    "id": "ERPVmpfL8BxX",
    "outputId": "bde59cbd-d512-42f8-d897-2f030ac1b12e"
   },
   "outputs": [
    {
     "data": {
      "text/html": [
       "\n",
       "  <style>\n",
       "    pre {\n",
       "        white-space: pre-wrap;\n",
       "    }\n",
       "  </style>\n",
       "  "
      ],
      "text/plain": [
       "<IPython.core.display.HTML object>"
      ]
     },
     "metadata": {},
     "output_type": "display_data"
    },
    {
     "data": {
      "text/html": [
       "\n",
       "  <style>\n",
       "    pre {\n",
       "        white-space: pre-wrap;\n",
       "    }\n",
       "  </style>\n",
       "  "
      ],
      "text/plain": [
       "<IPython.core.display.HTML object>"
      ]
     },
     "metadata": {},
     "output_type": "display_data"
    },
    {
     "data": {
      "text/plain": [
       "(348, 768)"
      ]
     },
     "execution_count": 228,
     "metadata": {},
     "output_type": "execute_result"
    }
   ],
   "source": [
    "embeddings_st1.shape"
   ]
  },
  {
   "cell_type": "code",
   "execution_count": 230,
   "id": "RAgAywe4M3mE",
   "metadata": {
    "colab": {
     "base_uri": "https://localhost:8080/",
     "height": 17
    },
    "id": "RAgAywe4M3mE",
    "outputId": "d66ec04f-5ac5-40bf-84f0-74848fc0c7c6"
   },
   "outputs": [
    {
     "data": {
      "text/html": [
       "\n",
       "  <style>\n",
       "    pre {\n",
       "        white-space: pre-wrap;\n",
       "    }\n",
       "  </style>\n",
       "  "
      ],
      "text/plain": [
       "<IPython.core.display.HTML object>"
      ]
     },
     "metadata": {},
     "output_type": "display_data"
    },
    {
     "data": {
      "text/html": [
       "\n",
       "  <style>\n",
       "    pre {\n",
       "        white-space: pre-wrap;\n",
       "    }\n",
       "  </style>\n",
       "  "
      ],
      "text/plain": [
       "<IPython.core.display.HTML object>"
      ]
     },
     "metadata": {},
     "output_type": "display_data"
    }
   ],
   "source": [
    "# First let import the most necessary libs\n",
    "import pandas as pd\n",
    "import numpy as np\n",
    "# Library to import pre-trained model for sentence embeddings\n",
    "from sentence_transformers import SentenceTransformer\n",
    "# Calculate similarities between sentences\n",
    "from sklearn.metrics.pairwise import cosine_similarity\n",
    "# Visualization library\n",
    "import seaborn as sns\n",
    "import matplotlib.pyplot as plt\n",
    "# package for finding local minimas\n",
    "from scipy.signal import argrelextrema\n",
    "import math"
   ]
  },
  {
   "cell_type": "code",
   "execution_count": 231,
   "id": "YHAaWipxNnSI",
   "metadata": {
    "colab": {
     "base_uri": "https://localhost:8080/",
     "height": 290
    },
    "id": "YHAaWipxNnSI",
    "outputId": "f97c4038-3cd0-49d5-e6ba-7c66155bd77f"
   },
   "outputs": [
    {
     "data": {
      "text/html": [
       "\n",
       "  <style>\n",
       "    pre {\n",
       "        white-space: pre-wrap;\n",
       "    }\n",
       "  </style>\n",
       "  "
      ],
      "text/plain": [
       "<IPython.core.display.HTML object>"
      ]
     },
     "metadata": {},
     "output_type": "display_data"
    },
    {
     "data": {
      "text/html": [
       "\n",
       "  <style>\n",
       "    pre {\n",
       "        white-space: pre-wrap;\n",
       "    }\n",
       "  </style>\n",
       "  "
      ],
      "text/plain": [
       "<IPython.core.display.HTML object>"
      ]
     },
     "metadata": {},
     "output_type": "display_data"
    },
    {
     "data": {
      "image/png": "[encoded data removed]",
      "text/plain": [
       "<Figure size 432x288 with 2 Axes>"
      ]
     },
     "metadata": {
      "needs_background": "light"
     },
     "output_type": "display_data"
    }
   ],
   "source": [
    "# Create similarities matrix\n",
    "similarities = cosine_similarity(embeddings_st1)\n",
    "# Lets plot the result we got\n",
    "sns.heatmap(similarities).set_title('Cosine similarities matrix');"
   ]
  },
  {
   "cell_type": "code",
   "execution_count": 232,
   "id": "8Y4s2VFKN7XY",
   "metadata": {
    "colab": {
     "base_uri": "https://localhost:8080/",
     "height": 299
    },
    "id": "8Y4s2VFKN7XY",
    "outputId": "11f40862-5b6f-45db-956a-13f2b2f4a417"
   },
   "outputs": [
    {
     "data": {
      "text/html": [
       "\n",
       "  <style>\n",
       "    pre {\n",
       "        white-space: pre-wrap;\n",
       "    }\n",
       "  </style>\n",
       "  "
      ],
      "text/plain": [
       "<IPython.core.display.HTML object>"
      ]
     },
     "metadata": {},
     "output_type": "display_data"
    },
    {
     "data": {
      "text/html": [
       "\n",
       "  <style>\n",
       "    pre {\n",
       "        white-space: pre-wrap;\n",
       "    }\n",
       "  </style>\n",
       "  "
      ],
      "text/plain": [
       "<IPython.core.display.HTML object>"
      ]
     },
     "metadata": {},
     "output_type": "display_data"
    },
    {
     "data": {
      "text/plain": [
       "<matplotlib.collections.LineCollection at 0x7f9adc7f3ad0>"
      ]
     },
     "execution_count": 232,
     "metadata": {},
     "output_type": "execute_result"
    },
    {
     "data": {
      "image/png": "[encoded data removed]",
      "text/plain": [
       "<Figure size 432x288 with 1 Axes>"
      ]
     },
     "metadata": {
      "needs_background": "light"
     },
     "output_type": "display_data"
    }
   ],
   "source": [
    "def rev_sigmoid(x:float)->float:\n",
    "    return (1 / (1 + math.exp(0.5*x)))\n",
    "    \n",
    "def activate_similarities(similarities:np.array, p_size=10)->np.array:\n",
    "        \"\"\" Function returns list of weighted sums of activated sentence similarities\n",
    "        Args:\n",
    "            similarities (numpy array): it should square matrix where each sentence corresponds to another with cosine similarity\n",
    "            p_size (int): number of sentences are used to calculate weighted sum \n",
    "        Returns:\n",
    "            list: list of weighted sums\n",
    "        \"\"\"\n",
    "        # To create weights for sigmoid function we first have to create space. P_size will determine number of sentences used and the size of weights vector.\n",
    "        x = np.linspace(-10,10,p_size)\n",
    "        # Then we need to apply activation function to the created space\n",
    "        y = np.vectorize(rev_sigmoid) \n",
    "        # Because we only apply activation to p_size number of sentences we have to add zeros to neglect the effect of every additional sentence and to match the length ofvector we will multiply\n",
    "        activation_weights = np.pad(y(x),(0,similarities.shape[0]-p_size))\n",
    "        ### 1. Take each diagonal to the right of the main diagonal\n",
    "        diagonals = [similarities.diagonal(each) for each in range(0,similarities.shape[0])]\n",
    "        ### 2. Pad each diagonal by zeros at the end. Because each diagonal is different length we should pad it with zeros at the end\n",
    "        diagonals = [np.pad(each, (0,similarities.shape[0]-len(each))) for each in diagonals]\n",
    "        ### 3. Stack those diagonals into new matrix\n",
    "        diagonals = np.stack(diagonals)\n",
    "        ### 4. Apply activation weights to each row. Multiply similarities with our activation.\n",
    "        diagonals = diagonals * activation_weights.reshape(-1,1)\n",
    "        ### 5. Calculate the weighted sum of activated similarities\n",
    "        activated_similarities = np.sum(diagonals, axis=0)\n",
    "        return activated_similarities\n",
    "\n",
    "# Let's apply our function. For long sentences i reccomend to use 10 or more sentences\n",
    "activated_similarities = activate_similarities(similarities, p_size=10)\n",
    "\n",
    "# Let's create empty fig for our plor\n",
    "fig, ax = plt.subplots()\n",
    "### 6. Find relative minima of our vector. For all local minimas and save them to variable with argrelextrema function\n",
    "minimas = argrelextrema(activated_similarities, np.less, order=4) #order parameter controls how frequent should be splits. I would not reccomend changing this parameter.\n",
    "# plot the flow of our text with activated similarities\n",
    "sns.lineplot(y=activated_similarities, x=range(len(activated_similarities)), ax=ax).set_title('Relative minimas');\n",
    "# Now lets plot vertical lines in order to see where we created the split\n",
    "plt.vlines(x=minimas, ymin=min(activated_similarities), ymax=max(activated_similarities), colors='purple', ls='--', lw=1, label='vline_multiple - full height')\n"
   ]
  },
  {
   "cell_type": "code",
   "execution_count": 284,
   "id": "cJqI2WRlOKWb",
   "metadata": {
    "colab": {
     "base_uri": "https://localhost:8080/",
     "height": 17
    },
    "id": "cJqI2WRlOKWb",
    "outputId": "122b15b2-c798-43a9-dd12-7ba2f83d2a80"
   },
   "outputs": [
    {
     "data": {
      "text/html": [
       "\n",
       "  <style>\n",
       "    pre {\n",
       "        white-space: pre-wrap;\n",
       "    }\n",
       "  </style>\n",
       "  "
      ],
      "text/plain": [
       "<IPython.core.display.HTML object>"
      ]
     },
     "metadata": {},
     "output_type": "display_data"
    },
    {
     "data": {
      "text/html": [
       "\n",
       "  <style>\n",
       "    pre {\n",
       "        white-space: pre-wrap;\n",
       "    }\n",
       "  </style>\n",
       "  "
      ],
      "text/plain": [
       "<IPython.core.display.HTML object>"
      ]
     },
     "metadata": {},
     "output_type": "display_data"
    }
   ],
   "source": [
    "sent_details = []\n",
    "split_points = set([each for each in minimas[0]])\n",
    "paras = []\n",
    "text = ''\n",
    "para_num = 0\n",
    "para_pos = 0\n",
    "for num, sent in enumerate(sentences):\n",
    "    curr = {}\n",
    "    curr['sentence'] = sent\n",
    "    curr['pos'] = num\n",
    "    curr['para_num'] = para_num\n",
    "    curr['para_pos'] = para_pos \n",
    "    if num in split_points:\n",
    "      paras.append(text)\n",
    "      text =f'{sent} '\n",
    "      para_num += 1\n",
    "      para_pos = 0\n",
    "      curr['para_num'] = para_num\n",
    "      curr['para_pos'] = para_pos \n",
    "    else:\n",
    "      text+=f'{sent} '\n",
    "    sent_details.append(curr)\n",
    "    para_pos += 1\n",
    "paras.append(text)"
   ]
  },
  {
   "cell_type": "code",
   "execution_count": 285,
   "id": "-kifLqX6Of8m",
   "metadata": {
    "colab": {
     "base_uri": "https://localhost:8080/",
     "height": 35
    },
    "id": "-kifLqX6Of8m",
    "outputId": "bc436261-f01b-414b-d3a3-b5e9c3099411"
   },
   "outputs": [
    {
     "data": {
      "text/html": [
       "\n",
       "  <style>\n",
       "    pre {\n",
       "        white-space: pre-wrap;\n",
       "    }\n",
       "  </style>\n",
       "  "
      ],
      "text/plain": [
       "<IPython.core.display.HTML object>"
      ]
     },
     "metadata": {},
     "output_type": "display_data"
    },
    {
     "data": {
      "text/html": [
       "\n",
       "  <style>\n",
       "    pre {\n",
       "        white-space: pre-wrap;\n",
       "    }\n",
       "  </style>\n",
       "  "
      ],
      "text/plain": [
       "<IPython.core.display.HTML object>"
      ]
     },
     "metadata": {},
     "output_type": "display_data"
    },
    {
     "data": {
      "text/plain": [
       "33"
      ]
     },
     "execution_count": 285,
     "metadata": {},
     "output_type": "execute_result"
    }
   ],
   "source": [
    "len(split_points)"
   ]
  },
  {
   "cell_type": "code",
   "execution_count": 286,
   "id": "xsgGT22qOVhg",
   "metadata": {
    "colab": {
     "base_uri": "https://localhost:8080/",
     "height": 1000
    },
    "id": "xsgGT22qOVhg",
    "outputId": "1f934482-bf9a-4109-f685-bb6b745b76db"
   },
   "outputs": [
    {
     "data": {
      "text/html": [
       "\n",
       "  <style>\n",
       "    pre {\n",
       "        white-space: pre-wrap;\n",
       "    }\n",
       "  </style>\n",
       "  "
      ],
      "text/plain": [
       "<IPython.core.display.HTML object>"
      ]
     },
     "metadata": {},
     "output_type": "display_data"
    },
    {
     "data": {
      "text/html": [
       "\n",
       "  <style>\n",
       "    pre {\n",
       "        white-space: pre-wrap;\n",
       "    }\n",
       "  </style>\n",
       "  "
      ],
      "text/plain": [
       "<IPython.core.display.HTML object>"
      ]
     },
     "metadata": {},
     "output_type": "display_data"
    },
    {
     "name": "stdout",
     "output_type": "stream",
     "text": [
      "Hi Listeners, it's read here with some exciting news. The master scale book is now on sale. If you enjoy this podcast you're absolute going to love this book, the Master Scale Book Delivers Real Entrepreneurial Wisdom and some of the most transformative business advice. I've ever heard all wrapped in the stories that make the ideas even more memorable and relatable, whether you're in the midst of scaling, a business pitching a new idea, making a critical pivot or leading a team through a new and exciting stage. \n",
      "\n",
      "\n",
      "This is the book for you ordered online today at Mastros SCALECOM book or pick it up at your local bookstore. We spent a very interesting summer in North Ridge, California, complete with a killer, earthquake and all kinds of other things happening, and I would say we were less than wholly prepared to enter the classroom. That's lifelong educator, Kya Henderson Kys, describing a time in the early nineties where she spent a summer training with a group of young teachers for teach for America. Teach for America recruits young people from top colleges to teach in under resource schools. Kya is the former executive director of teach for America's DC office, the former Chancellor of the DC public school system and now she's, the cofounder and CEO of the Education Technology, firm reconstruction, but back in the early nineties, Kyo was a brand new recruit for a brand new experiment in teaching and learning. I was in the third class of teach for America and they were figuring it out and at the time teach for America didn't really have a solidified training model in place. There were roughly five hundred of us that were training, but I think we all entered the classroom feeling woefully inadequate but feeling bound and determined to figure it out for our kids. Kya was gearing up to be a bilingual teacher and her first placement. After that summer of training was in the South Bronx I taught Spanish and half of my kids were Africanamerican and the other half of my kids were Latino. My Latino kids could speak Spanish, but they had problems. \n",
      "\n",
      "\n",
      "Reading and writing it. My Africanamerican kids, it was easier to teach them to read and write and harder to teach them to speak, and so we did a lot in pairs so that they could build off of one another's strengths and weaknesses. I wanted them to learn some Spanish. I wanted them to have a curiosity about Spanish and Latino Cultures, and I wanted them to feel like this was a skill that could be helpful to them in their lives. Even as a novice teacher Caius have the power of pairing up students whose skill sets could complement each other's. It was important for her to teach them, but it was maybe even more important to create a format where they could help each other learn. Some of my kids dealt with things that I wouldn't wish on my worst enemy and they were resilient and they kept going, and some of my kids were affected negatively and couldn't pull themselves out of their situations. It is optimistic to believe that, when school experience can overcome a bunch of life circumstances, I believe that Madge Haveb was to help my young people see themselves as worthy and valuable and smart in the same way that people told me that that's what I was when I was younger scaling. The sense of possibility was at the heart of teacher America's goals. Kyle went on to hold senior leadership positions at teach for America, and it's international counterpart teach for all. So as these programs scaled kyle was there to see the power of his growing network of leaders, teachers and alumni. \n",
      "\n",
      "\n",
      "So how do you do that? The answer is: Don't just build an organization build a network for your team, your customers and yourself. My First Year of teaching, which any teacher will tell you, is hell. I only made it through because my teach for America, friends and I learned from one another and we supported one another and to this day some of my closest friends are my teach for America friends. So it is. It makes a significant impact on your life. That's why I believe that networks are the key to amplifying scale they help. You find what you need share, what you learn, build enthusiasm and motivate talent. So if you haven't found the right network build your own, you got to have incredible talent at every position. It's like this. There are fires burning when you're going out. \n",
      "\n",
      "\n",
      "Can you believe, Canadian, when you go back to there are so many easy ways? So I have no idea what it is. You made a mistake, but you have the time and write ten years later. This is masters of scale, we'll start the show in a moment. After a word from our exclusive brand partner capital, one business, we have a little girls scientist playing with the chemistry set. She has the most adorable hair and Afro Puff. That's Matthew, gowns CEO of puzzle, Huddle and that adorable young scientist appears on one of their Jigsaw, Puzzles Matthew, founded the company to bring diversity to toys in last year, sales spiked for all kinds of reasons. You had the parents looking for tools to help create a learning environment for their kids at home. You had the resurgence of black lives matter. What else drove those spiking sales well puzzle? Huddle was chosen for Oprah's favorite things which never hurts, but a booming business can create complex questions for a small company, especially in a year like this Matthew's holiday ship been got tied up in customs for months for a toy company you're going to pay your bills during Christmas. The products that I ordered this summer to have them in my facility ahead of black Friday. \n",
      "\n",
      "\n",
      "These products did not arrive until December twenty. Third, how did Matthew break the bad news to his customers and how did that experience influence? how He's thinking about growth we'll find out later in the show? It's all part of capital, one businesses look at entrepreneurs who are persevering with courage and innovation. I'm Reid, Hoffman, CO, founder of Linkedin partner, Greylock and your host, and I believe that networks are the key to amplifying scale they help. You find what you need share, what you learn, build enthusiasm and motivate talent. So if you haven't found the right network build your own, I'm obviously a huge fan of networks. Linkedin was created to leverage the power of networks and, unlike some header business theories, this is one that people intrinsically understand. The idea is much much older than social networks or network TV, it's even older than the concept of actual nets and our earliest hunter gather days. We understood that collectively when we share information, we succeed, but not all networks are created equal anymore than any two actual nets are, some are tightly woven, others loose and stretchy. Are you building a fishing net or mosquito net? \n",
      "\n",
      "\n",
      "What are you trying to catch, because all this will affect our nets, size, stretch and weave? I wanted to talk to Wendy cop about this, because she's thought of not just one but two networks across her career. The first teach for America was a brand new model for connecting high performing college graduates with underserved school districts across the country since they're founding in one thousand nine hundred ninety they have trained and placed over sixty thousand new teachers across the United States, with teach for all. The learnings of teach for America are skilled globally, reaching children in fifty nine countries around the world, but the shape of these two networks are very different and they each contain different lessons for entrepreneurs. The first seeds of teach for America were planted to when Wendy herself was an undergraduate at Princeton. I was in my senior year for the first time in my life. \n",
      "\n",
      "\n",
      "I found myself in a total funk. I was just searching for something I wasn't finding in terms of what I wanted to do with my life, I mean I'd, become a you know, very concerned college student concerned about the inequities in our country and all the recruiters in one thousand nine hundred. Eighty nine have liberal arts graduates like myself were investment banks, AD management, consulting firms banging down our doors, saying commit just two years to work in our firms, and I just I really didn't want to do that. This aggressive recruitment didn't just happen in one thousand: Nine hundred, eighty nine in venture capital to if you're, not betting, on the product or a tech, you're betting on the person that will make it happen, and these financial firms had built themselves a highly efficient network to scoop up top candidates from universities as soon as they were available, but to Wendy. It seemed odd that other sectors, weren't doing the same, our generation was called the me generation and supposedly we just all wanted to go work on Wall Street and all we cared about was ourselves, and I just thought that was so wrong and one day I just thought of this idea. You know why aren't we being recruited as aggressively to commit just two years to teach in urban and rural communities across our country? \n",
      "\n",
      "\n",
      "Wendy? Wasn't an education major, but the desperate state of the country school systems had been all over the news I became obsessed with that idea like it was my answer to what to do, and it was my thesis topic which I also hadn't thought of Wendy might have written her thesis gotten in her grade and been done with it, but the more she researched the more the idea wouldn't let go which led to a classic entrepreneurship moment. You might recognize when I started writing the thesis, it wasn't to say, I'm going to start this. It was like. I started just researching this as a policy idea and as I researched it, I became all the more obsessed with the idea and in fact I spent two months of the thesis process trying to figure out. You know what someone must be starting this. It is so obvious. It was the kind of thing you would tell people the idea and they'd say: Doesn't that already exist and I just kept thinking it must that moment of doesn't this already exist is key to the founder's journey. It's actually one of the first signs a new product or a new network is needed. Another sign, if you see a potential talent base to create the thing that's missing. Wendy saw that right there in our own graduating class. \n",
      "\n",
      "\n",
      "It just felt to me like the window was going to pass like the Moudon College. Campuses is perfect. There's tremendous need in school districts, there was a front page article and Fortune magazine saying Corporate America committed to education reform, so it just seemed like it has to happen when he drew up a proposal modeled on the Peace Corps. A government run volunteer organization where volunteers commit two years to serving global communities in need. The Peace Corps started with five hundred people. They thought that was the lowest possible number to convey a sense of national importance and anything bigger would be unmanageable. So that became my number. The thesis developed this four page plan with a budget saying we need to raise two and a half million dollars. My thesis advisors like he calls me in and says: Do you know how hard it is to raise twenty five hundred dollars? And he introduces me to the head of development at Princeton who's, going to explain to me how hard that is, even though she was hearing bad news. This was a pivotal moment for Wendy. In making that introduction her thesis advisor had expanded. Her Network Wendy was now connected to someone who had critical experience she lacked. \n",
      "\n",
      "\n",
      "So, even though the message was this is going to be almost impossible to do. The introduction itself was a major win. It helped her connect with some early funding sources after she graduated and let her get started on making our thesis a reality. She worked out of donated office space in Manhattan, building a skeleton staff and recruiting those first five hundred corps members, but Wendy had her sights on adding a new piece to our network. Someone she believed would be invested in the same mission. I said I think Ross Perot is going to fund this H, Rosspro billionaire CEO, philanthropist and Texan he's from Dallas I'm from Dallas, and one thing I know about him. I mean I didn't know him. I had no access to him. Wendy's, only connection to Ross per was in their shared geography being from Dallas. Wasn't a strong enough reason by itself to get her an audience with him, but it did give her advanced knowledge of what he cared deeply about. He kept pushing all these education reform initiatives. I believe I wrote him eleven letters he disputed that fact, but one of them he responded to. He called in the office, and I said I'm coming to Dallas. \n",
      "\n",
      "\n",
      "Can you meet with me by that point? We had raised maybe four hundred thousand dollars, and this was beginning to become pretty much the most existentially stressful situation. But I told myself I am going to glue myself to the chair in his room and I will not leave until he gives me a million dollars why I wouldn't recommend this exact technique. There's a lesson in Wendy's persistence. I cannot tell you how many times he's tried to get me out of his office, and I just said honestly: You are the one person who will do this and he finally said I'll tell you what if you can raise the other one and a half million, you need I'll, give you five hundred thousand, and at that moment I knew it was all done, because the credibility the leverage like I just knew. I had enough people out there who were just sitting on the fence and sure enough, like it all came together. So that's how the first year funding came together as it turns out. Perro wasn't the only person who would help fund teach for America because he knew that if he gave her some of the money, others would follow and a sort of domino effect. His gift would open up a whole new network of funding sources for Wendy once they secured funding Wendy in her team got the teach for America Ball Rolling, somewhat chaoticly that first year, because, as with any early stage network, the funding was only one part of it. It was a bunch of people recently out of college and we were giving it our all and we really forgot to plan for a lot of stuff. \n",
      "\n",
      "\n",
      "For instance, we had no plan for what to do when twenty five hundred applications came in and needed to be reviewed like we did have people interviewing, but there was just never thought given to WHO's going to review those applications and figure out who we're selecting. But despite the youth and the inexperience of her small team, it all managed to come together. They lined up donors, visited schools and recruited a board of directors. One year after I graduated, I was looking out at the first five hundred teach for America Corps members who were such pioneering spirits and who started teaching in six regions across the country, and I always think that's the moment. Teach for America really began because the learning curve was just. It was even steeper from that moment forward. The steepness of that learning curve wasn't just due to their inexperience. What Wendy and her team were at tempting is hard teach for America, made a promise to young raw talent from elite universities that they train them and then deploy them to he needed school districts across the country, but American school systems are locally run. Each school district has its own distinct community and its own challenges. \n",
      "\n",
      "\n",
      "As networks go, it was a loose one. Teaching is a little like driving once again: Kaya Henderson, founder and CEO of reconstruction. There's a lot that you can learn in the classroom or in these kinds of simulated environments, but you actually learn teaching when you do it and just like you learn driving when you drive that's a timeless lesson, not just for teaching but for entrepreneurship. Now back to Wendy, we ran into the education politics and, most importantly, figuring out. How do you recruit and select people who are actually ready for this and train and support them so that they don't just survive but actually succeed, and there were just immense lessons on all friends teach for America work to pull these lessons together into centralized institutional knowledge. They met their first funding targets then blew past them. They made national headlines for their approach to education reform, but, like many startups teach for America hit a snag a few short years into their existence. \n",
      "\n",
      "\n",
      "We hit the wall like year, for I call these the dark years. We spent three years where literally every two weeks, I was truly uncertain that we would have the money to meet payroll. We had all these startup donors who had never thought that they were going to stick with us, so we had an eight million dollar budget with grants, dropping off in five hundred thousand and million dollar chunks and we're still at staff of like people in their lower twenties who really have no idea how to pull this off. It's very common in early stage companies to hire the people in your immediate network, in Wendy's case young, enthusiastic graduates from premier universities like herself, but as you grow, you must look beyond your own circle and start thinking strategically about who you need. Next, we had huge management challenges. \n",
      "\n",
      "\n",
      "I had the idea that we were all on a mission and it's funny because I've kind of returned to this idea thirty years later, but that we shouldn't need a lot of hierarchy, so we would just hire people who were aligned in spirit and send them off, and that was of course I ultimately came to think that whether or not we fulfilled our mission would be so much about whether we were well managed or not. There was also another challenge: Wendy faced as teach for America scaled how to grow their network of recruits every year for ten years we would get no matter what we did. Three thousand people would apply. I mean it did not matter the first year, twenty five hundred people applied, and every year there after three thousand people applied, we would put these posters out and the people who would look at the poster and intuitively think that's what I want to do would apply, and that was three thousand people a year and we started realizing what our competition was doing by competition Wendy's, referring that Legion of Consulting and investment firms that recruited aggressively on college campuses. If teach for America wanted to grow their applicant pool beyond the same fixed number every year, they need to do more than put up posters. They needed to recruit like a mackenzie without McKenzie's budget. We don't have a million dollars a campus, but we do have a lot of volunteer energy. We ultimately staffed up our recruitment team pretty significantly, but each of them would then find volunteers for each campus among corre members alumni student volunteers, and we would just go at head honey every year. We'd have coffee with forty thousand people, and some of them we'd have coffee with ten times like the people. We would most want like. \n",
      "\n",
      "\n",
      "What's holding you back, it was a very relationship driven once we figured that out. We started being able to manage our growth once teach for America had reimagined their recruiting. The organization broke through their hiring ceiling by year. Ten they'd reach eighty thousand students the dark years it would seem were over, but a funny thing happened on the way to scale people from outside the US started to notice. We were fifteen years into the teach for America journey and I was like all in on teach for America. We were scaling, you know at twenty percent a year and working to increase impact in classrooms and alumni impact. It had actually never occurred to me that this would be something that people in other countries would think would make sense for them. Looking back, I'm not sure why that didn't occur to me, but it really hadn't. I met thirteen people in one year from India to Chile, to China, to Lebanon, who were just determined that something similar needed to happen in their countries, and they were looking for help and I felt like I needed to be responsive, but I was a little bit conflicted because I knew that I needed to stay focused, given the massive continuing challenges in the US. When did that? Okay, we need to have another organization, and it needs to have learnings from teacher America would be a new model. \n",
      "\n",
      "\n",
      "When did you go okay? That needs to happen and that's for me to do there. It's a very inspiring woman who had found her way to my office, who herself was a very accomplished social entrepreneur from India who ran these incredible transformational, afterschool programs in India, and she met a couple of teachers for America alumni who were volunteering in her centers and she's slave. We need to teach for India because her biggest challenge was to figure out. How do we actually intervene in the school day? And how do I find enough people power to actually provide the kind of transformational education they were providing anyway? She said you have to come to India before we go any further. \n",
      "\n",
      "\n",
      "Let's replay something Wendy just said Bill Sham's. She met a couple of teachers for America Alumni who were volunteering in her that and she had lain. We need PA for India again. This is a powerful example of the network effect in practice. Teach for America had recruited enlisted and placed these core members in schools in the US. \n",
      "\n",
      "\n",
      "After their two years. In that program, some of them went on to work in India, bringing their expertise with them. That's how networks can evolve even if you're sitting at the head of an organization your work can spread and reach borders. You can't even see ironically, Wendy was the one who most had to be convinced. I got on the plane to head over there and even then I was thinking this makes no sense like whatever I've learned here is not going to have relevance in India. I mean everything will be different, but the minute I got there I mean the first thing we did was go on a school visit and I was having Dejavu. I mean it was like down to sitting in the principal's office and having them wipe off the table and put the you know donut holes. I mean it so that we could have a conversation with the principal and the principal started telling me through a translator. I need to explain to her why our kids can only accomplish so much given their background. This sounded very familiar to Wendy and it might to you too, you might remember Kya Henderson at the top of the episode speaking about teaching in the South Bronx, and I just thought I can't believe it. I can't believe I'm seeing the same movie here, we then went into the classrooms and I realized the kid's circumstances is actually probably closer to the circumstances of the kids in the Bronx than the more privileged kids in India. In this moment, Wendy saw that the lessons from teach for America could be applied directly. The school children had similar needs, but that was only one half of the equation teach for America had learned how to scale their teaching corps by recruiting at American universities. Would that method work in India to we went to a college campus, and I still remember this because Shaheen Mester, who actually ended up going on to found teach for India. She was so depressed at the end of this session I mean. Is it one of the really selective colleges in Mumbai, and only maybe ten percent of the kids were super into this, but those ten percent were like live wires. I've left thinking this works. This is incredible like this is going to take off in India and she was just so depressed and I'm like, but you only need ten percent. That's like Yale like go to you. These kids are on the edge of their seat, saying this is what I want to do with my life. Let's take a moment to appreciate what just happened. The administrator, who had invited Wendy to India, was devastated by what she saw as a low engagement rate to her ten percent. Enthusiasm meant ninety percent failure, but because Wendy had spent fifteen years on recruiting visits, just like that, she had the experience to say no. \n",
      "\n",
      "\n",
      "Actually, ten percent is great and sharing that insight would help scale, not just teach for India but teach for all we'll be back in a moment. After a word from our exclusive partner capital, one business we're dining on boxes. The kids are watching TV on boxes, their boxes around our Washington and Dryer in our basement, their boxes on the staircase they're just boxes everywhere, we're back with Matthew, gowns a puzzle, huddle and he's describing how shipping boxes have invaded his home, which doubles as his office and his warehouse and his call center earlier. He was telling us about the nail biting weight for his holiday shipment, which arrived month late on December twenty third and fell to him to break the bad news to customers. That was an interesting experience to embrace our customers to try to be transparent and to answer those emails with much empathy and emotion, and support and understanding as possible. Matthew's personal touch won him a lot of customer love, but he knew it was time to get some help. Answering those late night customer emails very often I'm reading the email at two or three o'clock in the morning. \n",
      "\n",
      "\n",
      "So it's not with a fresh brain. It's my exhausted brain we're on boarding someone to help with customer support in email during the daytime when they have lots of energy and fresh perspective. That fresh perspective is so important to the longterm health of your business, but entrepreneurs often hesitate to hire it something an cave of capital. One business sees all the time it's hard to ask for help, particularly when you're a business owner- and this is your baby- we're here often with business owners where they knew that they were reaching sort of a next level, knowing that they needed to ask for help. They needed to tap expertise that they didn't directly bring to the table and all those boxes around the house have got matthew thinking and may be time to look into warehouse space, but he's cautious, well, I've been very hesitant to move into a business base. \n",
      "\n",
      "\n",
      "I don't want fixed costs to be the thing that derails my business, because now I have a lease in that money can't be routed into marketing. So it's a very hard balance of decision making and no one can tell you the answers. If you're an entrepreneur, you have to generate your own answers and make your answers work with less time spent answering emails. Matthew will have more time to think big. How does he envision? The next level of puzzle huddle, we'll find out later in the show, it's all part of capital, on businesses spotlight on entrepreneurs who are building their businesses with grit and determination, we're back with Wendy cop when we left her. She had just finished a revelatory trip to India, where she learned it might be possible to scale the practices of our first organization teach for America in a global way, but a lot would rest on how they structured this new entity. Teach for all. We've decided to set it up as a network of independent, locally led organizations with a global organization that could help accelerate progress of the network by helping everyone learn from each other note. This network structure is different from how teach for America was built, which had a more centralized organization. \n",
      "\n",
      "\n",
      "There isn't a separate teach for Cleveland teach for Tucson and teach for Brooklyn, but teach for all would be sort of like that, except here it was teach for India teach for Estonia and a cofounding program teach first in the UK the night before we launched to teach for all on the stage of the Clinton Global Initiative. I had a total panic, like called the person who was my partner in crime at the time was like. I don't think this is going to work. I'd learned so much at teach for me about the challenge of scaling with quality, and this is such an intensive program to run, and I just started worrying. You can't blame Wendy for those last minute butterflies. Her prior experience had been building a centralized organization like the Peace Corps that would then dispatch core members to their posts, but as a distributed network, a MEA network, if you will teach raw, would leave most of the control in the hands of the local organizations. This is a concern for any franchise business. There's a certain amount of trust handed to each individual outpost, each regional manager, each store manager and on down that can be scary, but it wasn't long before Wendy's expectations evolved from panic to a different feeling. What I have seen through teach for all has been mind. \n",
      "\n",
      "\n",
      "Boggling. To me, I mean it shattered all of my preconceptions about how to generate scale with increasing quality over time just to see the power of a network. I mean brilliant people all over the world in very diverse contexts which inspire different ways of thinking and innovation, but also supported by a lot of central capacity building the pure effects. Fear of facts, the theory that, when a student is surrounded by high performing peers, their grades will go up and when surrounded by lower, achieving peers, their grades will go down. So what I've seen is problems resolve themselves much more quickly in the network than in a more centrally managed structure. This is a phenomena that isn't unique to teach for all examples of quality distributed. Networks abound from host communities on AIRBNB. To wikipedia Wikipedia, in fact, is a perfect example of how quality can actually be improved by a less centralized structure. Imagine the errors, embellishments or acts of wiki vandalism that might linger if corrections had to run through some wikipedia central instead wikiped these skills, it's value system of factual integrity amongst its editors mistakes get flagged quickly and quality improves. This is the sort of pattern wendy saw em merge after tea FRALL's launch in two thousand and seven, and it's fast success was nothing but good news, except that the sheer speed of scale force Wendy to make a choice we launched to teach for all with seven network partners in year, one and thirteen in year, two and by year five, there were twenty five and teach for America doubled in that time, from something like four thousand teachers to eight thousand. \n",
      "\n",
      "\n",
      "So I had no option so I was just realizing. I need to choose like teach for America needs a dedicated leader and so does teach for all Wendy transitioned out of the CEO roll at teach for America in two thousand and thirteen though she stayed at the head of the board, it was time to commit to teach for all full time since then teach for all has grown to include fifty nine organizations across five continents. We have a set of unifying principles, which you could write on a half a page of paper that every one of these organizations now fifty nine of them. That's part of teach for all are committed to living into, they say a lot, but there's nothing prescribed about how to do it. We don't go trying to expand into countries. We respond to people who come to us and say I really want to start teach for Nigeria or whatever it may be, and then we come behind that we never get out in front of them as they work to develop the plan to adapt these principles to their contexts. This you come to US approach to the distributed network is actually the opposite of that early method. Wendy described for recruiting teacher for America teachers every year. We'd have coffee with forty thousand people, and some of them we'd have coffee with ten times like the people. We would most want like. What's holding you back, this kind of aggressive recruitment wasn't the way to scale teach for all because of each network. Node is going to grow and scale locally. \n",
      "\n",
      "\n",
      "It needs to be opted in. You can't force a school system, much less a sovereign nation. To do things your way, each new country that joins the network needs the space to make their version and innovate at their own pace at times. That pace has been shockingly fast and I don't know if it's like the power of local ownership or the pure culture created across the network, but I would just see problems getting solved, maybe more quickly, so because there are problems everywhere. But the question is: how quickly are you solving them and evolving and improving and I've just seen the power of a network approach? was there one particular kind of place where you saw this kind of learning in this particular country context that they'd spread? \n",
      "\n",
      "\n",
      "That was the AH? This is the validation of that network thesis probably the first place. This really struck me was in India. I mean one of the things that we were always and still are all across our network. Trying to figure out is how do we grow the percentage of truly transformational teachers? There are really good teachers, and then there are teachers who are just fundamentally somehow overcoming all the constraints of the circumstance and really putting kids on a meaningfully different trajectory. Remember it was in India that Wendy saw ten percent of college students respond positively to the recruiting pitch. That percentage had delighted Wendy, even as it had frustrated her host and colleague, Shaheen mystery. Keep that in mind when you hear this next story, I remember visiting you know a year in to teach for India's launch in realizing. They might have more percentage, wise, truly transformational teachers. Then then we had Shaheen had taken what we had done and said: okay, like, for instance, the summer training curriculum. She said, okay, ninety percent of it it teach for America's building, skills and knowledge about how to be a teacher. Maybe ten percent is working on people's mindsets. She's like we're going to get thirty or forty percent mindsets, we're going to immerse people in experiences and help them reflect, because this is a mindset scheme if you're starting to feel like you need a master's in education just to follow along. \n",
      "\n",
      "\n",
      "Don't worry! This isn't all that different from the mindset work. We talk about our masters of scale, we go in depth on this and the master of the scale courses up what she Hain't had done was shift the focus of teach for India's summer teacher training program, putting less emphasis on what the new teachers would be teaching and put a little bit more time into how the results impressed everyone. In fact, teach for America sent fifty teacher coaches to India just a very few years later. To say: How are you all doing this? This is the beauty of a network. It allows information to go not just from the top down or the center out, but in all directions. Networks are how you find what you need share, what you learn and scale enthusiasm for your mission in every way for the first year or two, we actually did think okay teach for America and teach first, and we have so much we can share. So you know we had a set of lessons from our experience and we went out and tried to propagate them to inform people's local choices. I realized this in our second year that this was a bad idea and that in fact, we needed to reorient our support from being around answers to being around questions. This lesson cannot be stated enough. In fact. Let's say it again: we need to reorient our focus from answers to questions. A network is not just about what you can give me it's about what we can give each other. You don't show up in an industry, mixer saying hey. \n",
      "\n",
      "\n",
      "What can you do for me? The success rate for that kind of approach is very, very low, but we don't talk enough about how important reciprocity is for organizations to this organic give and take can be a little messy, but it produces better information overall, and it puts a lot less demand on the overarching organization to be all things to all groups. Instead, it can facilitate conversation and learning between two of its network nodes, so teach fraw is structured as a distributed network with information flowing across it, but its structure isn't the only network it produces. What have been some of the things that have come out of that alumni network? So in the US the start here there are probably seventy thousand teach for America Alumni. Eighty four percent of them are working full time in mission related work. They become a huge percentage of the school principles that, in the district leadership and the people running the NGOs and the school board members, we weren't sure how this would play out across the world. In fact, a lot of people thought that part of it is not going to play out in our country, like they thought they're never going to stay, but across the world. Seventy four percent stay full time in education alone, they're in their twenties often, but they are starting the social enterprises moving into the ministries running the school's networks. Seeing that linds you to wonder what is happening during these two years, because it's not even that they are staying in this work and that they're exerting leadership. It's that they're, the kind of leaders we need. If you go back to your mental image on a network as a physical net, this alumni effect is like building it with an ever stronger weave. Those who come out of the system are merged transformed and they put their energy back into the system. We actually went through a huge shift in how we were pitching the organization to folks, one more time, Kya Henderson in the beginning, it was all looking at pictures of cute little kids and talking about educational dysfunction and really what we ended up. Shifting to was helping potential core members understand that you were absolutely helping the communities that you are serving, but you are also learning and growing and developing leadership skills that would take you into whatever you wanted to do. Next Kya is a prime example of an Alumna who has gone on to make a lifelong difference in the field of education. \n",
      "\n",
      "\n",
      "That includes her most recent venture. The online learning platform reconstruction reconstruction was a dream in my head for a really long time. I watched other cultures, be intentional about the cultural and identity development of their young people, and I wondered what would that look like for African American kids to learn our history and our culture from our perspective, not from the public schools perspective. Many of us don't live near our extended family anymore, and so how are we teaching our young people to cook the dishes that we love and at our hallmarks in our community or to play the games that we play or what have you? And so I was really worried frankly about who was minding the cultural store for African American people. We have a history of educating ourselves from citizenship schools to freedom, schools to you, know Marva, Collins and west side preparatory in Chicago. I thought why not extend that tradition in a new way by taking advantage of technology to allow kids wherever they are in the country to access these classes and this curriculum, and that is how reconstruction was born, as it happens, Kya cofounded reconstruction. While she was running a global learning lab for teach for all. I was spending my time traveling the globe working with communities to help them think about how to transform education and when the pandemic hit. I was grounded- and I thought this is as good a time as any- to try to work on this moonshot project that I had in the back of my head. The global pandemic, of course, upended more than Kai's teach for all work. When you could see its effects played across the entire network. Teach frall and each of the teach fours cross countries would be one of the things you would think would be massively affected by the pandemic. \n",
      "\n",
      "\n",
      "Asteroid Right. It's the congregation of places, we've seen troubles with schools like can we teach online? Should we get back to person what's happening with socialization of our children? It has been, of course, like just a very challenging year for sure it was also just a year for a network. I mean, I think we were kind of built for this within a week of March fifteenth or whenever we had fifteen hundred teachers in teaching without Internet. What APPP groups in four different languages with solutions there just flying across, like how are you keeping kids learning where they don't have access to the Internet? We put a posting up about these teach for Nigeria fellows who went to the government and said: There's no way we're going to reach kids if we can't take over the radio station- and we put this out and a bunch of people in Chile saw it alumni of insane Chile and said we're going to start a radio station and within two weeks they were on two hundred radio stations with their episodes now they're, creating what they're calling the Netflix of education. It's basically a podcast library and they're saying it's never going to go away, and now we have a whole community of practice among people all over the world. A year ago, I too was worried. I mean these many countries we're going to see such a diversion of resources to food security to health. Would all these organizations make it and they have all made it? They have more than made it they're thriving. There is no one magic bullet when it comes to navigating a crisis or scaling a business, but harnessing the power of a network really might be the closest thing. \n",
      "\n",
      "\n",
      "So look around you do you have a network that supports you and you can help support. If not, it might be time to build it for yourself, I'm Reed Hoffman, thanks for listening and now a final word from our exclusive brand partner capital, one business as a child of the eighties. It was Gi Joe's. It was star Wars Voltron, but I do remember the diverse characters when there wasn't a diverse character, there's something about the African American Gio that I think sticks when you're the africanamerican child, we're back one more time with Matthew, gowns a puzzle. Huddle he's been telling us how he's balancing the growth of his three year old toy company he's holding off in an office space but hiring help and he's starting to think big. I'm surprised at how small I have imagined this could be. We've already introduced pillows and blankets and t shirts, but even thinking across the digital landscape in terms of cartoons and media concepts and APPS and games. I hadn't thought about all of these different paths, but now that we've stepped into this space, there's just so much more, we can do could matthew be on the verge of a media empire. It wouldn't surprise capital on businesses and cave one product. A puzzle is opening Matthew's eyes to the impact that this kind of product line can create. These challenging times have really shown the courageous entrepreneurial spirit, innovating new product lines, new pathways to profitability and, ultimately reimagining greater impact for their customers. Achieving greater impact is capital. One business is mission, so matthew story has an cave. Cheering capital and business is proud to celebrate business owners as they innovate to unlock the next chapter of their success. As with every ad on masters of Skill, the entrepreneur you just heard from was real and unscripted because capital one is a financial institution, it's important to them to be transparent about their relationship with the business owners. We interview capital, one did compensate them for participating in this campaign. \n",
      "\n",
      "\n",
      "Masters of scale is a Whitewa original. The show was reported remotely with sanitized audio gear. Our executive producers are June Cohen and Darren treff. Our supervising producer is j Punjabi. Our producers are Jordan, McLeod Adam skews, Katherine Clark, Gray, Holly, Bondy, Marie McCoy Thompson, Christina Gonzales and Chris McLeod. Our editor at large is Bob Sapian. Our Music Director is Ryan holiday, original music and sound design by Daniel Nissenbaum, audio editing by Keith, j, Nelson Stephen Davies and and Renault mixing, and mastering by Brian Pew special thanks to Crier Alica Schreiber David Sanford S, deep Pieva, Adam Heiner, emily McManus Kelsey, Capitano, Tim Cronin, Sarah Sandman Carrie Goldstein Anna Pozzo, Mina Corsa, Charlie Moss and Colin Howard \n",
      "\n",
      "\n"
     ]
    }
   ],
   "source": [
    "for para in paras:\n",
    "  print(para)\n",
    "  print('\\n')"
   ]
  },
  {
   "cell_type": "code",
   "execution_count": 236,
   "id": "5zPVazwt9vT_",
   "metadata": {
    "colab": {
     "base_uri": "https://localhost:8080/",
     "height": 17
    },
    "id": "5zPVazwt9vT_",
    "outputId": "b2d0c607-0974-421b-9c05-1b54591ec68b"
   },
   "outputs": [
    {
     "data": {
      "text/html": [
       "\n",
       "  <style>\n",
       "    pre {\n",
       "        white-space: pre-wrap;\n",
       "    }\n",
       "  </style>\n",
       "  "
      ],
      "text/plain": [
       "<IPython.core.display.HTML object>"
      ]
     },
     "metadata": {},
     "output_type": "display_data"
    },
    {
     "data": {
      "text/html": [
       "\n",
       "  <style>\n",
       "    pre {\n",
       "        white-space: pre-wrap;\n",
       "    }\n",
       "  </style>\n",
       "  "
      ],
      "text/plain": [
       "<IPython.core.display.HTML object>"
      ]
     },
     "metadata": {},
     "output_type": "display_data"
    }
   ],
   "source": [
    "#!pip install hdbscan"
   ]
  },
  {
   "cell_type": "code",
   "execution_count": 237,
   "id": "-aWk0O42_LvM",
   "metadata": {
    "colab": {
     "base_uri": "https://localhost:8080/",
     "height": 17
    },
    "id": "-aWk0O42_LvM",
    "outputId": "1686d6fd-187a-478c-a346-99f1a115d461"
   },
   "outputs": [
    {
     "data": {
      "text/html": [
       "\n",
       "  <style>\n",
       "    pre {\n",
       "        white-space: pre-wrap;\n",
       "    }\n",
       "  </style>\n",
       "  "
      ],
      "text/plain": [
       "<IPython.core.display.HTML object>"
      ]
     },
     "metadata": {},
     "output_type": "display_data"
    },
    {
     "data": {
      "text/html": [
       "\n",
       "  <style>\n",
       "    pre {\n",
       "        white-space: pre-wrap;\n",
       "    }\n",
       "  </style>\n",
       "  "
      ],
      "text/plain": [
       "<IPython.core.display.HTML object>"
      ]
     },
     "metadata": {},
     "output_type": "display_data"
    }
   ],
   "source": [
    "#!pip uninstall umap\n",
    "#!pip install umap-learn"
   ]
  },
  {
   "cell_type": "code",
   "execution_count": 238,
   "id": "3-__EcN69iwt",
   "metadata": {
    "colab": {
     "base_uri": "https://localhost:8080/",
     "height": 17
    },
    "id": "3-__EcN69iwt",
    "outputId": "5716e971-8b82-40b0-b841-a099ef13f139"
   },
   "outputs": [
    {
     "data": {
      "text/html": [
       "\n",
       "  <style>\n",
       "    pre {\n",
       "        white-space: pre-wrap;\n",
       "    }\n",
       "  </style>\n",
       "  "
      ],
      "text/plain": [
       "<IPython.core.display.HTML object>"
      ]
     },
     "metadata": {},
     "output_type": "display_data"
    },
    {
     "data": {
      "text/html": [
       "\n",
       "  <style>\n",
       "    pre {\n",
       "        white-space: pre-wrap;\n",
       "    }\n",
       "  </style>\n",
       "  "
      ],
      "text/plain": [
       "<IPython.core.display.HTML object>"
      ]
     },
     "metadata": {},
     "output_type": "display_data"
    }
   ],
   "source": [
    "import umap.umap_ as umap\n",
    "import hdbscan"
   ]
  },
  {
   "cell_type": "code",
   "execution_count": 239,
   "id": "gYnjK_FlokJ2",
   "metadata": {
    "colab": {
     "base_uri": "https://localhost:8080/",
     "height": 17
    },
    "id": "gYnjK_FlokJ2",
    "outputId": "2ed8b88f-80a0-4b6d-9b11-baf67d23f873"
   },
   "outputs": [
    {
     "data": {
      "text/html": [
       "\n",
       "  <style>\n",
       "    pre {\n",
       "        white-space: pre-wrap;\n",
       "    }\n",
       "  </style>\n",
       "  "
      ],
      "text/plain": [
       "<IPython.core.display.HTML object>"
      ]
     },
     "metadata": {},
     "output_type": "display_data"
    },
    {
     "data": {
      "text/html": [
       "\n",
       "  <style>\n",
       "    pre {\n",
       "        white-space: pre-wrap;\n",
       "    }\n",
       "  </style>\n",
       "  "
      ],
      "text/plain": [
       "<IPython.core.display.HTML object>"
      ]
     },
     "metadata": {},
     "output_type": "display_data"
    }
   ],
   "source": [
    "def generate_umap_embeddings(sentence_embeddings, \n",
    "                             n_neighbors = 10, \n",
    "                             n_components = 32,\n",
    "                             random_state = 1):\n",
    "  umap_embeddings = (umap.UMAP(n_neighbors=n_neighbors, \n",
    "                                n_components=n_components, \n",
    "                                metric='cosine', \n",
    "                                random_state=random_state)\n",
    "                            .fit_transform(sentence_embeddings))\n",
    "  return umap_embeddings"
   ]
  },
  {
   "cell_type": "code",
   "execution_count": 240,
   "id": "wF8jv3Me8H59",
   "metadata": {
    "colab": {
     "base_uri": "https://localhost:8080/",
     "height": 17
    },
    "id": "wF8jv3Me8H59",
    "outputId": "7b1425ba-9664-4567-cdcf-0208d5f7765d"
   },
   "outputs": [
    {
     "data": {
      "text/html": [
       "\n",
       "  <style>\n",
       "    pre {\n",
       "        white-space: pre-wrap;\n",
       "    }\n",
       "  </style>\n",
       "  "
      ],
      "text/plain": [
       "<IPython.core.display.HTML object>"
      ]
     },
     "metadata": {},
     "output_type": "display_data"
    },
    {
     "data": {
      "text/html": [
       "\n",
       "  <style>\n",
       "    pre {\n",
       "        white-space: pre-wrap;\n",
       "    }\n",
       "  </style>\n",
       "  "
      ],
      "text/plain": [
       "<IPython.core.display.HTML object>"
      ]
     },
     "metadata": {},
     "output_type": "display_data"
    }
   ],
   "source": [
    "def generate_clusters(embeddings, min_cluster_size = 3):\n",
    "    \"\"\"\n",
    "    Generate HDBSCAN cluster object.\n",
    "    \"\"\"\n",
    "    clusters = hdbscan.HDBSCAN(min_cluster_size = min_cluster_size,\n",
    "                               metric='euclidean', \n",
    "                               cluster_selection_method='eom').fit(embeddings)\n",
    "    return clusters"
   ]
  },
  {
   "cell_type": "code",
   "execution_count": 241,
   "id": "Sw1YQflUZEK9",
   "metadata": {
    "colab": {
     "base_uri": "https://localhost:8080/",
     "height": 17
    },
    "id": "Sw1YQflUZEK9",
    "outputId": "5ea06e3d-12f2-437d-bc5f-f511ef2e3b6a"
   },
   "outputs": [
    {
     "data": {
      "text/html": [
       "\n",
       "  <style>\n",
       "    pre {\n",
       "        white-space: pre-wrap;\n",
       "    }\n",
       "  </style>\n",
       "  "
      ],
      "text/plain": [
       "<IPython.core.display.HTML object>"
      ]
     },
     "metadata": {},
     "output_type": "display_data"
    },
    {
     "data": {
      "text/html": [
       "\n",
       "  <style>\n",
       "    pre {\n",
       "        white-space: pre-wrap;\n",
       "    }\n",
       "  </style>\n",
       "  "
      ],
      "text/plain": [
       "<IPython.core.display.HTML object>"
      ]
     },
     "metadata": {},
     "output_type": "display_data"
    }
   ],
   "source": [
    "def objective(params, embeddings, label_lower, label_upper):\n",
    "    \"\"\"\n",
    "    Objective function for hyperopt to minimize, which incorporates constraints\n",
    "    on the number of clusters we want to identify\n",
    "    \"\"\"\n",
    "\n",
    "    def score_clusters(clusters, prob_threshold = 0.05):\n",
    "      \"\"\"\n",
    "      Returns the label count and cost of a given cluster supplied from running hdbscan\n",
    "      \"\"\"\n",
    "      \n",
    "      cluster_labels = clusters.labels_\n",
    "      label_count = len(np.unique(cluster_labels))\n",
    "      total_num = len(clusters.labels_)\n",
    "      cost = (np.count_nonzero(clusters.probabilities_ < prob_threshold)/total_num)\n",
    "      \n",
    "      return label_count, cost\n",
    "    \n",
    "    clusters = generate_clusters(embeddings, \n",
    "                                 n_neighbors = params['n_neighbors'], \n",
    "                                 n_components = params['n_components'], \n",
    "                                 min_cluster_size = params['min_cluster_size'],\n",
    "                                 random_state = params['random_state'])\n",
    "    \n",
    "    label_count, cost = score_clusters(clusters, prob_threshold = 0.05)\n",
    "    \n",
    "    #15% penalty on the cost function if outside the desired range of groups\n",
    "    if label_count < label_lower:\n",
    "        penalty = 0.15 * abs(label_count - label_lower)\n",
    "    elif label_count > label_upper:\n",
    "        penalty = 0.15 * abs(label_count - label_upper)\n",
    "    else:\n",
    "        penalty = 0\n",
    "    \n",
    "    loss = cost + penalty\n",
    "    \n",
    "    return {'loss': loss, 'label_count': label_count, 'status': STATUS_OK}\n",
    "\n",
    "def bayesian_search(embeddings, space, label_lower, label_upper, max_evals=100):\n",
    "    \"\"\"\n",
    "    Perform bayseian search on hyperopt hyperparameter space to minimize objective function\n",
    "    \"\"\"\n",
    "    \n",
    "    trials = Trials()\n",
    "    fmin_objective = partial(objective, embeddings=embeddings, label_lower=label_lower, label_upper=label_upper)\n",
    "    best = fmin(fmin_objective, \n",
    "                space = space, \n",
    "                algo=tpe.suggest,\n",
    "                max_evals=max_evals, \n",
    "                trials=trials)\n",
    "\n",
    "    best_params = space_eval(space, best)\n",
    "    print ('best:')\n",
    "    print (best_params)\n",
    "    print (f\"label count: {trials.best_trial['result']['label_count']}\")\n",
    "    \n",
    "    best_clusters = generate_clusters(embeddings, \n",
    "                                      n_neighbors = best_params['n_neighbors'], \n",
    "                                      n_components = best_params['n_components'], \n",
    "                                      min_cluster_size = best_params['min_cluster_size'],\n",
    "                                      random_state = best_params['random_state'])\n",
    "    \n",
    "    return best_params, best_clusters, trials"
   ]
  },
  {
   "cell_type": "code",
   "execution_count": 242,
   "id": "0yITGGWTY3i7",
   "metadata": {
    "colab": {
     "base_uri": "https://localhost:8080/",
     "height": 17
    },
    "id": "0yITGGWTY3i7",
    "outputId": "4de3e7bc-8e28-423e-aea9-479dfc001d19"
   },
   "outputs": [
    {
     "data": {
      "text/html": [
       "\n",
       "  <style>\n",
       "    pre {\n",
       "        white-space: pre-wrap;\n",
       "    }\n",
       "  </style>\n",
       "  "
      ],
      "text/plain": [
       "<IPython.core.display.HTML object>"
      ]
     },
     "metadata": {},
     "output_type": "display_data"
    },
    {
     "data": {
      "text/html": [
       "\n",
       "  <style>\n",
       "    pre {\n",
       "        white-space: pre-wrap;\n",
       "    }\n",
       "  </style>\n",
       "  "
      ],
      "text/plain": [
       "<IPython.core.display.HTML object>"
      ]
     },
     "metadata": {},
     "output_type": "display_data"
    }
   ],
   "source": [
    "# from hyperopt import hp\n",
    "# from functools import partial\n",
    "# from hyperopt import fmin, tpe, STATUS_OK, space_eval, Trials\n",
    "hspace = {\n",
    "    \"n_neighbors\": hp.choice('n_neighbors', range(8,12)),\n",
    "    \"n_components\": hp.choice('n_components', range(64,128)),\n",
    "    \"min_cluster_size\": hp.choice('min_cluster_size', range(8,12)),\n",
    "    \"min_samples\": None,\n",
    "    \"random_state\": 42\n",
    "}\n",
    "\n",
    "label_lower = 6\n",
    "label_upper = len(paras)//2\n",
    "max_evals = 50"
   ]
  },
  {
   "cell_type": "code",
   "execution_count": 243,
   "id": "545Na4O1ZUyK",
   "metadata": {
    "colab": {
     "base_uri": "https://localhost:8080/",
     "height": 17
    },
    "id": "545Na4O1ZUyK",
    "outputId": "f3a176a6-34ce-4d9c-af45-a91139598992"
   },
   "outputs": [
    {
     "data": {
      "text/html": [
       "\n",
       "  <style>\n",
       "    pre {\n",
       "        white-space: pre-wrap;\n",
       "    }\n",
       "  </style>\n",
       "  "
      ],
      "text/plain": [
       "<IPython.core.display.HTML object>"
      ]
     },
     "metadata": {},
     "output_type": "display_data"
    },
    {
     "data": {
      "text/html": [
       "\n",
       "  <style>\n",
       "    pre {\n",
       "        white-space: pre-wrap;\n",
       "    }\n",
       "  </style>\n",
       "  "
      ],
      "text/plain": [
       "<IPython.core.display.HTML object>"
      ]
     },
     "metadata": {},
     "output_type": "display_data"
    }
   ],
   "source": [
    "# best_params, best_clusters, trials = bayesian_search(embeddings_st1, \n",
    "#                                                      space=hspace, \n",
    "#                                                      label_lower=label_lower, \n",
    "#                                                      label_upper=label_upper, \n",
    "#                                                      max_evals=max_evals)"
   ]
  },
  {
   "cell_type": "code",
   "execution_count": 244,
   "id": "B9dTLc19U6Eh",
   "metadata": {
    "colab": {
     "base_uri": "https://localhost:8080/",
     "height": 17
    },
    "id": "B9dTLc19U6Eh",
    "outputId": "971092cc-1d6b-4a59-b4ed-8ae549d8c78c"
   },
   "outputs": [
    {
     "data": {
      "text/html": [
       "\n",
       "  <style>\n",
       "    pre {\n",
       "        white-space: pre-wrap;\n",
       "    }\n",
       "  </style>\n",
       "  "
      ],
      "text/plain": [
       "<IPython.core.display.HTML object>"
      ]
     },
     "metadata": {},
     "output_type": "display_data"
    },
    {
     "data": {
      "text/html": [
       "\n",
       "  <style>\n",
       "    pre {\n",
       "        white-space: pre-wrap;\n",
       "    }\n",
       "  </style>\n",
       "  "
      ],
      "text/plain": [
       "<IPython.core.display.HTML object>"
      ]
     },
     "metadata": {},
     "output_type": "display_data"
    }
   ],
   "source": [
    "#best_clusters\n",
    "# cl2 = best_clusters"
   ]
  },
  {
   "cell_type": "code",
   "execution_count": 245,
   "id": "PuZ-6iFd6v54",
   "metadata": {
    "colab": {
     "base_uri": "https://localhost:8080/",
     "height": 17
    },
    "id": "PuZ-6iFd6v54",
    "outputId": "ada70044-7bcc-4ef5-e38e-dd9b429dd9b6"
   },
   "outputs": [
    {
     "data": {
      "text/html": [
       "\n",
       "  <style>\n",
       "    pre {\n",
       "        white-space: pre-wrap;\n",
       "    }\n",
       "  </style>\n",
       "  "
      ],
      "text/plain": [
       "<IPython.core.display.HTML object>"
      ]
     },
     "metadata": {},
     "output_type": "display_data"
    },
    {
     "data": {
      "text/html": [
       "\n",
       "  <style>\n",
       "    pre {\n",
       "        white-space: pre-wrap;\n",
       "    }\n",
       "  </style>\n",
       "  "
      ],
      "text/plain": [
       "<IPython.core.display.HTML object>"
      ]
     },
     "metadata": {},
     "output_type": "display_data"
    }
   ],
   "source": [
    "umap_embeddings = generate_umap_embeddings(embeddings_st1)"
   ]
  },
  {
   "cell_type": "code",
   "execution_count": 246,
   "id": "6y1mfswA9E7S",
   "metadata": {
    "colab": {
     "base_uri": "https://localhost:8080/",
     "height": 17
    },
    "id": "6y1mfswA9E7S",
    "outputId": "f6beb817-bb77-4978-ba12-df778c5a20e6"
   },
   "outputs": [
    {
     "data": {
      "text/html": [
       "\n",
       "  <style>\n",
       "    pre {\n",
       "        white-space: pre-wrap;\n",
       "    }\n",
       "  </style>\n",
       "  "
      ],
      "text/plain": [
       "<IPython.core.display.HTML object>"
      ]
     },
     "metadata": {},
     "output_type": "display_data"
    },
    {
     "data": {
      "text/html": [
       "\n",
       "  <style>\n",
       "    pre {\n",
       "        white-space: pre-wrap;\n",
       "    }\n",
       "  </style>\n",
       "  "
      ],
      "text/plain": [
       "<IPython.core.display.HTML object>"
      ]
     },
     "metadata": {},
     "output_type": "display_data"
    }
   ],
   "source": [
    "sent_df = pd.json_normalize(sent_details)"
   ]
  },
  {
   "cell_type": "code",
   "execution_count": 247,
   "id": "FNdd7brW9NOV",
   "metadata": {
    "colab": {
     "base_uri": "https://localhost:8080/",
     "height": 424
    },
    "id": "FNdd7brW9NOV",
    "outputId": "381e41ae-ef15-45e2-edda-34e78493d4bd"
   },
   "outputs": [
    {
     "data": {
      "text/html": [
       "\n",
       "  <style>\n",
       "    pre {\n",
       "        white-space: pre-wrap;\n",
       "    }\n",
       "  </style>\n",
       "  "
      ],
      "text/plain": [
       "<IPython.core.display.HTML object>"
      ]
     },
     "metadata": {},
     "output_type": "display_data"
    },
    {
     "data": {
      "text/html": [
       "\n",
       "  <style>\n",
       "    pre {\n",
       "        white-space: pre-wrap;\n",
       "    }\n",
       "  </style>\n",
       "  "
      ],
      "text/plain": [
       "<IPython.core.display.HTML object>"
      ]
     },
     "metadata": {},
     "output_type": "display_data"
    },
    {
     "data": {
      "text/html": [
       "\n",
       "  <div id=\"df-d140ea93-4564-4010-934b-ea54bf250c5f\">\n",
       "    <div class=\"colab-df-container\">\n",
       "      <div>\n",
       "<style scoped>\n",
       "    .dataframe tbody tr th:only-of-type {\n",
       "        vertical-align: middle;\n",
       "    }\n",
       "\n",
       "    .dataframe tbody tr th {\n",
       "        vertical-align: top;\n",
       "    }\n",
       "\n",
       "    .dataframe thead th {\n",
       "        text-align: right;\n",
       "    }\n",
       "</style>\n",
       "<table border=\"1\" class=\"dataframe\">\n",
       "  <thead>\n",
       "    <tr style=\"text-align: right;\">\n",
       "      <th></th>\n",
       "      <th>sentence</th>\n",
       "      <th>pos</th>\n",
       "      <th>para_num</th>\n",
       "      <th>para_pos</th>\n",
       "    </tr>\n",
       "  </thead>\n",
       "  <tbody>\n",
       "    <tr>\n",
       "      <th>0</th>\n",
       "      <td>Hi Listeners, it's read here with some excitin...</td>\n",
       "      <td>0</td>\n",
       "      <td>0</td>\n",
       "      <td>0</td>\n",
       "    </tr>\n",
       "    <tr>\n",
       "      <th>1</th>\n",
       "      <td>The master scale book is now on sale.</td>\n",
       "      <td>1</td>\n",
       "      <td>0</td>\n",
       "      <td>1</td>\n",
       "    </tr>\n",
       "    <tr>\n",
       "      <th>2</th>\n",
       "      <td>If you enjoy this podcast you're absolute goin...</td>\n",
       "      <td>2</td>\n",
       "      <td>0</td>\n",
       "      <td>2</td>\n",
       "    </tr>\n",
       "    <tr>\n",
       "      <th>3</th>\n",
       "      <td>I've ever heard all wrapped in the stories tha...</td>\n",
       "      <td>3</td>\n",
       "      <td>0</td>\n",
       "      <td>3</td>\n",
       "    </tr>\n",
       "    <tr>\n",
       "      <th>4</th>\n",
       "      <td>This is the book for you ordered online today ...</td>\n",
       "      <td>4</td>\n",
       "      <td>1</td>\n",
       "      <td>0</td>\n",
       "    </tr>\n",
       "    <tr>\n",
       "      <th>...</th>\n",
       "      <td>...</td>\n",
       "      <td>...</td>\n",
       "      <td>...</td>\n",
       "      <td>...</td>\n",
       "    </tr>\n",
       "    <tr>\n",
       "      <th>343</th>\n",
       "      <td>Our executive producers are June Cohen and Dar...</td>\n",
       "      <td>343</td>\n",
       "      <td>33</td>\n",
       "      <td>2</td>\n",
       "    </tr>\n",
       "    <tr>\n",
       "      <th>344</th>\n",
       "      <td>Our supervising producer is j Punjabi.</td>\n",
       "      <td>344</td>\n",
       "      <td>33</td>\n",
       "      <td>3</td>\n",
       "    </tr>\n",
       "    <tr>\n",
       "      <th>345</th>\n",
       "      <td>Our producers are Jordan, McLeod Adam skews, K...</td>\n",
       "      <td>345</td>\n",
       "      <td>33</td>\n",
       "      <td>4</td>\n",
       "    </tr>\n",
       "    <tr>\n",
       "      <th>346</th>\n",
       "      <td>Our editor at large is Bob Sapian.</td>\n",
       "      <td>346</td>\n",
       "      <td>33</td>\n",
       "      <td>5</td>\n",
       "    </tr>\n",
       "    <tr>\n",
       "      <th>347</th>\n",
       "      <td>Our Music Director is Ryan holiday, original m...</td>\n",
       "      <td>347</td>\n",
       "      <td>33</td>\n",
       "      <td>6</td>\n",
       "    </tr>\n",
       "  </tbody>\n",
       "</table>\n",
       "<p>348 rows × 4 columns</p>\n",
       "</div>\n",
       "      <button class=\"colab-df-convert\" onclick=\"convertToInteractive('df-d140ea93-4564-4010-934b-ea54bf250c5f')\"\n",
       "              title=\"Convert this dataframe to an interactive table.\"\n",
       "              style=\"display:none;\">\n",
       "        \n",
       "  <svg xmlns=\"http://www.w3.org/2000/svg\" height=\"24px\"viewBox=\"0 0 24 24\"\n",
       "       width=\"24px\">\n",
       "    <path d=\"M0 0h24v24H0V0z\" fill=\"none\"/>\n",
       "    <path d=\"M18.56 5.44l.94 2.06.94-2.06 2.06-.94-2.06-.94-.94-2.06-.94 2.06-2.06.94zm-11 1L8.5 8.5l.94-2.06 2.06-.94-2.06-.94L8.5 2.5l-.94 2.06-2.06.94zm10 10l.94 2.06.94-2.06 2.06-.94-2.06-.94-.94-2.06-.94 2.06-2.06.94z\"/><path d=\"M17.41 7.96l-1.37-1.37c-.4-.4-.92-.59-1.43-.59-.52 0-1.04.2-1.43.59L10.3 9.45l-7.72 7.72c-.78.78-.78 2.05 0 2.83L4 21.41c.39.39.9.59 1.41.59.51 0 1.02-.2 1.41-.59l7.78-7.78 2.81-2.81c.8-.78.8-2.07 0-2.86zM5.41 20L4 18.59l7.72-7.72 1.47 1.35L5.41 20z\"/>\n",
       "  </svg>\n",
       "      </button>\n",
       "      \n",
       "  <style>\n",
       "    .colab-df-container {\n",
       "      display:flex;\n",
       "      flex-wrap:wrap;\n",
       "      gap: 12px;\n",
       "    }\n",
       "\n",
       "    .colab-df-convert {\n",
       "      background-color: #E8F0FE;\n",
       "      border: none;\n",
       "      border-radius: 50%;\n",
       "      cursor: pointer;\n",
       "      display: none;\n",
       "      fill: #1967D2;\n",
       "      height: 32px;\n",
       "      padding: 0 0 0 0;\n",
       "      width: 32px;\n",
       "    }\n",
       "\n",
       "    .colab-df-convert:hover {\n",
       "      background-color: #E2EBFA;\n",
       "      box-shadow: 0px 1px 2px rgba(60, 64, 67, 0.3), 0px 1px 3px 1px rgba(60, 64, 67, 0.15);\n",
       "      fill: #174EA6;\n",
       "    }\n",
       "\n",
       "    [theme=dark] .colab-df-convert {\n",
       "      background-color: #3B4455;\n",
       "      fill: #D2E3FC;\n",
       "    }\n",
       "\n",
       "    [theme=dark] .colab-df-convert:hover {\n",
       "      background-color: #434B5C;\n",
       "      box-shadow: 0px 1px 3px 1px rgba(0, 0, 0, 0.15);\n",
       "      filter: drop-shadow(0px 1px 2px rgba(0, 0, 0, 0.3));\n",
       "      fill: #FFFFFF;\n",
       "    }\n",
       "  </style>\n",
       "\n",
       "      <script>\n",
       "        const buttonEl =\n",
       "          document.querySelector('#df-d140ea93-4564-4010-934b-ea54bf250c5f button.colab-df-convert');\n",
       "        buttonEl.style.display =\n",
       "          google.colab.kernel.accessAllowed ? 'block' : 'none';\n",
       "\n",
       "        async function convertToInteractive(key) {\n",
       "          const element = document.querySelector('#df-d140ea93-4564-4010-934b-ea54bf250c5f');\n",
       "          const dataTable =\n",
       "            await google.colab.kernel.invokeFunction('convertToInteractive',\n",
       "                                                     [key], {});\n",
       "          if (!dataTable) return;\n",
       "\n",
       "          const docLinkHtml = 'Like what you see? Visit the ' +\n",
       "            '<a target=\"_blank\" href=https://colab.research.google.com/notebooks/data_table.ipynb>data table notebook</a>'\n",
       "            + ' to learn more about interactive tables.';\n",
       "          element.innerHTML = '';\n",
       "          dataTable['output_type'] = 'display_data';\n",
       "          await google.colab.output.renderOutput(dataTable, element);\n",
       "          const docLink = document.createElement('div');\n",
       "          docLink.innerHTML = docLinkHtml;\n",
       "          element.appendChild(docLink);\n",
       "        }\n",
       "      </script>\n",
       "    </div>\n",
       "  </div>\n",
       "  "
      ],
      "text/plain": [
       "                                              sentence  pos  para_num  \\\n",
       "0    Hi Listeners, it's read here with some excitin...    0         0   \n",
       "1                The master scale book is now on sale.    1         0   \n",
       "2    If you enjoy this podcast you're absolute goin...    2         0   \n",
       "3    I've ever heard all wrapped in the stories tha...    3         0   \n",
       "4    This is the book for you ordered online today ...    4         1   \n",
       "..                                                 ...  ...       ...   \n",
       "343  Our executive producers are June Cohen and Dar...  343        33   \n",
       "344             Our supervising producer is j Punjabi.  344        33   \n",
       "345  Our producers are Jordan, McLeod Adam skews, K...  345        33   \n",
       "346                 Our editor at large is Bob Sapian.  346        33   \n",
       "347  Our Music Director is Ryan holiday, original m...  347        33   \n",
       "\n",
       "     para_pos  \n",
       "0           0  \n",
       "1           1  \n",
       "2           2  \n",
       "3           3  \n",
       "4           0  \n",
       "..        ...  \n",
       "343         2  \n",
       "344         3  \n",
       "345         4  \n",
       "346         5  \n",
       "347         6  \n",
       "\n",
       "[348 rows x 4 columns]"
      ]
     },
     "execution_count": 247,
     "metadata": {},
     "output_type": "execute_result"
    }
   ],
   "source": [
    "sent_df"
   ]
  },
  {
   "cell_type": "code",
   "execution_count": 248,
   "id": "SEkrFEwt9Vha",
   "metadata": {
    "colab": {
     "base_uri": "https://localhost:8080/",
     "height": 17
    },
    "id": "SEkrFEwt9Vha",
    "outputId": "722292d5-2f62-452b-8281-d0b518733e86"
   },
   "outputs": [
    {
     "data": {
      "text/html": [
       "\n",
       "  <style>\n",
       "    pre {\n",
       "        white-space: pre-wrap;\n",
       "    }\n",
       "  </style>\n",
       "  "
      ],
      "text/plain": [
       "<IPython.core.display.HTML object>"
      ]
     },
     "metadata": {},
     "output_type": "display_data"
    },
    {
     "data": {
      "text/html": [
       "\n",
       "  <style>\n",
       "    pre {\n",
       "        white-space: pre-wrap;\n",
       "    }\n",
       "  </style>\n",
       "  "
      ],
      "text/plain": [
       "<IPython.core.display.HTML object>"
      ]
     },
     "metadata": {},
     "output_type": "display_data"
    }
   ],
   "source": [
    "vectorized = pd.get_dummies(sent_df, columns=['para_num', 'para_pos'])"
   ]
  },
  {
   "cell_type": "code",
   "execution_count": 249,
   "id": "bOnz1iWK-2K2",
   "metadata": {
    "colab": {
     "base_uri": "https://localhost:8080/",
     "height": 17
    },
    "id": "bOnz1iWK-2K2",
    "outputId": "17ad9efb-915a-4586-a750-ddc02771d25b"
   },
   "outputs": [
    {
     "data": {
      "text/html": [
       "\n",
       "  <style>\n",
       "    pre {\n",
       "        white-space: pre-wrap;\n",
       "    }\n",
       "  </style>\n",
       "  "
      ],
      "text/plain": [
       "<IPython.core.display.HTML object>"
      ]
     },
     "metadata": {},
     "output_type": "display_data"
    },
    {
     "data": {
      "text/html": [
       "\n",
       "  <style>\n",
       "    pre {\n",
       "        white-space: pre-wrap;\n",
       "    }\n",
       "  </style>\n",
       "  "
      ],
      "text/plain": [
       "<IPython.core.display.HTML object>"
      ]
     },
     "metadata": {},
     "output_type": "display_data"
    }
   ],
   "source": [
    "vectorized = vectorized.drop('sentence', axis=1)"
   ]
  },
  {
   "cell_type": "code",
   "execution_count": 250,
   "id": "5kILdE6pALkK",
   "metadata": {
    "colab": {
     "base_uri": "https://localhost:8080/",
     "height": 17
    },
    "id": "5kILdE6pALkK",
    "outputId": "a3da3f88-7511-47b9-9079-26c89140a4da"
   },
   "outputs": [
    {
     "data": {
      "text/html": [
       "\n",
       "  <style>\n",
       "    pre {\n",
       "        white-space: pre-wrap;\n",
       "    }\n",
       "  </style>\n",
       "  "
      ],
      "text/plain": [
       "<IPython.core.display.HTML object>"
      ]
     },
     "metadata": {},
     "output_type": "display_data"
    },
    {
     "data": {
      "text/html": [
       "\n",
       "  <style>\n",
       "    pre {\n",
       "        white-space: pre-wrap;\n",
       "    }\n",
       "  </style>\n",
       "  "
      ],
      "text/plain": [
       "<IPython.core.display.HTML object>"
      ]
     },
     "metadata": {},
     "output_type": "display_data"
    }
   ],
   "source": [
    "cl_embeddings = np.concatenate((vectorized.to_numpy(), umap_embeddings),axis=1)"
   ]
  },
  {
   "cell_type": "code",
   "execution_count": 251,
   "id": "bpvtPLYr9hQ1",
   "metadata": {
    "colab": {
     "base_uri": "https://localhost:8080/",
     "height": 17
    },
    "id": "bpvtPLYr9hQ1",
    "outputId": "10e1df69-16a1-4b2e-90f8-46da6f4d8137"
   },
   "outputs": [
    {
     "data": {
      "text/html": [
       "\n",
       "  <style>\n",
       "    pre {\n",
       "        white-space: pre-wrap;\n",
       "    }\n",
       "  </style>\n",
       "  "
      ],
      "text/plain": [
       "<IPython.core.display.HTML object>"
      ]
     },
     "metadata": {},
     "output_type": "display_data"
    },
    {
     "data": {
      "text/html": [
       "\n",
       "  <style>\n",
       "    pre {\n",
       "        white-space: pre-wrap;\n",
       "    }\n",
       "  </style>\n",
       "  "
      ],
      "text/plain": [
       "<IPython.core.display.HTML object>"
      ]
     },
     "metadata": {},
     "output_type": "display_data"
    }
   ],
   "source": [
    "cl = generate_clusters(cl_embeddings)"
   ]
  },
  {
   "cell_type": "code",
   "execution_count": 252,
   "id": "ZUXCrBJX_Auw",
   "metadata": {
    "colab": {
     "base_uri": "https://localhost:8080/",
     "height": 35
    },
    "id": "ZUXCrBJX_Auw",
    "outputId": "f3034afe-0722-45c3-f5c7-4a3a7880bea5"
   },
   "outputs": [
    {
     "data": {
      "text/html": [
       "\n",
       "  <style>\n",
       "    pre {\n",
       "        white-space: pre-wrap;\n",
       "    }\n",
       "  </style>\n",
       "  "
      ],
      "text/plain": [
       "<IPython.core.display.HTML object>"
      ]
     },
     "metadata": {},
     "output_type": "display_data"
    },
    {
     "data": {
      "text/html": [
       "\n",
       "  <style>\n",
       "    pre {\n",
       "        white-space: pre-wrap;\n",
       "    }\n",
       "  </style>\n",
       "  "
      ],
      "text/plain": [
       "<IPython.core.display.HTML object>"
      ]
     },
     "metadata": {},
     "output_type": "display_data"
    },
    {
     "data": {
      "text/plain": [
       "348"
      ]
     },
     "execution_count": 252,
     "metadata": {},
     "output_type": "execute_result"
    }
   ],
   "source": [
    "len(cl.labels_)"
   ]
  },
  {
   "cell_type": "code",
   "execution_count": 253,
   "id": "hjTIizfzcZos",
   "metadata": {
    "colab": {
     "base_uri": "https://localhost:8080/",
     "height": 392
    },
    "id": "hjTIizfzcZos",
    "outputId": "55f0652c-c2fd-43db-ebc5-9b187159d5cf"
   },
   "outputs": [
    {
     "data": {
      "text/html": [
       "\n",
       "  <style>\n",
       "    pre {\n",
       "        white-space: pre-wrap;\n",
       "    }\n",
       "  </style>\n",
       "  "
      ],
      "text/plain": [
       "<IPython.core.display.HTML object>"
      ]
     },
     "metadata": {},
     "output_type": "display_data"
    },
    {
     "data": {
      "text/html": [
       "\n",
       "  <style>\n",
       "    pre {\n",
       "        white-space: pre-wrap;\n",
       "    }\n",
       "  </style>\n",
       "  "
      ],
      "text/plain": [
       "<IPython.core.display.HTML object>"
      ]
     },
     "metadata": {},
     "output_type": "display_data"
    },
    {
     "data": {
      "text/plain": [
       "array([ 3,  3,  3,  3,  3,  4,  4,  4,  4,  4,  4,  4,  4,  4,  4,  4,  4,\n",
       "        4,  4,  4,  4,  4,  4,  4,  4, -1, -1, -1, -1,  5,  5,  5,  5,  5,\n",
       "        5,  5,  5,  6,  6,  6,  6, -1,  7, -1,  7,  7,  7,  7,  7,  7,  7,\n",
       "        7,  7,  7,  7,  7,  7,  7,  7, -1,  8,  8,  8,  8,  8,  8,  8,  8,\n",
       "        8,  8,  8, -1,  8,  8,  8,  8,  8,  8,  8, -1,  8, -1,  8,  9,  9,\n",
       "        9,  9,  9,  9,  9,  9,  9,  9,  9,  9, -1, -1, -1, -1, 13, 13, 13,\n",
       "       13, 13, 13, -1, 14, -1, 14, -1, 14, -1, 14, -1, 14, -1, 14, -1, 12,\n",
       "       12, 12, 12, 12, 12, 12, -1, -1, -1, -1, 16, 16, 16, 16, -1, 16, 17,\n",
       "       17, 17, 17, 17, 17, 17, 17, 17, 17, 17, 17, 17, 17, 15, 15, 15, 15,\n",
       "       15, 15, 15, 15, 15, 15, 15, 15, -1, 11, 11, 11, 11, 11, -1, 11, -1,\n",
       "       -1, -1, -1, 10, -1, -1, 10, 10, 10, 10, 10, 10, 10, 10, 10, 10, 10,\n",
       "       10, -1, 10, -1, -1, -1, -1, -1,  0,  0,  0,  0,  0,  0,  0,  0,  0,\n",
       "        0,  0,  0,  0,  0,  0,  0,  0,  0,  1,  1,  1,  1,  1,  1,  1,  1,\n",
       "        1,  1,  1,  1,  1,  1,  1,  1,  1,  1,  1,  1,  1,  1,  1,  1,  1,\n",
       "        1,  1,  1,  1,  1,  1,  1,  1,  1,  1,  1,  1,  1,  1,  1,  1,  1,\n",
       "        1,  1, -1,  1,  1,  1,  1,  1,  1,  1,  1,  1,  1,  1,  1,  1, -1,\n",
       "        1,  2,  2,  2,  2,  2,  2,  2,  2,  2,  2,  2,  2,  2,  2,  2,  2,\n",
       "        2,  2,  2,  2,  2,  2,  2,  2,  2,  2,  2,  2,  2,  2,  2,  2,  2,\n",
       "        2,  2,  2,  2,  2,  2,  2,  2,  2,  2,  2,  2,  2,  2,  2,  2,  2,\n",
       "        2,  2,  2,  2,  2, -1,  2,  2,  2,  2,  2,  2,  2,  2,  2,  2,  2,\n",
       "        2,  2,  2,  2,  2,  2,  2,  2])"
      ]
     },
     "execution_count": 253,
     "metadata": {},
     "output_type": "execute_result"
    }
   ],
   "source": [
    "cl.labels_"
   ]
  },
  {
   "cell_type": "code",
   "execution_count": 254,
   "id": "9p9jdknkAR3_",
   "metadata": {
    "colab": {
     "base_uri": "https://localhost:8080/",
     "height": 1000
    },
    "id": "9p9jdknkAR3_",
    "outputId": "ea76c795-efe7-4593-fd4e-5f956a01ba04"
   },
   "outputs": [
    {
     "data": {
      "text/html": [
       "\n",
       "  <style>\n",
       "    pre {\n",
       "        white-space: pre-wrap;\n",
       "    }\n",
       "  </style>\n",
       "  "
      ],
      "text/plain": [
       "<IPython.core.display.HTML object>"
      ]
     },
     "metadata": {},
     "output_type": "display_data"
    },
    {
     "data": {
      "text/html": [
       "\n",
       "  <style>\n",
       "    pre {\n",
       "        white-space: pre-wrap;\n",
       "    }\n",
       "  </style>\n",
       "  "
      ],
      "text/plain": [
       "<IPython.core.display.HTML object>"
      ]
     },
     "metadata": {},
     "output_type": "display_data"
    },
    {
     "data": {
      "text/plain": [
       "array([0.89491498, 1.        , 1.        , 1.        , 0.84259865,\n",
       "       0.74920273, 1.        , 1.        , 1.        , 1.        ,\n",
       "       1.        , 1.        , 0.90746121, 1.        , 0.82462746,\n",
       "       1.        , 1.        , 1.        , 1.        , 1.        ,\n",
       "       1.        , 1.        , 1.        , 1.        , 0.78084836,\n",
       "       0.        , 0.        , 0.        , 0.        , 0.81551407,\n",
       "       1.        , 1.        , 1.        , 0.86530408, 0.85449048,\n",
       "       0.79092536, 0.79092536, 1.        , 1.        , 1.        ,\n",
       "       0.98825533, 0.        , 0.81182391, 0.        , 0.87707714,\n",
       "       1.        , 0.93267728, 1.        , 1.        , 0.95962205,\n",
       "       1.        , 1.        , 1.        , 0.94013908, 1.        ,\n",
       "       1.        , 1.        , 1.        , 1.        , 0.        ,\n",
       "       0.91976884, 1.        , 1.        , 1.        , 1.        ,\n",
       "       0.93139753, 1.        , 1.        , 1.        , 1.        ,\n",
       "       1.        , 0.        , 1.        , 1.        , 1.        ,\n",
       "       1.        , 1.        , 1.        , 1.        , 0.        ,\n",
       "       0.89506739, 0.        , 0.86678122, 0.97540788, 0.98921862,\n",
       "       1.        , 0.98921862, 1.        , 1.        , 1.        ,\n",
       "       1.        , 1.        , 1.        , 0.95614774, 0.80021333,\n",
       "       0.        , 0.        , 0.        , 0.        , 1.        ,\n",
       "       1.        , 0.83275617, 1.        , 0.83275617, 0.8184111 ,\n",
       "       0.        , 0.88313802, 0.        , 1.        , 0.        ,\n",
       "       1.        , 0.        , 1.        , 0.        , 0.92214648,\n",
       "       0.        , 0.90313367, 0.        , 1.        , 1.        ,\n",
       "       1.        , 1.        , 1.        , 0.95438841, 1.        ,\n",
       "       0.        , 0.        , 0.        , 0.        , 1.        ,\n",
       "       1.        , 1.        , 0.98529367, 0.        , 0.98529367,\n",
       "       0.8704704 , 0.90985671, 0.8704704 , 0.90985671, 0.90985671,\n",
       "       0.96263961, 1.        , 0.99688443, 1.        , 1.        ,\n",
       "       0.99812435, 1.        , 0.96425652, 0.86584018, 0.87307601,\n",
       "       0.94206579, 0.91925244, 1.        , 0.95905788, 1.        ,\n",
       "       1.        , 0.98327416, 1.        , 0.98327416, 0.89414472,\n",
       "       0.89414472, 0.        , 1.        , 1.        , 1.        ,\n",
       "       1.        , 0.97170109, 0.        , 0.97170109, 0.        ,\n",
       "       0.        , 0.        , 0.        , 0.76023531, 0.        ,\n",
       "       0.        , 0.77898633, 0.81885476, 0.82941432, 0.9238445 ,\n",
       "       1.        , 1.        , 1.        , 1.        , 0.96152694,\n",
       "       0.96152694, 0.81176085, 0.96152694, 0.        , 0.77201199,\n",
       "       0.        , 0.        , 0.        , 0.        , 0.        ,\n",
       "       0.71283079, 0.8497198 , 1.        , 1.        , 1.        ,\n",
       "       1.        , 1.        , 0.9221036 , 1.        , 1.        ,\n",
       "       1.        , 1.        , 1.        , 0.86619674, 1.        ,\n",
       "       1.        , 0.97598305, 0.81167117, 0.91760233, 1.        ,\n",
       "       1.        , 1.        , 1.        , 1.        , 0.96838239,\n",
       "       1.        , 1.        , 1.        , 1.        , 1.        ,\n",
       "       1.        , 1.        , 1.        , 1.        , 1.        ,\n",
       "       1.        , 1.        , 1.        , 1.        , 1.        ,\n",
       "       1.        , 1.        , 1.        , 1.        , 1.        ,\n",
       "       1.        , 1.        , 0.9435187 , 1.        , 1.        ,\n",
       "       1.        , 1.        , 1.        , 1.        , 0.97133287,\n",
       "       1.        , 0.94941488, 1.        , 1.        , 0.99579461,\n",
       "       0.99579461, 1.        , 0.        , 1.        , 1.        ,\n",
       "       1.        , 1.        , 1.        , 1.        , 1.        ,\n",
       "       1.        , 1.        , 1.        , 0.99178617, 1.        ,\n",
       "       0.99328647, 0.        , 0.9035777 , 1.        , 0.96687652,\n",
       "       1.        , 1.        , 1.        , 1.        , 1.        ,\n",
       "       1.        , 0.9425008 , 1.        , 0.90920572, 1.        ,\n",
       "       0.90920572, 1.        , 1.        , 1.        , 1.        ,\n",
       "       1.        , 1.        , 1.        , 1.        , 1.        ,\n",
       "       1.        , 1.        , 1.        , 1.        , 1.        ,\n",
       "       1.        , 1.        , 1.        , 1.        , 1.        ,\n",
       "       1.        , 1.        , 1.        , 0.9565268 , 1.        ,\n",
       "       0.9280694 , 1.        , 0.97583107, 1.        , 1.        ,\n",
       "       1.        , 1.        , 1.        , 1.        , 1.        ,\n",
       "       1.        , 1.        , 1.        , 1.        , 1.        ,\n",
       "       0.99705742, 1.        , 0.85463908, 0.        , 1.        ,\n",
       "       1.        , 1.        , 1.        , 1.        , 1.        ,\n",
       "       1.        , 1.        , 1.        , 1.        , 0.94386892,\n",
       "       1.        , 1.        , 1.        , 1.        , 1.        ,\n",
       "       1.        , 1.        , 1.        ])"
      ]
     },
     "execution_count": 254,
     "metadata": {},
     "output_type": "execute_result"
    }
   ],
   "source": [
    "cl.probabilities_"
   ]
  },
  {
   "cell_type": "code",
   "execution_count": 255,
   "id": "27aPqGZ_Bw0x",
   "metadata": {
    "colab": {
     "base_uri": "https://localhost:8080/",
     "height": 17
    },
    "id": "27aPqGZ_Bw0x",
    "outputId": "d2041fc4-a5e2-4cb4-ba42-056a22d8950c"
   },
   "outputs": [
    {
     "data": {
      "text/html": [
       "\n",
       "  <style>\n",
       "    pre {\n",
       "        white-space: pre-wrap;\n",
       "    }\n",
       "  </style>\n",
       "  "
      ],
      "text/plain": [
       "<IPython.core.display.HTML object>"
      ]
     },
     "metadata": {},
     "output_type": "display_data"
    },
    {
     "data": {
      "text/html": [
       "\n",
       "  <style>\n",
       "    pre {\n",
       "        white-space: pre-wrap;\n",
       "    }\n",
       "  </style>\n",
       "  "
      ],
      "text/plain": [
       "<IPython.core.display.HTML object>"
      ]
     },
     "metadata": {},
     "output_type": "display_data"
    }
   ],
   "source": [
    "cluster_details = []\n",
    "for idx, sent in enumerate(sentences):\n",
    "  cluster_dict = {\n",
    "               'st1_cluster': cl.labels_[idx], \n",
    "               'st1_cluster_prob': cl.probabilities_[idx]}\n",
    "  cluster_details.append(cluster_dict)"
   ]
  },
  {
   "cell_type": "code",
   "execution_count": 256,
   "id": "sibrCUpBCpiM",
   "metadata": {
    "colab": {
     "base_uri": "https://localhost:8080/",
     "height": 17
    },
    "id": "sibrCUpBCpiM",
    "outputId": "9e6c29b0-fa8c-426b-fc7e-7db180bfc248"
   },
   "outputs": [
    {
     "data": {
      "text/html": [
       "\n",
       "  <style>\n",
       "    pre {\n",
       "        white-space: pre-wrap;\n",
       "    }\n",
       "  </style>\n",
       "  "
      ],
      "text/plain": [
       "<IPython.core.display.HTML object>"
      ]
     },
     "metadata": {},
     "output_type": "display_data"
    },
    {
     "data": {
      "text/html": [
       "\n",
       "  <style>\n",
       "    pre {\n",
       "        white-space: pre-wrap;\n",
       "    }\n",
       "  </style>\n",
       "  "
      ],
      "text/plain": [
       "<IPython.core.display.HTML object>"
      ]
     },
     "metadata": {},
     "output_type": "display_data"
    }
   ],
   "source": [
    "sent_df = pd.json_normalize(sent_details)"
   ]
  },
  {
   "cell_type": "code",
   "execution_count": 257,
   "id": "HJs3m1FjCsvL",
   "metadata": {
    "colab": {
     "base_uri": "https://localhost:8080/",
     "height": 17
    },
    "id": "HJs3m1FjCsvL",
    "outputId": "2ef45299-7b13-4fd7-8c62-98be9c55bfb1"
   },
   "outputs": [
    {
     "data": {
      "text/html": [
       "\n",
       "  <style>\n",
       "    pre {\n",
       "        white-space: pre-wrap;\n",
       "    }\n",
       "  </style>\n",
       "  "
      ],
      "text/plain": [
       "<IPython.core.display.HTML object>"
      ]
     },
     "metadata": {},
     "output_type": "display_data"
    },
    {
     "data": {
      "text/html": [
       "\n",
       "  <style>\n",
       "    pre {\n",
       "        white-space: pre-wrap;\n",
       "    }\n",
       "  </style>\n",
       "  "
      ],
      "text/plain": [
       "<IPython.core.display.HTML object>"
      ]
     },
     "metadata": {},
     "output_type": "display_data"
    }
   ],
   "source": [
    "sent_df = sent_df.join(pd.json_normalize(cluster_details))"
   ]
  },
  {
   "cell_type": "code",
   "execution_count": 258,
   "id": "qM6UabUNFi-N",
   "metadata": {
    "colab": {
     "base_uri": "https://localhost:8080/",
     "height": 815
    },
    "id": "qM6UabUNFi-N",
    "outputId": "74a69a25-7a5d-40b0-d437-10a66d138ba0"
   },
   "outputs": [
    {
     "data": {
      "text/html": [
       "\n",
       "  <style>\n",
       "    pre {\n",
       "        white-space: pre-wrap;\n",
       "    }\n",
       "  </style>\n",
       "  "
      ],
      "text/plain": [
       "<IPython.core.display.HTML object>"
      ]
     },
     "metadata": {},
     "output_type": "display_data"
    },
    {
     "data": {
      "text/html": [
       "\n",
       "  <style>\n",
       "    pre {\n",
       "        white-space: pre-wrap;\n",
       "    }\n",
       "  </style>\n",
       "  "
      ],
      "text/plain": [
       "<IPython.core.display.HTML object>"
      ]
     },
     "metadata": {},
     "output_type": "display_data"
    },
    {
     "data": {
      "text/html": [
       "\n",
       "  <div id=\"df-0457c162-63f9-45d0-a0b5-92ad21e956b9\">\n",
       "    <div class=\"colab-df-container\">\n",
       "      <div>\n",
       "<style scoped>\n",
       "    .dataframe tbody tr th:only-of-type {\n",
       "        vertical-align: middle;\n",
       "    }\n",
       "\n",
       "    .dataframe tbody tr th {\n",
       "        vertical-align: top;\n",
       "    }\n",
       "\n",
       "    .dataframe thead th {\n",
       "        text-align: right;\n",
       "    }\n",
       "</style>\n",
       "<table border=\"1\" class=\"dataframe\">\n",
       "  <thead>\n",
       "    <tr style=\"text-align: right;\">\n",
       "      <th></th>\n",
       "      <th>sentence</th>\n",
       "      <th>pos</th>\n",
       "      <th>para_num</th>\n",
       "      <th>para_pos</th>\n",
       "      <th>st1_cluster</th>\n",
       "      <th>st1_cluster_prob</th>\n",
       "    </tr>\n",
       "  </thead>\n",
       "  <tbody>\n",
       "    <tr>\n",
       "      <th>0</th>\n",
       "      <td>Hi Listeners, it's read here with some excitin...</td>\n",
       "      <td>0</td>\n",
       "      <td>0</td>\n",
       "      <td>0</td>\n",
       "      <td>3</td>\n",
       "      <td>0.894915</td>\n",
       "    </tr>\n",
       "    <tr>\n",
       "      <th>1</th>\n",
       "      <td>The master scale book is now on sale.</td>\n",
       "      <td>1</td>\n",
       "      <td>0</td>\n",
       "      <td>1</td>\n",
       "      <td>3</td>\n",
       "      <td>1.000000</td>\n",
       "    </tr>\n",
       "    <tr>\n",
       "      <th>2</th>\n",
       "      <td>If you enjoy this podcast you're absolute goin...</td>\n",
       "      <td>2</td>\n",
       "      <td>0</td>\n",
       "      <td>2</td>\n",
       "      <td>3</td>\n",
       "      <td>1.000000</td>\n",
       "    </tr>\n",
       "    <tr>\n",
       "      <th>3</th>\n",
       "      <td>I've ever heard all wrapped in the stories tha...</td>\n",
       "      <td>3</td>\n",
       "      <td>0</td>\n",
       "      <td>3</td>\n",
       "      <td>3</td>\n",
       "      <td>1.000000</td>\n",
       "    </tr>\n",
       "    <tr>\n",
       "      <th>4</th>\n",
       "      <td>This is the book for you ordered online today ...</td>\n",
       "      <td>4</td>\n",
       "      <td>1</td>\n",
       "      <td>0</td>\n",
       "      <td>3</td>\n",
       "      <td>0.842599</td>\n",
       "    </tr>\n",
       "    <tr>\n",
       "      <th>...</th>\n",
       "      <td>...</td>\n",
       "      <td>...</td>\n",
       "      <td>...</td>\n",
       "      <td>...</td>\n",
       "      <td>...</td>\n",
       "      <td>...</td>\n",
       "    </tr>\n",
       "    <tr>\n",
       "      <th>343</th>\n",
       "      <td>Our executive producers are June Cohen and Dar...</td>\n",
       "      <td>343</td>\n",
       "      <td>33</td>\n",
       "      <td>2</td>\n",
       "      <td>2</td>\n",
       "      <td>1.000000</td>\n",
       "    </tr>\n",
       "    <tr>\n",
       "      <th>344</th>\n",
       "      <td>Our supervising producer is j Punjabi.</td>\n",
       "      <td>344</td>\n",
       "      <td>33</td>\n",
       "      <td>3</td>\n",
       "      <td>2</td>\n",
       "      <td>1.000000</td>\n",
       "    </tr>\n",
       "    <tr>\n",
       "      <th>345</th>\n",
       "      <td>Our producers are Jordan, McLeod Adam skews, K...</td>\n",
       "      <td>345</td>\n",
       "      <td>33</td>\n",
       "      <td>4</td>\n",
       "      <td>2</td>\n",
       "      <td>1.000000</td>\n",
       "    </tr>\n",
       "    <tr>\n",
       "      <th>346</th>\n",
       "      <td>Our editor at large is Bob Sapian.</td>\n",
       "      <td>346</td>\n",
       "      <td>33</td>\n",
       "      <td>5</td>\n",
       "      <td>2</td>\n",
       "      <td>1.000000</td>\n",
       "    </tr>\n",
       "    <tr>\n",
       "      <th>347</th>\n",
       "      <td>Our Music Director is Ryan holiday, original m...</td>\n",
       "      <td>347</td>\n",
       "      <td>33</td>\n",
       "      <td>6</td>\n",
       "      <td>2</td>\n",
       "      <td>1.000000</td>\n",
       "    </tr>\n",
       "  </tbody>\n",
       "</table>\n",
       "<p>348 rows × 6 columns</p>\n",
       "</div>\n",
       "      <button class=\"colab-df-convert\" onclick=\"convertToInteractive('df-0457c162-63f9-45d0-a0b5-92ad21e956b9')\"\n",
       "              title=\"Convert this dataframe to an interactive table.\"\n",
       "              style=\"display:none;\">\n",
       "        \n",
       "  <svg xmlns=\"http://www.w3.org/2000/svg\" height=\"24px\"viewBox=\"0 0 24 24\"\n",
       "       width=\"24px\">\n",
       "    <path d=\"M0 0h24v24H0V0z\" fill=\"none\"/>\n",
       "    <path d=\"M18.56 5.44l.94 2.06.94-2.06 2.06-.94-2.06-.94-.94-2.06-.94 2.06-2.06.94zm-11 1L8.5 8.5l.94-2.06 2.06-.94-2.06-.94L8.5 2.5l-.94 2.06-2.06.94zm10 10l.94 2.06.94-2.06 2.06-.94-2.06-.94-.94-2.06-.94 2.06-2.06.94z\"/><path d=\"M17.41 7.96l-1.37-1.37c-.4-.4-.92-.59-1.43-.59-.52 0-1.04.2-1.43.59L10.3 9.45l-7.72 7.72c-.78.78-.78 2.05 0 2.83L4 21.41c.39.39.9.59 1.41.59.51 0 1.02-.2 1.41-.59l7.78-7.78 2.81-2.81c.8-.78.8-2.07 0-2.86zM5.41 20L4 18.59l7.72-7.72 1.47 1.35L5.41 20z\"/>\n",
       "  </svg>\n",
       "      </button>\n",
       "      \n",
       "  <style>\n",
       "    .colab-df-container {\n",
       "      display:flex;\n",
       "      flex-wrap:wrap;\n",
       "      gap: 12px;\n",
       "    }\n",
       "\n",
       "    .colab-df-convert {\n",
       "      background-color: #E8F0FE;\n",
       "      border: none;\n",
       "      border-radius: 50%;\n",
       "      cursor: pointer;\n",
       "      display: none;\n",
       "      fill: #1967D2;\n",
       "      height: 32px;\n",
       "      padding: 0 0 0 0;\n",
       "      width: 32px;\n",
       "    }\n",
       "\n",
       "    .colab-df-convert:hover {\n",
       "      background-color: #E2EBFA;\n",
       "      box-shadow: 0px 1px 2px rgba(60, 64, 67, 0.3), 0px 1px 3px 1px rgba(60, 64, 67, 0.15);\n",
       "      fill: #174EA6;\n",
       "    }\n",
       "\n",
       "    [theme=dark] .colab-df-convert {\n",
       "      background-color: #3B4455;\n",
       "      fill: #D2E3FC;\n",
       "    }\n",
       "\n",
       "    [theme=dark] .colab-df-convert:hover {\n",
       "      background-color: #434B5C;\n",
       "      box-shadow: 0px 1px 3px 1px rgba(0, 0, 0, 0.15);\n",
       "      filter: drop-shadow(0px 1px 2px rgba(0, 0, 0, 0.3));\n",
       "      fill: #FFFFFF;\n",
       "    }\n",
       "  </style>\n",
       "\n",
       "      <script>\n",
       "        const buttonEl =\n",
       "          document.querySelector('#df-0457c162-63f9-45d0-a0b5-92ad21e956b9 button.colab-df-convert');\n",
       "        buttonEl.style.display =\n",
       "          google.colab.kernel.accessAllowed ? 'block' : 'none';\n",
       "\n",
       "        async function convertToInteractive(key) {\n",
       "          const element = document.querySelector('#df-0457c162-63f9-45d0-a0b5-92ad21e956b9');\n",
       "          const dataTable =\n",
       "            await google.colab.kernel.invokeFunction('convertToInteractive',\n",
       "                                                     [key], {});\n",
       "          if (!dataTable) return;\n",
       "\n",
       "          const docLinkHtml = 'Like what you see? Visit the ' +\n",
       "            '<a target=\"_blank\" href=https://colab.research.google.com/notebooks/data_table.ipynb>data table notebook</a>'\n",
       "            + ' to learn more about interactive tables.';\n",
       "          element.innerHTML = '';\n",
       "          dataTable['output_type'] = 'display_data';\n",
       "          await google.colab.output.renderOutput(dataTable, element);\n",
       "          const docLink = document.createElement('div');\n",
       "          docLink.innerHTML = docLinkHtml;\n",
       "          element.appendChild(docLink);\n",
       "        }\n",
       "      </script>\n",
       "    </div>\n",
       "  </div>\n",
       "  "
      ],
      "text/plain": [
       "                                              sentence  pos  para_num  \\\n",
       "0    Hi Listeners, it's read here with some excitin...    0         0   \n",
       "1                The master scale book is now on sale.    1         0   \n",
       "2    If you enjoy this podcast you're absolute goin...    2         0   \n",
       "3    I've ever heard all wrapped in the stories tha...    3         0   \n",
       "4    This is the book for you ordered online today ...    4         1   \n",
       "..                                                 ...  ...       ...   \n",
       "343  Our executive producers are June Cohen and Dar...  343        33   \n",
       "344             Our supervising producer is j Punjabi.  344        33   \n",
       "345  Our producers are Jordan, McLeod Adam skews, K...  345        33   \n",
       "346                 Our editor at large is Bob Sapian.  346        33   \n",
       "347  Our Music Director is Ryan holiday, original m...  347        33   \n",
       "\n",
       "     para_pos  st1_cluster  st1_cluster_prob  \n",
       "0           0            3          0.894915  \n",
       "1           1            3          1.000000  \n",
       "2           2            3          1.000000  \n",
       "3           3            3          1.000000  \n",
       "4           0            3          0.842599  \n",
       "..        ...          ...               ...  \n",
       "343         2            2          1.000000  \n",
       "344         3            2          1.000000  \n",
       "345         4            2          1.000000  \n",
       "346         5            2          1.000000  \n",
       "347         6            2          1.000000  \n",
       "\n",
       "[348 rows x 6 columns]"
      ]
     },
     "execution_count": 258,
     "metadata": {},
     "output_type": "execute_result"
    }
   ],
   "source": [
    "sent_df"
   ]
  },
  {
   "cell_type": "code",
   "execution_count": 259,
   "id": "qmI7oP30D3ka",
   "metadata": {
    "colab": {
     "base_uri": "https://localhost:8080/",
     "height": 356
    },
    "id": "qmI7oP30D3ka",
    "outputId": "04930948-340a-45d7-935f-858ba793d5d4"
   },
   "outputs": [
    {
     "data": {
      "text/html": [
       "\n",
       "  <style>\n",
       "    pre {\n",
       "        white-space: pre-wrap;\n",
       "    }\n",
       "  </style>\n",
       "  "
      ],
      "text/plain": [
       "<IPython.core.display.HTML object>"
      ]
     },
     "metadata": {},
     "output_type": "display_data"
    },
    {
     "data": {
      "text/html": [
       "\n",
       "  <style>\n",
       "    pre {\n",
       "        white-space: pre-wrap;\n",
       "    }\n",
       "  </style>\n",
       "  "
      ],
      "text/plain": [
       "<IPython.core.display.HTML object>"
      ]
     },
     "metadata": {},
     "output_type": "display_data"
    },
    {
     "data": {
      "text/plain": [
       "{-1: 43,\n",
       " 0: 18,\n",
       " 1: 58,\n",
       " 2: 74,\n",
       " 3: 5,\n",
       " 4: 20,\n",
       " 5: 8,\n",
       " 6: 4,\n",
       " 7: 16,\n",
       " 8: 20,\n",
       " 9: 12,\n",
       " 10: 14,\n",
       " 11: 6,\n",
       " 12: 7,\n",
       " 13: 6,\n",
       " 14: 6,\n",
       " 15: 12,\n",
       " 16: 5,\n",
       " 17: 14}"
      ]
     },
     "execution_count": 259,
     "metadata": {},
     "output_type": "execute_result"
    }
   ],
   "source": [
    "dict(sent_df.groupby(\"st1_cluster\")[\"sentence\"].count())"
   ]
  },
  {
   "cell_type": "code",
   "execution_count": 260,
   "id": "PWd0Q3K6EZNN",
   "metadata": {
    "colab": {
     "base_uri": "https://localhost:8080/",
     "height": 1000
    },
    "id": "PWd0Q3K6EZNN",
    "outputId": "58b6ecd3-b298-43ce-acaf-99864eefc70c"
   },
   "outputs": [
    {
     "data": {
      "text/html": [
       "\n",
       "  <style>\n",
       "    pre {\n",
       "        white-space: pre-wrap;\n",
       "    }\n",
       "  </style>\n",
       "  "
      ],
      "text/plain": [
       "<IPython.core.display.HTML object>"
      ]
     },
     "metadata": {},
     "output_type": "display_data"
    },
    {
     "data": {
      "text/html": [
       "\n",
       "  <style>\n",
       "    pre {\n",
       "        white-space: pre-wrap;\n",
       "    }\n",
       "  </style>\n",
       "  "
      ],
      "text/plain": [
       "<IPython.core.display.HTML object>"
      ]
     },
     "metadata": {},
     "output_type": "display_data"
    },
    {
     "data": {
      "text/html": [
       "\n",
       "  <div id=\"df-0a155799-0160-4031-b169-9f9b53b5b431\">\n",
       "    <div class=\"colab-df-container\">\n",
       "      <div>\n",
       "<style scoped>\n",
       "    .dataframe tbody tr th:only-of-type {\n",
       "        vertical-align: middle;\n",
       "    }\n",
       "\n",
       "    .dataframe tbody tr th {\n",
       "        vertical-align: top;\n",
       "    }\n",
       "\n",
       "    .dataframe thead th {\n",
       "        text-align: right;\n",
       "    }\n",
       "</style>\n",
       "<table border=\"1\" class=\"dataframe\">\n",
       "  <thead>\n",
       "    <tr style=\"text-align: right;\">\n",
       "      <th></th>\n",
       "      <th>sentence</th>\n",
       "      <th>pos</th>\n",
       "      <th>para_num</th>\n",
       "      <th>para_pos</th>\n",
       "      <th>st1_cluster</th>\n",
       "      <th>st1_cluster_prob</th>\n",
       "    </tr>\n",
       "  </thead>\n",
       "  <tbody>\n",
       "    <tr>\n",
       "      <th>217</th>\n",
       "      <td>There isn't a separate teach for Cleveland tea...</td>\n",
       "      <td>217</td>\n",
       "      <td>23</td>\n",
       "      <td>0</td>\n",
       "      <td>1</td>\n",
       "      <td>1.000000</td>\n",
       "    </tr>\n",
       "    <tr>\n",
       "      <th>226</th>\n",
       "      <td>Boggling.</td>\n",
       "      <td>226</td>\n",
       "      <td>24</td>\n",
       "      <td>0</td>\n",
       "      <td>1</td>\n",
       "      <td>1.000000</td>\n",
       "    </tr>\n",
       "    <tr>\n",
       "      <th>236</th>\n",
       "      <td>So I had no option so I was just realizing.</td>\n",
       "      <td>236</td>\n",
       "      <td>25</td>\n",
       "      <td>0</td>\n",
       "      <td>1</td>\n",
       "      <td>1.000000</td>\n",
       "    </tr>\n",
       "    <tr>\n",
       "      <th>248</th>\n",
       "      <td>It needs to be opted in.</td>\n",
       "      <td>248</td>\n",
       "      <td>26</td>\n",
       "      <td>0</td>\n",
       "      <td>1</td>\n",
       "      <td>1.000000</td>\n",
       "    </tr>\n",
       "    <tr>\n",
       "      <th>218</th>\n",
       "      <td>I had a total panic, like called the person wh...</td>\n",
       "      <td>218</td>\n",
       "      <td>23</td>\n",
       "      <td>1</td>\n",
       "      <td>1</td>\n",
       "      <td>1.000000</td>\n",
       "    </tr>\n",
       "    <tr>\n",
       "      <th>227</th>\n",
       "      <td>To me, I mean it shattered all of my preconcep...</td>\n",
       "      <td>227</td>\n",
       "      <td>24</td>\n",
       "      <td>1</td>\n",
       "      <td>1</td>\n",
       "      <td>1.000000</td>\n",
       "    </tr>\n",
       "    <tr>\n",
       "      <th>237</th>\n",
       "      <td>I need to choose like teach for America needs ...</td>\n",
       "      <td>237</td>\n",
       "      <td>25</td>\n",
       "      <td>1</td>\n",
       "      <td>1</td>\n",
       "      <td>1.000000</td>\n",
       "    </tr>\n",
       "    <tr>\n",
       "      <th>269</th>\n",
       "      <td>This isn't all that different from the mindset...</td>\n",
       "      <td>269</td>\n",
       "      <td>28</td>\n",
       "      <td>1</td>\n",
       "      <td>1</td>\n",
       "      <td>1.000000</td>\n",
       "    </tr>\n",
       "    <tr>\n",
       "      <th>228</th>\n",
       "      <td>I mean brilliant people all over the world in ...</td>\n",
       "      <td>228</td>\n",
       "      <td>24</td>\n",
       "      <td>2</td>\n",
       "      <td>1</td>\n",
       "      <td>1.000000</td>\n",
       "    </tr>\n",
       "    <tr>\n",
       "      <th>238</th>\n",
       "      <td>We have a set of unifying principles, which yo...</td>\n",
       "      <td>238</td>\n",
       "      <td>25</td>\n",
       "      <td>2</td>\n",
       "      <td>1</td>\n",
       "      <td>1.000000</td>\n",
       "    </tr>\n",
       "    <tr>\n",
       "      <th>250</th>\n",
       "      <td>To do things your way, each new country that j...</td>\n",
       "      <td>250</td>\n",
       "      <td>26</td>\n",
       "      <td>2</td>\n",
       "      <td>1</td>\n",
       "      <td>1.000000</td>\n",
       "    </tr>\n",
       "    <tr>\n",
       "      <th>256</th>\n",
       "      <td>This really struck me was in India.</td>\n",
       "      <td>256</td>\n",
       "      <td>27</td>\n",
       "      <td>2</td>\n",
       "      <td>1</td>\n",
       "      <td>1.000000</td>\n",
       "    </tr>\n",
       "    <tr>\n",
       "      <th>220</th>\n",
       "      <td>I'd learned so much at teach for me about the ...</td>\n",
       "      <td>220</td>\n",
       "      <td>23</td>\n",
       "      <td>3</td>\n",
       "      <td>1</td>\n",
       "      <td>1.000000</td>\n",
       "    </tr>\n",
       "    <tr>\n",
       "      <th>229</th>\n",
       "      <td>Fear of facts, the theory that, when a student...</td>\n",
       "      <td>229</td>\n",
       "      <td>24</td>\n",
       "      <td>3</td>\n",
       "      <td>1</td>\n",
       "      <td>1.000000</td>\n",
       "    </tr>\n",
       "    <tr>\n",
       "      <th>239</th>\n",
       "      <td>That's part of teach for all are committed to ...</td>\n",
       "      <td>239</td>\n",
       "      <td>25</td>\n",
       "      <td>3</td>\n",
       "      <td>1</td>\n",
       "      <td>1.000000</td>\n",
       "    </tr>\n",
       "    <tr>\n",
       "      <th>221</th>\n",
       "      <td>You can't blame Wendy for those last minute bu...</td>\n",
       "      <td>221</td>\n",
       "      <td>23</td>\n",
       "      <td>4</td>\n",
       "      <td>1</td>\n",
       "      <td>1.000000</td>\n",
       "    </tr>\n",
       "    <tr>\n",
       "      <th>230</th>\n",
       "      <td>So what I've seen is problems resolve themselv...</td>\n",
       "      <td>230</td>\n",
       "      <td>24</td>\n",
       "      <td>4</td>\n",
       "      <td>1</td>\n",
       "      <td>1.000000</td>\n",
       "    </tr>\n",
       "    <tr>\n",
       "      <th>240</th>\n",
       "      <td>We don't go trying to expand into countries.</td>\n",
       "      <td>240</td>\n",
       "      <td>25</td>\n",
       "      <td>4</td>\n",
       "      <td>1</td>\n",
       "      <td>1.000000</td>\n",
       "    </tr>\n",
       "    <tr>\n",
       "      <th>252</th>\n",
       "      <td>But the question is: how quickly are you solvi...</td>\n",
       "      <td>252</td>\n",
       "      <td>26</td>\n",
       "      <td>4</td>\n",
       "      <td>1</td>\n",
       "      <td>1.000000</td>\n",
       "    </tr>\n",
       "    <tr>\n",
       "      <th>258</th>\n",
       "      <td>Trying to figure out is how do we grow the per...</td>\n",
       "      <td>258</td>\n",
       "      <td>27</td>\n",
       "      <td>4</td>\n",
       "      <td>1</td>\n",
       "      <td>1.000000</td>\n",
       "    </tr>\n",
       "    <tr>\n",
       "      <th>222</th>\n",
       "      <td>Her prior experience had been building a centr...</td>\n",
       "      <td>222</td>\n",
       "      <td>23</td>\n",
       "      <td>5</td>\n",
       "      <td>1</td>\n",
       "      <td>1.000000</td>\n",
       "    </tr>\n",
       "    <tr>\n",
       "      <th>231</th>\n",
       "      <td>This is a phenomena that isn't unique to teach...</td>\n",
       "      <td>231</td>\n",
       "      <td>24</td>\n",
       "      <td>5</td>\n",
       "      <td>1</td>\n",
       "      <td>1.000000</td>\n",
       "    </tr>\n",
       "    <tr>\n",
       "      <th>241</th>\n",
       "      <td>We respond to people who come to us and say I ...</td>\n",
       "      <td>241</td>\n",
       "      <td>25</td>\n",
       "      <td>5</td>\n",
       "      <td>1</td>\n",
       "      <td>1.000000</td>\n",
       "    </tr>\n",
       "    <tr>\n",
       "      <th>253</th>\n",
       "      <td>was there one particular kind of place where y...</td>\n",
       "      <td>253</td>\n",
       "      <td>26</td>\n",
       "      <td>5</td>\n",
       "      <td>1</td>\n",
       "      <td>1.000000</td>\n",
       "    </tr>\n",
       "    <tr>\n",
       "      <th>259</th>\n",
       "      <td>There are really good teachers, and then there...</td>\n",
       "      <td>259</td>\n",
       "      <td>27</td>\n",
       "      <td>5</td>\n",
       "      <td>1</td>\n",
       "      <td>1.000000</td>\n",
       "    </tr>\n",
       "    <tr>\n",
       "      <th>223</th>\n",
       "      <td>This is a concern for any franchise business.</td>\n",
       "      <td>223</td>\n",
       "      <td>23</td>\n",
       "      <td>6</td>\n",
       "      <td>1</td>\n",
       "      <td>1.000000</td>\n",
       "    </tr>\n",
       "    <tr>\n",
       "      <th>232</th>\n",
       "      <td>Networks abound from host communities on AIRBNB.</td>\n",
       "      <td>232</td>\n",
       "      <td>24</td>\n",
       "      <td>6</td>\n",
       "      <td>1</td>\n",
       "      <td>1.000000</td>\n",
       "    </tr>\n",
       "    <tr>\n",
       "      <th>260</th>\n",
       "      <td>Remember it was in India that Wendy saw ten pe...</td>\n",
       "      <td>260</td>\n",
       "      <td>27</td>\n",
       "      <td>6</td>\n",
       "      <td>1</td>\n",
       "      <td>1.000000</td>\n",
       "    </tr>\n",
       "    <tr>\n",
       "      <th>214</th>\n",
       "      <td>Teach for all.</td>\n",
       "      <td>214</td>\n",
       "      <td>22</td>\n",
       "      <td>7</td>\n",
       "      <td>1</td>\n",
       "      <td>1.000000</td>\n",
       "    </tr>\n",
       "    <tr>\n",
       "      <th>224</th>\n",
       "      <td>There's a certain amount of trust handed to ea...</td>\n",
       "      <td>224</td>\n",
       "      <td>23</td>\n",
       "      <td>7</td>\n",
       "      <td>1</td>\n",
       "      <td>1.000000</td>\n",
       "    </tr>\n",
       "    <tr>\n",
       "      <th>233</th>\n",
       "      <td>To wikipedia Wikipedia, in fact, is a perfect ...</td>\n",
       "      <td>233</td>\n",
       "      <td>24</td>\n",
       "      <td>7</td>\n",
       "      <td>1</td>\n",
       "      <td>1.000000</td>\n",
       "    </tr>\n",
       "    <tr>\n",
       "      <th>243</th>\n",
       "      <td>Wendy described for recruiting teacher for Ame...</td>\n",
       "      <td>243</td>\n",
       "      <td>25</td>\n",
       "      <td>7</td>\n",
       "      <td>1</td>\n",
       "      <td>1.000000</td>\n",
       "    </tr>\n",
       "    <tr>\n",
       "      <th>261</th>\n",
       "      <td>That percentage had delighted Wendy, even as i...</td>\n",
       "      <td>261</td>\n",
       "      <td>27</td>\n",
       "      <td>7</td>\n",
       "      <td>1</td>\n",
       "      <td>1.000000</td>\n",
       "    </tr>\n",
       "    <tr>\n",
       "      <th>215</th>\n",
       "      <td>We've decided to set it up as a network of ind...</td>\n",
       "      <td>215</td>\n",
       "      <td>22</td>\n",
       "      <td>8</td>\n",
       "      <td>1</td>\n",
       "      <td>1.000000</td>\n",
       "    </tr>\n",
       "    <tr>\n",
       "      <th>225</th>\n",
       "      <td>What I have seen through teach for all has bee...</td>\n",
       "      <td>225</td>\n",
       "      <td>23</td>\n",
       "      <td>8</td>\n",
       "      <td>1</td>\n",
       "      <td>1.000000</td>\n",
       "    </tr>\n",
       "    <tr>\n",
       "      <th>234</th>\n",
       "      <td>Imagine the errors, embellishments or acts of ...</td>\n",
       "      <td>234</td>\n",
       "      <td>24</td>\n",
       "      <td>8</td>\n",
       "      <td>1</td>\n",
       "      <td>1.000000</td>\n",
       "    </tr>\n",
       "    <tr>\n",
       "      <th>244</th>\n",
       "      <td>We'd have coffee with forty thousand people, a...</td>\n",
       "      <td>244</td>\n",
       "      <td>25</td>\n",
       "      <td>8</td>\n",
       "      <td>1</td>\n",
       "      <td>1.000000</td>\n",
       "    </tr>\n",
       "    <tr>\n",
       "      <th>262</th>\n",
       "      <td>Keep that in mind when you hear this next stor...</td>\n",
       "      <td>262</td>\n",
       "      <td>27</td>\n",
       "      <td>8</td>\n",
       "      <td>1</td>\n",
       "      <td>1.000000</td>\n",
       "    </tr>\n",
       "    <tr>\n",
       "      <th>216</th>\n",
       "      <td>This network structure is different from how t...</td>\n",
       "      <td>216</td>\n",
       "      <td>22</td>\n",
       "      <td>9</td>\n",
       "      <td>1</td>\n",
       "      <td>1.000000</td>\n",
       "    </tr>\n",
       "    <tr>\n",
       "      <th>235</th>\n",
       "      <td>This is the sort of pattern wendy saw em merge...</td>\n",
       "      <td>235</td>\n",
       "      <td>24</td>\n",
       "      <td>9</td>\n",
       "      <td>1</td>\n",
       "      <td>1.000000</td>\n",
       "    </tr>\n",
       "    <tr>\n",
       "      <th>245</th>\n",
       "      <td>We would most want like.</td>\n",
       "      <td>245</td>\n",
       "      <td>25</td>\n",
       "      <td>9</td>\n",
       "      <td>1</td>\n",
       "      <td>1.000000</td>\n",
       "    </tr>\n",
       "    <tr>\n",
       "      <th>263</th>\n",
       "      <td>They might have more percentage, wise, truly t...</td>\n",
       "      <td>263</td>\n",
       "      <td>27</td>\n",
       "      <td>9</td>\n",
       "      <td>1</td>\n",
       "      <td>1.000000</td>\n",
       "    </tr>\n",
       "    <tr>\n",
       "      <th>246</th>\n",
       "      <td>What's holding you back, this kind of aggressi...</td>\n",
       "      <td>246</td>\n",
       "      <td>25</td>\n",
       "      <td>10</td>\n",
       "      <td>1</td>\n",
       "      <td>1.000000</td>\n",
       "    </tr>\n",
       "    <tr>\n",
       "      <th>264</th>\n",
       "      <td>Then then we had Shaheen had taken what we had...</td>\n",
       "      <td>264</td>\n",
       "      <td>27</td>\n",
       "      <td>10</td>\n",
       "      <td>1</td>\n",
       "      <td>1.000000</td>\n",
       "    </tr>\n",
       "    <tr>\n",
       "      <th>247</th>\n",
       "      <td>Node is going to grow and scale locally.</td>\n",
       "      <td>247</td>\n",
       "      <td>25</td>\n",
       "      <td>11</td>\n",
       "      <td>1</td>\n",
       "      <td>1.000000</td>\n",
       "    </tr>\n",
       "    <tr>\n",
       "      <th>265</th>\n",
       "      <td>She said, okay, ninety percent of it it teach ...</td>\n",
       "      <td>265</td>\n",
       "      <td>27</td>\n",
       "      <td>11</td>\n",
       "      <td>1</td>\n",
       "      <td>1.000000</td>\n",
       "    </tr>\n",
       "    <tr>\n",
       "      <th>266</th>\n",
       "      <td>Maybe ten percent is working on people's minds...</td>\n",
       "      <td>266</td>\n",
       "      <td>27</td>\n",
       "      <td>12</td>\n",
       "      <td>1</td>\n",
       "      <td>1.000000</td>\n",
       "    </tr>\n",
       "    <tr>\n",
       "      <th>267</th>\n",
       "      <td>She's like we're going to get thirty or forty ...</td>\n",
       "      <td>267</td>\n",
       "      <td>27</td>\n",
       "      <td>13</td>\n",
       "      <td>1</td>\n",
       "      <td>1.000000</td>\n",
       "    </tr>\n",
       "    <tr>\n",
       "      <th>254</th>\n",
       "      <td>That was the AH?</td>\n",
       "      <td>254</td>\n",
       "      <td>27</td>\n",
       "      <td>0</td>\n",
       "      <td>1</td>\n",
       "      <td>0.995795</td>\n",
       "    </tr>\n",
       "    <tr>\n",
       "      <th>255</th>\n",
       "      <td>This is the validation of that network thesis ...</td>\n",
       "      <td>255</td>\n",
       "      <td>27</td>\n",
       "      <td>1</td>\n",
       "      <td>1</td>\n",
       "      <td>0.995795</td>\n",
       "    </tr>\n",
       "    <tr>\n",
       "      <th>270</th>\n",
       "      <td>We talk about our masters of scale, we go in d...</td>\n",
       "      <td>270</td>\n",
       "      <td>28</td>\n",
       "      <td>2</td>\n",
       "      <td>1</td>\n",
       "      <td>0.993286</td>\n",
       "    </tr>\n",
       "    <tr>\n",
       "      <th>268</th>\n",
       "      <td>Don't worry!</td>\n",
       "      <td>268</td>\n",
       "      <td>28</td>\n",
       "      <td>0</td>\n",
       "      <td>1</td>\n",
       "      <td>0.991786</td>\n",
       "    </tr>\n",
       "    <tr>\n",
       "      <th>249</th>\n",
       "      <td>You can't force a school system, much less a s...</td>\n",
       "      <td>249</td>\n",
       "      <td>26</td>\n",
       "      <td>1</td>\n",
       "      <td>1</td>\n",
       "      <td>0.971333</td>\n",
       "    </tr>\n",
       "    <tr>\n",
       "      <th>219</th>\n",
       "      <td>I don't think this is going to work.</td>\n",
       "      <td>219</td>\n",
       "      <td>23</td>\n",
       "      <td>2</td>\n",
       "      <td>1</td>\n",
       "      <td>0.968382</td>\n",
       "    </tr>\n",
       "    <tr>\n",
       "      <th>251</th>\n",
       "      <td>That pace has been shockingly fast and I don't...</td>\n",
       "      <td>251</td>\n",
       "      <td>26</td>\n",
       "      <td>3</td>\n",
       "      <td>1</td>\n",
       "      <td>0.949415</td>\n",
       "    </tr>\n",
       "    <tr>\n",
       "      <th>242</th>\n",
       "      <td>This you come to US approach to the distribute...</td>\n",
       "      <td>242</td>\n",
       "      <td>25</td>\n",
       "      <td>6</td>\n",
       "      <td>1</td>\n",
       "      <td>0.943519</td>\n",
       "    </tr>\n",
       "    <tr>\n",
       "      <th>213</th>\n",
       "      <td>She had just finished a revelatory trip to Ind...</td>\n",
       "      <td>213</td>\n",
       "      <td>22</td>\n",
       "      <td>6</td>\n",
       "      <td>1</td>\n",
       "      <td>0.917602</td>\n",
       "    </tr>\n",
       "    <tr>\n",
       "      <th>272</th>\n",
       "      <td>To say: How are you all doing this?</td>\n",
       "      <td>272</td>\n",
       "      <td>28</td>\n",
       "      <td>4</td>\n",
       "      <td>1</td>\n",
       "      <td>0.903578</td>\n",
       "    </tr>\n",
       "  </tbody>\n",
       "</table>\n",
       "</div>\n",
       "      <button class=\"colab-df-convert\" onclick=\"convertToInteractive('df-0a155799-0160-4031-b169-9f9b53b5b431')\"\n",
       "              title=\"Convert this dataframe to an interactive table.\"\n",
       "              style=\"display:none;\">\n",
       "        \n",
       "  <svg xmlns=\"http://www.w3.org/2000/svg\" height=\"24px\"viewBox=\"0 0 24 24\"\n",
       "       width=\"24px\">\n",
       "    <path d=\"M0 0h24v24H0V0z\" fill=\"none\"/>\n",
       "    <path d=\"M18.56 5.44l.94 2.06.94-2.06 2.06-.94-2.06-.94-.94-2.06-.94 2.06-2.06.94zm-11 1L8.5 8.5l.94-2.06 2.06-.94-2.06-.94L8.5 2.5l-.94 2.06-2.06.94zm10 10l.94 2.06.94-2.06 2.06-.94-2.06-.94-.94-2.06-.94 2.06-2.06.94z\"/><path d=\"M17.41 7.96l-1.37-1.37c-.4-.4-.92-.59-1.43-.59-.52 0-1.04.2-1.43.59L10.3 9.45l-7.72 7.72c-.78.78-.78 2.05 0 2.83L4 21.41c.39.39.9.59 1.41.59.51 0 1.02-.2 1.41-.59l7.78-7.78 2.81-2.81c.8-.78.8-2.07 0-2.86zM5.41 20L4 18.59l7.72-7.72 1.47 1.35L5.41 20z\"/>\n",
       "  </svg>\n",
       "      </button>\n",
       "      \n",
       "  <style>\n",
       "    .colab-df-container {\n",
       "      display:flex;\n",
       "      flex-wrap:wrap;\n",
       "      gap: 12px;\n",
       "    }\n",
       "\n",
       "    .colab-df-convert {\n",
       "      background-color: #E8F0FE;\n",
       "      border: none;\n",
       "      border-radius: 50%;\n",
       "      cursor: pointer;\n",
       "      display: none;\n",
       "      fill: #1967D2;\n",
       "      height: 32px;\n",
       "      padding: 0 0 0 0;\n",
       "      width: 32px;\n",
       "    }\n",
       "\n",
       "    .colab-df-convert:hover {\n",
       "      background-color: #E2EBFA;\n",
       "      box-shadow: 0px 1px 2px rgba(60, 64, 67, 0.3), 0px 1px 3px 1px rgba(60, 64, 67, 0.15);\n",
       "      fill: #174EA6;\n",
       "    }\n",
       "\n",
       "    [theme=dark] .colab-df-convert {\n",
       "      background-color: #3B4455;\n",
       "      fill: #D2E3FC;\n",
       "    }\n",
       "\n",
       "    [theme=dark] .colab-df-convert:hover {\n",
       "      background-color: #434B5C;\n",
       "      box-shadow: 0px 1px 3px 1px rgba(0, 0, 0, 0.15);\n",
       "      filter: drop-shadow(0px 1px 2px rgba(0, 0, 0, 0.3));\n",
       "      fill: #FFFFFF;\n",
       "    }\n",
       "  </style>\n",
       "\n",
       "      <script>\n",
       "        const buttonEl =\n",
       "          document.querySelector('#df-0a155799-0160-4031-b169-9f9b53b5b431 button.colab-df-convert');\n",
       "        buttonEl.style.display =\n",
       "          google.colab.kernel.accessAllowed ? 'block' : 'none';\n",
       "\n",
       "        async function convertToInteractive(key) {\n",
       "          const element = document.querySelector('#df-0a155799-0160-4031-b169-9f9b53b5b431');\n",
       "          const dataTable =\n",
       "            await google.colab.kernel.invokeFunction('convertToInteractive',\n",
       "                                                     [key], {});\n",
       "          if (!dataTable) return;\n",
       "\n",
       "          const docLinkHtml = 'Like what you see? Visit the ' +\n",
       "            '<a target=\"_blank\" href=https://colab.research.google.com/notebooks/data_table.ipynb>data table notebook</a>'\n",
       "            + ' to learn more about interactive tables.';\n",
       "          element.innerHTML = '';\n",
       "          dataTable['output_type'] = 'display_data';\n",
       "          await google.colab.output.renderOutput(dataTable, element);\n",
       "          const docLink = document.createElement('div');\n",
       "          docLink.innerHTML = docLinkHtml;\n",
       "          element.appendChild(docLink);\n",
       "        }\n",
       "      </script>\n",
       "    </div>\n",
       "  </div>\n",
       "  "
      ],
      "text/plain": [
       "                                              sentence  pos  para_num  \\\n",
       "217  There isn't a separate teach for Cleveland tea...  217        23   \n",
       "226                                          Boggling.  226        24   \n",
       "236        So I had no option so I was just realizing.  236        25   \n",
       "248                           It needs to be opted in.  248        26   \n",
       "218  I had a total panic, like called the person wh...  218        23   \n",
       "227  To me, I mean it shattered all of my preconcep...  227        24   \n",
       "237  I need to choose like teach for America needs ...  237        25   \n",
       "269  This isn't all that different from the mindset...  269        28   \n",
       "228  I mean brilliant people all over the world in ...  228        24   \n",
       "238  We have a set of unifying principles, which yo...  238        25   \n",
       "250  To do things your way, each new country that j...  250        26   \n",
       "256                This really struck me was in India.  256        27   \n",
       "220  I'd learned so much at teach for me about the ...  220        23   \n",
       "229  Fear of facts, the theory that, when a student...  229        24   \n",
       "239  That's part of teach for all are committed to ...  239        25   \n",
       "221  You can't blame Wendy for those last minute bu...  221        23   \n",
       "230  So what I've seen is problems resolve themselv...  230        24   \n",
       "240       We don't go trying to expand into countries.  240        25   \n",
       "252  But the question is: how quickly are you solvi...  252        26   \n",
       "258  Trying to figure out is how do we grow the per...  258        27   \n",
       "222  Her prior experience had been building a centr...  222        23   \n",
       "231  This is a phenomena that isn't unique to teach...  231        24   \n",
       "241  We respond to people who come to us and say I ...  241        25   \n",
       "253  was there one particular kind of place where y...  253        26   \n",
       "259  There are really good teachers, and then there...  259        27   \n",
       "223      This is a concern for any franchise business.  223        23   \n",
       "232   Networks abound from host communities on AIRBNB.  232        24   \n",
       "260  Remember it was in India that Wendy saw ten pe...  260        27   \n",
       "214                                     Teach for all.  214        22   \n",
       "224  There's a certain amount of trust handed to ea...  224        23   \n",
       "233  To wikipedia Wikipedia, in fact, is a perfect ...  233        24   \n",
       "243  Wendy described for recruiting teacher for Ame...  243        25   \n",
       "261  That percentage had delighted Wendy, even as i...  261        27   \n",
       "215  We've decided to set it up as a network of ind...  215        22   \n",
       "225  What I have seen through teach for all has bee...  225        23   \n",
       "234  Imagine the errors, embellishments or acts of ...  234        24   \n",
       "244  We'd have coffee with forty thousand people, a...  244        25   \n",
       "262  Keep that in mind when you hear this next stor...  262        27   \n",
       "216  This network structure is different from how t...  216        22   \n",
       "235  This is the sort of pattern wendy saw em merge...  235        24   \n",
       "245                           We would most want like.  245        25   \n",
       "263  They might have more percentage, wise, truly t...  263        27   \n",
       "246  What's holding you back, this kind of aggressi...  246        25   \n",
       "264  Then then we had Shaheen had taken what we had...  264        27   \n",
       "247           Node is going to grow and scale locally.  247        25   \n",
       "265  She said, okay, ninety percent of it it teach ...  265        27   \n",
       "266  Maybe ten percent is working on people's minds...  266        27   \n",
       "267  She's like we're going to get thirty or forty ...  267        27   \n",
       "254                                   That was the AH?  254        27   \n",
       "255  This is the validation of that network thesis ...  255        27   \n",
       "270  We talk about our masters of scale, we go in d...  270        28   \n",
       "268                                       Don't worry!  268        28   \n",
       "249  You can't force a school system, much less a s...  249        26   \n",
       "219               I don't think this is going to work.  219        23   \n",
       "251  That pace has been shockingly fast and I don't...  251        26   \n",
       "242  This you come to US approach to the distribute...  242        25   \n",
       "213  She had just finished a revelatory trip to Ind...  213        22   \n",
       "272                To say: How are you all doing this?  272        28   \n",
       "\n",
       "     para_pos  st1_cluster  st1_cluster_prob  \n",
       "217         0            1          1.000000  \n",
       "226         0            1          1.000000  \n",
       "236         0            1          1.000000  \n",
       "248         0            1          1.000000  \n",
       "218         1            1          1.000000  \n",
       "227         1            1          1.000000  \n",
       "237         1            1          1.000000  \n",
       "269         1            1          1.000000  \n",
       "228         2            1          1.000000  \n",
       "238         2            1          1.000000  \n",
       "250         2            1          1.000000  \n",
       "256         2            1          1.000000  \n",
       "220         3            1          1.000000  \n",
       "229         3            1          1.000000  \n",
       "239         3            1          1.000000  \n",
       "221         4            1          1.000000  \n",
       "230         4            1          1.000000  \n",
       "240         4            1          1.000000  \n",
       "252         4            1          1.000000  \n",
       "258         4            1          1.000000  \n",
       "222         5            1          1.000000  \n",
       "231         5            1          1.000000  \n",
       "241         5            1          1.000000  \n",
       "253         5            1          1.000000  \n",
       "259         5            1          1.000000  \n",
       "223         6            1          1.000000  \n",
       "232         6            1          1.000000  \n",
       "260         6            1          1.000000  \n",
       "214         7            1          1.000000  \n",
       "224         7            1          1.000000  \n",
       "233         7            1          1.000000  \n",
       "243         7            1          1.000000  \n",
       "261         7            1          1.000000  \n",
       "215         8            1          1.000000  \n",
       "225         8            1          1.000000  \n",
       "234         8            1          1.000000  \n",
       "244         8            1          1.000000  \n",
       "262         8            1          1.000000  \n",
       "216         9            1          1.000000  \n",
       "235         9            1          1.000000  \n",
       "245         9            1          1.000000  \n",
       "263         9            1          1.000000  \n",
       "246        10            1          1.000000  \n",
       "264        10            1          1.000000  \n",
       "247        11            1          1.000000  \n",
       "265        11            1          1.000000  \n",
       "266        12            1          1.000000  \n",
       "267        13            1          1.000000  \n",
       "254         0            1          0.995795  \n",
       "255         1            1          0.995795  \n",
       "270         2            1          0.993286  \n",
       "268         0            1          0.991786  \n",
       "249         1            1          0.971333  \n",
       "219         2            1          0.968382  \n",
       "251         3            1          0.949415  \n",
       "242         6            1          0.943519  \n",
       "213         6            1          0.917602  \n",
       "272         4            1          0.903578  "
      ]
     },
     "execution_count": 260,
     "metadata": {},
     "output_type": "execute_result"
    }
   ],
   "source": [
    "sent_df.query('st1_cluster == 1').sort_values(by = ['st1_cluster_prob', 'para_pos', 'para_num'], ascending = [False, True, True])"
   ]
  },
  {
   "cell_type": "code",
   "execution_count": 261,
   "id": "kIKHVMBaFIft",
   "metadata": {
    "colab": {
     "base_uri": "https://localhost:8080/",
     "height": 1000
    },
    "id": "kIKHVMBaFIft",
    "outputId": "99cecf4d-f8d5-403d-dbb7-b92a37ab259c"
   },
   "outputs": [
    {
     "data": {
      "text/html": [
       "\n",
       "  <style>\n",
       "    pre {\n",
       "        white-space: pre-wrap;\n",
       "    }\n",
       "  </style>\n",
       "  "
      ],
      "text/plain": [
       "<IPython.core.display.HTML object>"
      ]
     },
     "metadata": {},
     "output_type": "display_data"
    },
    {
     "data": {
      "text/html": [
       "\n",
       "  <style>\n",
       "    pre {\n",
       "        white-space: pre-wrap;\n",
       "    }\n",
       "  </style>\n",
       "  "
      ],
      "text/plain": [
       "<IPython.core.display.HTML object>"
      ]
     },
     "metadata": {},
     "output_type": "display_data"
    },
    {
     "data": {
      "text/html": [
       "\n",
       "  <div id=\"df-493b7fe6-2623-4125-9a59-b9a53c45e12c\">\n",
       "    <div class=\"colab-df-container\">\n",
       "      <div>\n",
       "<style scoped>\n",
       "    .dataframe tbody tr th:only-of-type {\n",
       "        vertical-align: middle;\n",
       "    }\n",
       "\n",
       "    .dataframe tbody tr th {\n",
       "        vertical-align: top;\n",
       "    }\n",
       "\n",
       "    .dataframe thead th {\n",
       "        text-align: right;\n",
       "    }\n",
       "</style>\n",
       "<table border=\"1\" class=\"dataframe\">\n",
       "  <thead>\n",
       "    <tr style=\"text-align: right;\">\n",
       "      <th></th>\n",
       "      <th>sentence</th>\n",
       "      <th>pos</th>\n",
       "      <th>para_num</th>\n",
       "      <th>para_pos</th>\n",
       "      <th>st1_cluster</th>\n",
       "      <th>st1_cluster_prob</th>\n",
       "    </tr>\n",
       "  </thead>\n",
       "  <tbody>\n",
       "    <tr>\n",
       "      <th>272</th>\n",
       "      <td>To say: How are you all doing this?</td>\n",
       "      <td>272</td>\n",
       "      <td>28</td>\n",
       "      <td>4</td>\n",
       "      <td>1</td>\n",
       "      <td>0.903578</td>\n",
       "    </tr>\n",
       "    <tr>\n",
       "      <th>213</th>\n",
       "      <td>She had just finished a revelatory trip to Ind...</td>\n",
       "      <td>213</td>\n",
       "      <td>22</td>\n",
       "      <td>6</td>\n",
       "      <td>1</td>\n",
       "      <td>0.917602</td>\n",
       "    </tr>\n",
       "    <tr>\n",
       "      <th>242</th>\n",
       "      <td>This you come to US approach to the distribute...</td>\n",
       "      <td>242</td>\n",
       "      <td>25</td>\n",
       "      <td>6</td>\n",
       "      <td>1</td>\n",
       "      <td>0.943519</td>\n",
       "    </tr>\n",
       "    <tr>\n",
       "      <th>251</th>\n",
       "      <td>That pace has been shockingly fast and I don't...</td>\n",
       "      <td>251</td>\n",
       "      <td>26</td>\n",
       "      <td>3</td>\n",
       "      <td>1</td>\n",
       "      <td>0.949415</td>\n",
       "    </tr>\n",
       "    <tr>\n",
       "      <th>219</th>\n",
       "      <td>I don't think this is going to work.</td>\n",
       "      <td>219</td>\n",
       "      <td>23</td>\n",
       "      <td>2</td>\n",
       "      <td>1</td>\n",
       "      <td>0.968382</td>\n",
       "    </tr>\n",
       "    <tr>\n",
       "      <th>249</th>\n",
       "      <td>You can't force a school system, much less a s...</td>\n",
       "      <td>249</td>\n",
       "      <td>26</td>\n",
       "      <td>1</td>\n",
       "      <td>1</td>\n",
       "      <td>0.971333</td>\n",
       "    </tr>\n",
       "    <tr>\n",
       "      <th>268</th>\n",
       "      <td>Don't worry!</td>\n",
       "      <td>268</td>\n",
       "      <td>28</td>\n",
       "      <td>0</td>\n",
       "      <td>1</td>\n",
       "      <td>0.991786</td>\n",
       "    </tr>\n",
       "    <tr>\n",
       "      <th>270</th>\n",
       "      <td>We talk about our masters of scale, we go in d...</td>\n",
       "      <td>270</td>\n",
       "      <td>28</td>\n",
       "      <td>2</td>\n",
       "      <td>1</td>\n",
       "      <td>0.993286</td>\n",
       "    </tr>\n",
       "    <tr>\n",
       "      <th>254</th>\n",
       "      <td>That was the AH?</td>\n",
       "      <td>254</td>\n",
       "      <td>27</td>\n",
       "      <td>0</td>\n",
       "      <td>1</td>\n",
       "      <td>0.995795</td>\n",
       "    </tr>\n",
       "    <tr>\n",
       "      <th>255</th>\n",
       "      <td>This is the validation of that network thesis ...</td>\n",
       "      <td>255</td>\n",
       "      <td>27</td>\n",
       "      <td>1</td>\n",
       "      <td>1</td>\n",
       "      <td>0.995795</td>\n",
       "    </tr>\n",
       "    <tr>\n",
       "      <th>214</th>\n",
       "      <td>Teach for all.</td>\n",
       "      <td>214</td>\n",
       "      <td>22</td>\n",
       "      <td>7</td>\n",
       "      <td>1</td>\n",
       "      <td>1.000000</td>\n",
       "    </tr>\n",
       "    <tr>\n",
       "      <th>215</th>\n",
       "      <td>We've decided to set it up as a network of ind...</td>\n",
       "      <td>215</td>\n",
       "      <td>22</td>\n",
       "      <td>8</td>\n",
       "      <td>1</td>\n",
       "      <td>1.000000</td>\n",
       "    </tr>\n",
       "    <tr>\n",
       "      <th>216</th>\n",
       "      <td>This network structure is different from how t...</td>\n",
       "      <td>216</td>\n",
       "      <td>22</td>\n",
       "      <td>9</td>\n",
       "      <td>1</td>\n",
       "      <td>1.000000</td>\n",
       "    </tr>\n",
       "    <tr>\n",
       "      <th>217</th>\n",
       "      <td>There isn't a separate teach for Cleveland tea...</td>\n",
       "      <td>217</td>\n",
       "      <td>23</td>\n",
       "      <td>0</td>\n",
       "      <td>1</td>\n",
       "      <td>1.000000</td>\n",
       "    </tr>\n",
       "    <tr>\n",
       "      <th>218</th>\n",
       "      <td>I had a total panic, like called the person wh...</td>\n",
       "      <td>218</td>\n",
       "      <td>23</td>\n",
       "      <td>1</td>\n",
       "      <td>1</td>\n",
       "      <td>1.000000</td>\n",
       "    </tr>\n",
       "    <tr>\n",
       "      <th>220</th>\n",
       "      <td>I'd learned so much at teach for me about the ...</td>\n",
       "      <td>220</td>\n",
       "      <td>23</td>\n",
       "      <td>3</td>\n",
       "      <td>1</td>\n",
       "      <td>1.000000</td>\n",
       "    </tr>\n",
       "    <tr>\n",
       "      <th>221</th>\n",
       "      <td>You can't blame Wendy for those last minute bu...</td>\n",
       "      <td>221</td>\n",
       "      <td>23</td>\n",
       "      <td>4</td>\n",
       "      <td>1</td>\n",
       "      <td>1.000000</td>\n",
       "    </tr>\n",
       "    <tr>\n",
       "      <th>222</th>\n",
       "      <td>Her prior experience had been building a centr...</td>\n",
       "      <td>222</td>\n",
       "      <td>23</td>\n",
       "      <td>5</td>\n",
       "      <td>1</td>\n",
       "      <td>1.000000</td>\n",
       "    </tr>\n",
       "    <tr>\n",
       "      <th>223</th>\n",
       "      <td>This is a concern for any franchise business.</td>\n",
       "      <td>223</td>\n",
       "      <td>23</td>\n",
       "      <td>6</td>\n",
       "      <td>1</td>\n",
       "      <td>1.000000</td>\n",
       "    </tr>\n",
       "    <tr>\n",
       "      <th>224</th>\n",
       "      <td>There's a certain amount of trust handed to ea...</td>\n",
       "      <td>224</td>\n",
       "      <td>23</td>\n",
       "      <td>7</td>\n",
       "      <td>1</td>\n",
       "      <td>1.000000</td>\n",
       "    </tr>\n",
       "    <tr>\n",
       "      <th>225</th>\n",
       "      <td>What I have seen through teach for all has bee...</td>\n",
       "      <td>225</td>\n",
       "      <td>23</td>\n",
       "      <td>8</td>\n",
       "      <td>1</td>\n",
       "      <td>1.000000</td>\n",
       "    </tr>\n",
       "    <tr>\n",
       "      <th>226</th>\n",
       "      <td>Boggling.</td>\n",
       "      <td>226</td>\n",
       "      <td>24</td>\n",
       "      <td>0</td>\n",
       "      <td>1</td>\n",
       "      <td>1.000000</td>\n",
       "    </tr>\n",
       "    <tr>\n",
       "      <th>227</th>\n",
       "      <td>To me, I mean it shattered all of my preconcep...</td>\n",
       "      <td>227</td>\n",
       "      <td>24</td>\n",
       "      <td>1</td>\n",
       "      <td>1</td>\n",
       "      <td>1.000000</td>\n",
       "    </tr>\n",
       "    <tr>\n",
       "      <th>228</th>\n",
       "      <td>I mean brilliant people all over the world in ...</td>\n",
       "      <td>228</td>\n",
       "      <td>24</td>\n",
       "      <td>2</td>\n",
       "      <td>1</td>\n",
       "      <td>1.000000</td>\n",
       "    </tr>\n",
       "    <tr>\n",
       "      <th>229</th>\n",
       "      <td>Fear of facts, the theory that, when a student...</td>\n",
       "      <td>229</td>\n",
       "      <td>24</td>\n",
       "      <td>3</td>\n",
       "      <td>1</td>\n",
       "      <td>1.000000</td>\n",
       "    </tr>\n",
       "    <tr>\n",
       "      <th>230</th>\n",
       "      <td>So what I've seen is problems resolve themselv...</td>\n",
       "      <td>230</td>\n",
       "      <td>24</td>\n",
       "      <td>4</td>\n",
       "      <td>1</td>\n",
       "      <td>1.000000</td>\n",
       "    </tr>\n",
       "    <tr>\n",
       "      <th>231</th>\n",
       "      <td>This is a phenomena that isn't unique to teach...</td>\n",
       "      <td>231</td>\n",
       "      <td>24</td>\n",
       "      <td>5</td>\n",
       "      <td>1</td>\n",
       "      <td>1.000000</td>\n",
       "    </tr>\n",
       "    <tr>\n",
       "      <th>232</th>\n",
       "      <td>Networks abound from host communities on AIRBNB.</td>\n",
       "      <td>232</td>\n",
       "      <td>24</td>\n",
       "      <td>6</td>\n",
       "      <td>1</td>\n",
       "      <td>1.000000</td>\n",
       "    </tr>\n",
       "    <tr>\n",
       "      <th>233</th>\n",
       "      <td>To wikipedia Wikipedia, in fact, is a perfect ...</td>\n",
       "      <td>233</td>\n",
       "      <td>24</td>\n",
       "      <td>7</td>\n",
       "      <td>1</td>\n",
       "      <td>1.000000</td>\n",
       "    </tr>\n",
       "    <tr>\n",
       "      <th>234</th>\n",
       "      <td>Imagine the errors, embellishments or acts of ...</td>\n",
       "      <td>234</td>\n",
       "      <td>24</td>\n",
       "      <td>8</td>\n",
       "      <td>1</td>\n",
       "      <td>1.000000</td>\n",
       "    </tr>\n",
       "    <tr>\n",
       "      <th>235</th>\n",
       "      <td>This is the sort of pattern wendy saw em merge...</td>\n",
       "      <td>235</td>\n",
       "      <td>24</td>\n",
       "      <td>9</td>\n",
       "      <td>1</td>\n",
       "      <td>1.000000</td>\n",
       "    </tr>\n",
       "    <tr>\n",
       "      <th>236</th>\n",
       "      <td>So I had no option so I was just realizing.</td>\n",
       "      <td>236</td>\n",
       "      <td>25</td>\n",
       "      <td>0</td>\n",
       "      <td>1</td>\n",
       "      <td>1.000000</td>\n",
       "    </tr>\n",
       "    <tr>\n",
       "      <th>237</th>\n",
       "      <td>I need to choose like teach for America needs ...</td>\n",
       "      <td>237</td>\n",
       "      <td>25</td>\n",
       "      <td>1</td>\n",
       "      <td>1</td>\n",
       "      <td>1.000000</td>\n",
       "    </tr>\n",
       "    <tr>\n",
       "      <th>238</th>\n",
       "      <td>We have a set of unifying principles, which yo...</td>\n",
       "      <td>238</td>\n",
       "      <td>25</td>\n",
       "      <td>2</td>\n",
       "      <td>1</td>\n",
       "      <td>1.000000</td>\n",
       "    </tr>\n",
       "    <tr>\n",
       "      <th>239</th>\n",
       "      <td>That's part of teach for all are committed to ...</td>\n",
       "      <td>239</td>\n",
       "      <td>25</td>\n",
       "      <td>3</td>\n",
       "      <td>1</td>\n",
       "      <td>1.000000</td>\n",
       "    </tr>\n",
       "    <tr>\n",
       "      <th>240</th>\n",
       "      <td>We don't go trying to expand into countries.</td>\n",
       "      <td>240</td>\n",
       "      <td>25</td>\n",
       "      <td>4</td>\n",
       "      <td>1</td>\n",
       "      <td>1.000000</td>\n",
       "    </tr>\n",
       "    <tr>\n",
       "      <th>241</th>\n",
       "      <td>We respond to people who come to us and say I ...</td>\n",
       "      <td>241</td>\n",
       "      <td>25</td>\n",
       "      <td>5</td>\n",
       "      <td>1</td>\n",
       "      <td>1.000000</td>\n",
       "    </tr>\n",
       "    <tr>\n",
       "      <th>243</th>\n",
       "      <td>Wendy described for recruiting teacher for Ame...</td>\n",
       "      <td>243</td>\n",
       "      <td>25</td>\n",
       "      <td>7</td>\n",
       "      <td>1</td>\n",
       "      <td>1.000000</td>\n",
       "    </tr>\n",
       "    <tr>\n",
       "      <th>244</th>\n",
       "      <td>We'd have coffee with forty thousand people, a...</td>\n",
       "      <td>244</td>\n",
       "      <td>25</td>\n",
       "      <td>8</td>\n",
       "      <td>1</td>\n",
       "      <td>1.000000</td>\n",
       "    </tr>\n",
       "    <tr>\n",
       "      <th>245</th>\n",
       "      <td>We would most want like.</td>\n",
       "      <td>245</td>\n",
       "      <td>25</td>\n",
       "      <td>9</td>\n",
       "      <td>1</td>\n",
       "      <td>1.000000</td>\n",
       "    </tr>\n",
       "    <tr>\n",
       "      <th>246</th>\n",
       "      <td>What's holding you back, this kind of aggressi...</td>\n",
       "      <td>246</td>\n",
       "      <td>25</td>\n",
       "      <td>10</td>\n",
       "      <td>1</td>\n",
       "      <td>1.000000</td>\n",
       "    </tr>\n",
       "    <tr>\n",
       "      <th>247</th>\n",
       "      <td>Node is going to grow and scale locally.</td>\n",
       "      <td>247</td>\n",
       "      <td>25</td>\n",
       "      <td>11</td>\n",
       "      <td>1</td>\n",
       "      <td>1.000000</td>\n",
       "    </tr>\n",
       "    <tr>\n",
       "      <th>248</th>\n",
       "      <td>It needs to be opted in.</td>\n",
       "      <td>248</td>\n",
       "      <td>26</td>\n",
       "      <td>0</td>\n",
       "      <td>1</td>\n",
       "      <td>1.000000</td>\n",
       "    </tr>\n",
       "    <tr>\n",
       "      <th>250</th>\n",
       "      <td>To do things your way, each new country that j...</td>\n",
       "      <td>250</td>\n",
       "      <td>26</td>\n",
       "      <td>2</td>\n",
       "      <td>1</td>\n",
       "      <td>1.000000</td>\n",
       "    </tr>\n",
       "    <tr>\n",
       "      <th>252</th>\n",
       "      <td>But the question is: how quickly are you solvi...</td>\n",
       "      <td>252</td>\n",
       "      <td>26</td>\n",
       "      <td>4</td>\n",
       "      <td>1</td>\n",
       "      <td>1.000000</td>\n",
       "    </tr>\n",
       "    <tr>\n",
       "      <th>253</th>\n",
       "      <td>was there one particular kind of place where y...</td>\n",
       "      <td>253</td>\n",
       "      <td>26</td>\n",
       "      <td>5</td>\n",
       "      <td>1</td>\n",
       "      <td>1.000000</td>\n",
       "    </tr>\n",
       "    <tr>\n",
       "      <th>256</th>\n",
       "      <td>This really struck me was in India.</td>\n",
       "      <td>256</td>\n",
       "      <td>27</td>\n",
       "      <td>2</td>\n",
       "      <td>1</td>\n",
       "      <td>1.000000</td>\n",
       "    </tr>\n",
       "    <tr>\n",
       "      <th>258</th>\n",
       "      <td>Trying to figure out is how do we grow the per...</td>\n",
       "      <td>258</td>\n",
       "      <td>27</td>\n",
       "      <td>4</td>\n",
       "      <td>1</td>\n",
       "      <td>1.000000</td>\n",
       "    </tr>\n",
       "    <tr>\n",
       "      <th>259</th>\n",
       "      <td>There are really good teachers, and then there...</td>\n",
       "      <td>259</td>\n",
       "      <td>27</td>\n",
       "      <td>5</td>\n",
       "      <td>1</td>\n",
       "      <td>1.000000</td>\n",
       "    </tr>\n",
       "    <tr>\n",
       "      <th>260</th>\n",
       "      <td>Remember it was in India that Wendy saw ten pe...</td>\n",
       "      <td>260</td>\n",
       "      <td>27</td>\n",
       "      <td>6</td>\n",
       "      <td>1</td>\n",
       "      <td>1.000000</td>\n",
       "    </tr>\n",
       "    <tr>\n",
       "      <th>261</th>\n",
       "      <td>That percentage had delighted Wendy, even as i...</td>\n",
       "      <td>261</td>\n",
       "      <td>27</td>\n",
       "      <td>7</td>\n",
       "      <td>1</td>\n",
       "      <td>1.000000</td>\n",
       "    </tr>\n",
       "    <tr>\n",
       "      <th>262</th>\n",
       "      <td>Keep that in mind when you hear this next stor...</td>\n",
       "      <td>262</td>\n",
       "      <td>27</td>\n",
       "      <td>8</td>\n",
       "      <td>1</td>\n",
       "      <td>1.000000</td>\n",
       "    </tr>\n",
       "    <tr>\n",
       "      <th>263</th>\n",
       "      <td>They might have more percentage, wise, truly t...</td>\n",
       "      <td>263</td>\n",
       "      <td>27</td>\n",
       "      <td>9</td>\n",
       "      <td>1</td>\n",
       "      <td>1.000000</td>\n",
       "    </tr>\n",
       "    <tr>\n",
       "      <th>264</th>\n",
       "      <td>Then then we had Shaheen had taken what we had...</td>\n",
       "      <td>264</td>\n",
       "      <td>27</td>\n",
       "      <td>10</td>\n",
       "      <td>1</td>\n",
       "      <td>1.000000</td>\n",
       "    </tr>\n",
       "    <tr>\n",
       "      <th>265</th>\n",
       "      <td>She said, okay, ninety percent of it it teach ...</td>\n",
       "      <td>265</td>\n",
       "      <td>27</td>\n",
       "      <td>11</td>\n",
       "      <td>1</td>\n",
       "      <td>1.000000</td>\n",
       "    </tr>\n",
       "    <tr>\n",
       "      <th>266</th>\n",
       "      <td>Maybe ten percent is working on people's minds...</td>\n",
       "      <td>266</td>\n",
       "      <td>27</td>\n",
       "      <td>12</td>\n",
       "      <td>1</td>\n",
       "      <td>1.000000</td>\n",
       "    </tr>\n",
       "    <tr>\n",
       "      <th>267</th>\n",
       "      <td>She's like we're going to get thirty or forty ...</td>\n",
       "      <td>267</td>\n",
       "      <td>27</td>\n",
       "      <td>13</td>\n",
       "      <td>1</td>\n",
       "      <td>1.000000</td>\n",
       "    </tr>\n",
       "    <tr>\n",
       "      <th>269</th>\n",
       "      <td>This isn't all that different from the mindset...</td>\n",
       "      <td>269</td>\n",
       "      <td>28</td>\n",
       "      <td>1</td>\n",
       "      <td>1</td>\n",
       "      <td>1.000000</td>\n",
       "    </tr>\n",
       "  </tbody>\n",
       "</table>\n",
       "</div>\n",
       "      <button class=\"colab-df-convert\" onclick=\"convertToInteractive('df-493b7fe6-2623-4125-9a59-b9a53c45e12c')\"\n",
       "              title=\"Convert this dataframe to an interactive table.\"\n",
       "              style=\"display:none;\">\n",
       "        \n",
       "  <svg xmlns=\"http://www.w3.org/2000/svg\" height=\"24px\"viewBox=\"0 0 24 24\"\n",
       "       width=\"24px\">\n",
       "    <path d=\"M0 0h24v24H0V0z\" fill=\"none\"/>\n",
       "    <path d=\"M18.56 5.44l.94 2.06.94-2.06 2.06-.94-2.06-.94-.94-2.06-.94 2.06-2.06.94zm-11 1L8.5 8.5l.94-2.06 2.06-.94-2.06-.94L8.5 2.5l-.94 2.06-2.06.94zm10 10l.94 2.06.94-2.06 2.06-.94-2.06-.94-.94-2.06-.94 2.06-2.06.94z\"/><path d=\"M17.41 7.96l-1.37-1.37c-.4-.4-.92-.59-1.43-.59-.52 0-1.04.2-1.43.59L10.3 9.45l-7.72 7.72c-.78.78-.78 2.05 0 2.83L4 21.41c.39.39.9.59 1.41.59.51 0 1.02-.2 1.41-.59l7.78-7.78 2.81-2.81c.8-.78.8-2.07 0-2.86zM5.41 20L4 18.59l7.72-7.72 1.47 1.35L5.41 20z\"/>\n",
       "  </svg>\n",
       "      </button>\n",
       "      \n",
       "  <style>\n",
       "    .colab-df-container {\n",
       "      display:flex;\n",
       "      flex-wrap:wrap;\n",
       "      gap: 12px;\n",
       "    }\n",
       "\n",
       "    .colab-df-convert {\n",
       "      background-color: #E8F0FE;\n",
       "      border: none;\n",
       "      border-radius: 50%;\n",
       "      cursor: pointer;\n",
       "      display: none;\n",
       "      fill: #1967D2;\n",
       "      height: 32px;\n",
       "      padding: 0 0 0 0;\n",
       "      width: 32px;\n",
       "    }\n",
       "\n",
       "    .colab-df-convert:hover {\n",
       "      background-color: #E2EBFA;\n",
       "      box-shadow: 0px 1px 2px rgba(60, 64, 67, 0.3), 0px 1px 3px 1px rgba(60, 64, 67, 0.15);\n",
       "      fill: #174EA6;\n",
       "    }\n",
       "\n",
       "    [theme=dark] .colab-df-convert {\n",
       "      background-color: #3B4455;\n",
       "      fill: #D2E3FC;\n",
       "    }\n",
       "\n",
       "    [theme=dark] .colab-df-convert:hover {\n",
       "      background-color: #434B5C;\n",
       "      box-shadow: 0px 1px 3px 1px rgba(0, 0, 0, 0.15);\n",
       "      filter: drop-shadow(0px 1px 2px rgba(0, 0, 0, 0.3));\n",
       "      fill: #FFFFFF;\n",
       "    }\n",
       "  </style>\n",
       "\n",
       "      <script>\n",
       "        const buttonEl =\n",
       "          document.querySelector('#df-493b7fe6-2623-4125-9a59-b9a53c45e12c button.colab-df-convert');\n",
       "        buttonEl.style.display =\n",
       "          google.colab.kernel.accessAllowed ? 'block' : 'none';\n",
       "\n",
       "        async function convertToInteractive(key) {\n",
       "          const element = document.querySelector('#df-493b7fe6-2623-4125-9a59-b9a53c45e12c');\n",
       "          const dataTable =\n",
       "            await google.colab.kernel.invokeFunction('convertToInteractive',\n",
       "                                                     [key], {});\n",
       "          if (!dataTable) return;\n",
       "\n",
       "          const docLinkHtml = 'Like what you see? Visit the ' +\n",
       "            '<a target=\"_blank\" href=https://colab.research.google.com/notebooks/data_table.ipynb>data table notebook</a>'\n",
       "            + ' to learn more about interactive tables.';\n",
       "          element.innerHTML = '';\n",
       "          dataTable['output_type'] = 'display_data';\n",
       "          await google.colab.output.renderOutput(dataTable, element);\n",
       "          const docLink = document.createElement('div');\n",
       "          docLink.innerHTML = docLinkHtml;\n",
       "          element.appendChild(docLink);\n",
       "        }\n",
       "      </script>\n",
       "    </div>\n",
       "  </div>\n",
       "  "
      ],
      "text/plain": [
       "                                              sentence  pos  para_num  \\\n",
       "272                To say: How are you all doing this?  272        28   \n",
       "213  She had just finished a revelatory trip to Ind...  213        22   \n",
       "242  This you come to US approach to the distribute...  242        25   \n",
       "251  That pace has been shockingly fast and I don't...  251        26   \n",
       "219               I don't think this is going to work.  219        23   \n",
       "249  You can't force a school system, much less a s...  249        26   \n",
       "268                                       Don't worry!  268        28   \n",
       "270  We talk about our masters of scale, we go in d...  270        28   \n",
       "254                                   That was the AH?  254        27   \n",
       "255  This is the validation of that network thesis ...  255        27   \n",
       "214                                     Teach for all.  214        22   \n",
       "215  We've decided to set it up as a network of ind...  215        22   \n",
       "216  This network structure is different from how t...  216        22   \n",
       "217  There isn't a separate teach for Cleveland tea...  217        23   \n",
       "218  I had a total panic, like called the person wh...  218        23   \n",
       "220  I'd learned so much at teach for me about the ...  220        23   \n",
       "221  You can't blame Wendy for those last minute bu...  221        23   \n",
       "222  Her prior experience had been building a centr...  222        23   \n",
       "223      This is a concern for any franchise business.  223        23   \n",
       "224  There's a certain amount of trust handed to ea...  224        23   \n",
       "225  What I have seen through teach for all has bee...  225        23   \n",
       "226                                          Boggling.  226        24   \n",
       "227  To me, I mean it shattered all of my preconcep...  227        24   \n",
       "228  I mean brilliant people all over the world in ...  228        24   \n",
       "229  Fear of facts, the theory that, when a student...  229        24   \n",
       "230  So what I've seen is problems resolve themselv...  230        24   \n",
       "231  This is a phenomena that isn't unique to teach...  231        24   \n",
       "232   Networks abound from host communities on AIRBNB.  232        24   \n",
       "233  To wikipedia Wikipedia, in fact, is a perfect ...  233        24   \n",
       "234  Imagine the errors, embellishments or acts of ...  234        24   \n",
       "235  This is the sort of pattern wendy saw em merge...  235        24   \n",
       "236        So I had no option so I was just realizing.  236        25   \n",
       "237  I need to choose like teach for America needs ...  237        25   \n",
       "238  We have a set of unifying principles, which yo...  238        25   \n",
       "239  That's part of teach for all are committed to ...  239        25   \n",
       "240       We don't go trying to expand into countries.  240        25   \n",
       "241  We respond to people who come to us and say I ...  241        25   \n",
       "243  Wendy described for recruiting teacher for Ame...  243        25   \n",
       "244  We'd have coffee with forty thousand people, a...  244        25   \n",
       "245                           We would most want like.  245        25   \n",
       "246  What's holding you back, this kind of aggressi...  246        25   \n",
       "247           Node is going to grow and scale locally.  247        25   \n",
       "248                           It needs to be opted in.  248        26   \n",
       "250  To do things your way, each new country that j...  250        26   \n",
       "252  But the question is: how quickly are you solvi...  252        26   \n",
       "253  was there one particular kind of place where y...  253        26   \n",
       "256                This really struck me was in India.  256        27   \n",
       "258  Trying to figure out is how do we grow the per...  258        27   \n",
       "259  There are really good teachers, and then there...  259        27   \n",
       "260  Remember it was in India that Wendy saw ten pe...  260        27   \n",
       "261  That percentage had delighted Wendy, even as i...  261        27   \n",
       "262  Keep that in mind when you hear this next stor...  262        27   \n",
       "263  They might have more percentage, wise, truly t...  263        27   \n",
       "264  Then then we had Shaheen had taken what we had...  264        27   \n",
       "265  She said, okay, ninety percent of it it teach ...  265        27   \n",
       "266  Maybe ten percent is working on people's minds...  266        27   \n",
       "267  She's like we're going to get thirty or forty ...  267        27   \n",
       "269  This isn't all that different from the mindset...  269        28   \n",
       "\n",
       "     para_pos  st1_cluster  st1_cluster_prob  \n",
       "272         4            1          0.903578  \n",
       "213         6            1          0.917602  \n",
       "242         6            1          0.943519  \n",
       "251         3            1          0.949415  \n",
       "219         2            1          0.968382  \n",
       "249         1            1          0.971333  \n",
       "268         0            1          0.991786  \n",
       "270         2            1          0.993286  \n",
       "254         0            1          0.995795  \n",
       "255         1            1          0.995795  \n",
       "214         7            1          1.000000  \n",
       "215         8            1          1.000000  \n",
       "216         9            1          1.000000  \n",
       "217         0            1          1.000000  \n",
       "218         1            1          1.000000  \n",
       "220         3            1          1.000000  \n",
       "221         4            1          1.000000  \n",
       "222         5            1          1.000000  \n",
       "223         6            1          1.000000  \n",
       "224         7            1          1.000000  \n",
       "225         8            1          1.000000  \n",
       "226         0            1          1.000000  \n",
       "227         1            1          1.000000  \n",
       "228         2            1          1.000000  \n",
       "229         3            1          1.000000  \n",
       "230         4            1          1.000000  \n",
       "231         5            1          1.000000  \n",
       "232         6            1          1.000000  \n",
       "233         7            1          1.000000  \n",
       "234         8            1          1.000000  \n",
       "235         9            1          1.000000  \n",
       "236         0            1          1.000000  \n",
       "237         1            1          1.000000  \n",
       "238         2            1          1.000000  \n",
       "239         3            1          1.000000  \n",
       "240         4            1          1.000000  \n",
       "241         5            1          1.000000  \n",
       "243         7            1          1.000000  \n",
       "244         8            1          1.000000  \n",
       "245         9            1          1.000000  \n",
       "246        10            1          1.000000  \n",
       "247        11            1          1.000000  \n",
       "248         0            1          1.000000  \n",
       "250         2            1          1.000000  \n",
       "252         4            1          1.000000  \n",
       "253         5            1          1.000000  \n",
       "256         2            1          1.000000  \n",
       "258         4            1          1.000000  \n",
       "259         5            1          1.000000  \n",
       "260         6            1          1.000000  \n",
       "261         7            1          1.000000  \n",
       "262         8            1          1.000000  \n",
       "263         9            1          1.000000  \n",
       "264        10            1          1.000000  \n",
       "265        11            1          1.000000  \n",
       "266        12            1          1.000000  \n",
       "267        13            1          1.000000  \n",
       "269         1            1          1.000000  "
      ]
     },
     "execution_count": 261,
     "metadata": {},
     "output_type": "execute_result"
    }
   ],
   "source": [
    "sent_df.query('st1_cluster == 1').sort_values(by = ['st1_cluster_prob', 'pos'])"
   ]
  },
  {
   "cell_type": "code",
   "execution_count": 262,
   "id": "WwvgC0vPJez6",
   "metadata": {
    "colab": {
     "base_uri": "https://localhost:8080/",
     "height": 17
    },
    "id": "WwvgC0vPJez6",
    "outputId": "6a3a345c-47f2-4fe1-eab3-103296b2389a"
   },
   "outputs": [
    {
     "data": {
      "text/html": [
       "\n",
       "  <style>\n",
       "    pre {\n",
       "        white-space: pre-wrap;\n",
       "    }\n",
       "  </style>\n",
       "  "
      ],
      "text/plain": [
       "<IPython.core.display.HTML object>"
      ]
     },
     "metadata": {},
     "output_type": "display_data"
    },
    {
     "data": {
      "text/html": [
       "\n",
       "  <style>\n",
       "    pre {\n",
       "        white-space: pre-wrap;\n",
       "    }\n",
       "  </style>\n",
       "  "
      ],
      "text/plain": [
       "<IPython.core.display.HTML object>"
      ]
     },
     "metadata": {},
     "output_type": "display_data"
    }
   ],
   "source": [
    "para_beginnings = sent_df.query('para_pos < 2 & st1_cluster_prob > 0.85')"
   ]
  },
  {
   "cell_type": "code",
   "execution_count": 263,
   "id": "nm7EdNFqLuh0",
   "metadata": {
    "colab": {
     "base_uri": "https://localhost:8080/",
     "height": 374
    },
    "id": "nm7EdNFqLuh0",
    "outputId": "0dc42c25-48ad-42b4-ac14-6e827165b678"
   },
   "outputs": [
    {
     "data": {
      "text/html": [
       "\n",
       "  <style>\n",
       "    pre {\n",
       "        white-space: pre-wrap;\n",
       "    }\n",
       "  </style>\n",
       "  "
      ],
      "text/plain": [
       "<IPython.core.display.HTML object>"
      ]
     },
     "metadata": {},
     "output_type": "display_data"
    },
    {
     "data": {
      "text/html": [
       "\n",
       "  <style>\n",
       "    pre {\n",
       "        white-space: pre-wrap;\n",
       "    }\n",
       "  </style>\n",
       "  "
      ],
      "text/plain": [
       "<IPython.core.display.HTML object>"
      ]
     },
     "metadata": {},
     "output_type": "display_data"
    },
    {
     "data": {
      "text/plain": [
       "st1_cluster\n",
       "2     74\n",
       "1     58\n",
       "4     20\n",
       "8     20\n",
       "0     18\n",
       "7     16\n",
       "10    14\n",
       "17    14\n",
       "15    12\n",
       "9     12\n",
       "5      8\n",
       "12     7\n",
       "11     6\n",
       "13     6\n",
       "14     6\n",
       "3      5\n",
       "16     5\n",
       "6      4\n",
       "Name: sentence, dtype: int64"
      ]
     },
     "execution_count": 263,
     "metadata": {},
     "output_type": "execute_result"
    }
   ],
   "source": [
    "sent_df.query('st1_cluster != -1').groupby(\"st1_cluster\")[\"sentence\"].count().sort_values(ascending = False)"
   ]
  },
  {
   "cell_type": "code",
   "execution_count": 264,
   "id": "N2F-hxBHJsuQ",
   "metadata": {
    "colab": {
     "base_uri": "https://localhost:8080/",
     "height": 321
    },
    "id": "N2F-hxBHJsuQ",
    "outputId": "0b0c92c9-5558-453f-f301-8865ddd1b277"
   },
   "outputs": [
    {
     "data": {
      "text/html": [
       "\n",
       "  <style>\n",
       "    pre {\n",
       "        white-space: pre-wrap;\n",
       "    }\n",
       "  </style>\n",
       "  "
      ],
      "text/plain": [
       "<IPython.core.display.HTML object>"
      ]
     },
     "metadata": {},
     "output_type": "display_data"
    },
    {
     "data": {
      "text/html": [
       "\n",
       "  <style>\n",
       "    pre {\n",
       "        white-space: pre-wrap;\n",
       "    }\n",
       "  </style>\n",
       "  "
      ],
      "text/plain": [
       "<IPython.core.display.HTML object>"
      ]
     },
     "metadata": {},
     "output_type": "display_data"
    },
    {
     "data": {
      "text/plain": [
       "st1_cluster\n",
       "0      4\n",
       "1     12\n",
       "2     10\n",
       "3      2\n",
       "4      1\n",
       "6      1\n",
       "7      2\n",
       "8      5\n",
       "9      1\n",
       "11     1\n",
       "12     2\n",
       "14     1\n",
       "15     3\n",
       "16     1\n",
       "17     3\n",
       "Name: sentence, dtype: int64"
      ]
     },
     "execution_count": 264,
     "metadata": {},
     "output_type": "execute_result"
    }
   ],
   "source": [
    "para_beginnings.groupby(\"st1_cluster\")[\"sentence\"].count()"
   ]
  },
  {
   "cell_type": "code",
   "execution_count": 281,
   "id": "7HM--8wjITm3",
   "metadata": {
    "colab": {
     "base_uri": "https://localhost:8080/",
     "height": 17
    },
    "id": "7HM--8wjITm3",
    "outputId": "8cce7597-002a-483e-d4ce-ca3581fd4608"
   },
   "outputs": [
    {
     "data": {
      "text/html": [
       "\n",
       "  <style>\n",
       "    pre {\n",
       "        white-space: pre-wrap;\n",
       "    }\n",
       "  </style>\n",
       "  "
      ],
      "text/plain": [
       "<IPython.core.display.HTML object>"
      ]
     },
     "metadata": {},
     "output_type": "display_data"
    },
    {
     "data": {
      "text/html": [
       "\n",
       "  <style>\n",
       "    pre {\n",
       "        white-space: pre-wrap;\n",
       "    }\n",
       "  </style>\n",
       "  "
      ],
      "text/plain": [
       "<IPython.core.display.HTML object>"
      ]
     },
     "metadata": {},
     "output_type": "display_data"
    }
   ],
   "source": [
    "def create_highlights(sent_df, sentences):\n",
    "  def get_sentence(position):\n",
    "    return sentences[position]\n",
    "\n",
    "  total_sentences = len(sent_df)\n",
    "  clusters = sent_df.query('st1_cluster != -1').groupby(\"st1_cluster\")[\"sentence\"].count().sort_values(ascending = False).tolist()\n",
    "  para_beginnings = sent_df.query('para_pos < 2 & st1_cluster_prob > 0.85')\n",
    "  highlights = set([0,1,2])\n",
    "  chunks = {0 : [0, 1, 2]}\n",
    "  change = True\n",
    "  count = 1\n",
    "  while len(highlights) <= 20:\n",
    "    if change == False:\n",
    "      break\n",
    "    change = False\n",
    "    for cluster in clusters:\n",
    "      candidates = para_beginnings.query('st1_cluster == '+ str(cluster)).sort_values(by = ['pos'])['pos'].tolist()\n",
    "      for candidate in candidates:\n",
    "        if len(sentences[candidate]) < 50:\n",
    "          continue\n",
    "        if candidate not in highlights:\n",
    "          highlights.add(candidate)\n",
    "          chunks[count] = [candidate]\n",
    "          if (candidate + 1) <= (total_sentences-1):\n",
    "            highlights.add(candidate + 1)\n",
    "            chunks[count].append(candidate+1)\n",
    "          count += 1\n",
    "          change = True\n",
    "          break\n",
    "  \n",
    "  chunks = sorted(chunks.values(), key=lambda item: item[0])\n",
    "  final_hl = {}\n",
    "  count = 0\n",
    "  for chunk in chunks:\n",
    "    final_hl[count] = \" \".join(map(get_sentence, chunk))\n",
    "    count += 1\n",
    "  return final_hl"
   ]
  },
  {
   "cell_type": "code",
   "execution_count": null,
   "id": "PVBEfxuXzNt8",
   "metadata": {
    "id": "PVBEfxuXzNt8"
   },
   "outputs": [],
   "source": [
    "from google.colab import drive\n",
    "drive.mount('/content/drive')"
   ]
  },
  {
   "cell_type": "code",
   "execution_count": 282,
   "id": "CJ0DbW8vVm50",
   "metadata": {
    "colab": {
     "base_uri": "https://localhost:8080/",
     "height": 17
    },
    "id": "CJ0DbW8vVm50",
    "outputId": "6c4804a9-1b28-4d7e-ceb7-2014659ae50a"
   },
   "outputs": [
    {
     "data": {
      "text/html": [
       "\n",
       "  <style>\n",
       "    pre {\n",
       "        white-space: pre-wrap;\n",
       "    }\n",
       "  </style>\n",
       "  "
      ],
      "text/plain": [
       "<IPython.core.display.HTML object>"
      ]
     },
     "metadata": {},
     "output_type": "display_data"
    },
    {
     "data": {
      "text/html": [
       "\n",
       "  <style>\n",
       "    pre {\n",
       "        white-space: pre-wrap;\n",
       "    }\n",
       "  </style>\n",
       "  "
      ],
      "text/plain": [
       "<IPython.core.display.HTML object>"
      ]
     },
     "metadata": {},
     "output_type": "display_data"
    }
   ],
   "source": [
    "res =create_highlights(sent_df, sentences)"
   ]
  },
  {
   "cell_type": "code",
   "execution_count": 283,
   "id": "qsn3NYErVq8i",
   "metadata": {
    "colab": {
     "base_uri": "https://localhost:8080/",
     "height": 803
    },
    "id": "qsn3NYErVq8i",
    "outputId": "25beec39-7c1c-43e4-ce42-f8c8a370d75c"
   },
   "outputs": [
    {
     "data": {
      "text/html": [
       "\n",
       "  <style>\n",
       "    pre {\n",
       "        white-space: pre-wrap;\n",
       "    }\n",
       "  </style>\n",
       "  "
      ],
      "text/plain": [
       "<IPython.core.display.HTML object>"
      ]
     },
     "metadata": {},
     "output_type": "display_data"
    },
    {
     "data": {
      "text/html": [
       "\n",
       "  <style>\n",
       "    pre {\n",
       "        white-space: pre-wrap;\n",
       "    }\n",
       "  </style>\n",
       "  "
      ],
      "text/plain": [
       "<IPython.core.display.HTML object>"
      ]
     },
     "metadata": {},
     "output_type": "display_data"
    },
    {
     "data": {
      "text/plain": [
       "{0: \"Hi Listeners, it's read here with some exciting news. The master scale book is now on sale. If you enjoy this podcast you're absolute going to love this book, the Master Scale Book Delivers Real Entrepreneurial Wisdom and some of the most transformative business advice.\",\n",
       " 1: \"My Africanamerican kids, it was easier to teach them to read and write and harder to teach them to speak, and so we did a lot in pairs so that they could build off of one another's strengths and weaknesses. I wanted them to learn some Spanish.\",\n",
       " 2: 'These products did not arrive until December twenty. Third, how did Matthew break the bad news to his customers and how did that experience influence?',\n",
       " 3: \"I wanted to talk to Wendy cop about this, because she's thought of not just one but two networks across her career. The first teach for America was a brand new model for connecting high performing college graduates with underserved school districts across the country since they're founding in one thousand nine hundred ninety they have trained and placed over sixty thousand new teachers across the United States, with teach for all.\",\n",
       " 4: \"I was just searching for something I wasn't finding in terms of what I wanted to do with my life, I mean I'd, become a you know, very concerned college student concerned about the inequities in our country and all the recruiters in one thousand nine hundred. Eighty nine have liberal arts graduates like myself were investment banks, AD management, consulting firms banging down our doors, saying commit just two years to work in our firms, and I just I really didn't want to do that.\",\n",
       " 5: \"Wasn't an education major, but the desperate state of the country school systems had been all over the news I became obsessed with that idea like it was my answer to what to do, and it was my thesis topic which I also hadn't thought of Wendy might have written her thesis gotten in her grade and been done with it, but the more she researched the more the idea wouldn't let go which led to a classic entrepreneurship moment. You might recognize when I started writing the thesis, it wasn't to say, I'm going to start this.\",\n",
       " 6: 'It just felt to me like the window was going to pass like the Moudon College. Campuses is perfect.',\n",
       " 7: \"For instance, we had no plan for what to do when twenty five hundred applications came in and needed to be reviewed like we did have people interviewing, but there was just never thought given to WHO's going to review those applications and figure out who we're selecting. But despite the youth and the inexperience of her small team, it all managed to come together.\",\n",
       " 8: 'We hit the wall like year, for I call these the dark years. We spent three years where literally every two weeks, I was truly uncertain that we would have the money to meet payroll.'}"
      ]
     },
     "execution_count": 283,
     "metadata": {},
     "output_type": "execute_result"
    }
   ],
   "source": [
    "res"
   ]
  },
  {
   "cell_type": "code",
   "execution_count": null,
   "id": "lojiuMH0acLA",
   "metadata": {
    "id": "lojiuMH0acLA"
   },
   "outputs": [],
   "source": []
  }
 ],
 "metadata": {
  "colab": {
   "provenance": []
  },
  "kernelspec": {
   "display_name": "Python 3 (ipykernel)",
   "language": "python",
   "name": "python3"
  },
  "language_info": {
   "codemirror_mode": {
    "name": "ipython",
    "version": 3
   },
   "file_extension": ".py",
   "mimetype": "text/x-python",
   "name": "python",
   "nbconvert_exporter": "python",
   "pygments_lexer": "ipython3",
   "version": "3.9.13"
  }
 },
 "nbformat": 4,
 "nbformat_minor": 5
}
